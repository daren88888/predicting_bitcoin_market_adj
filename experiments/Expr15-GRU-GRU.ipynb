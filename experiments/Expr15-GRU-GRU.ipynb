<!DOCTYPE html>
<html>
<head><meta charset="utf-8" />

<title>Expr15-GRU-GRU</title>

<script src="https://cdnjs.cloudflare.com/ajax/libs/require.js/2.1.10/require.min.js"></script>
<script src="https://cdnjs.cloudflare.com/ajax/libs/jquery/2.0.3/jquery.min.js"></script>



<style type="text/css">
    /*!
*
* Twitter Bootstrap
*
*/
/*!
 * Bootstrap v3.3.7 (http://getbootstrap.com)
 * Copyright 2011-2016 Twitter, Inc.
 * Licensed under MIT (https://github.com/twbs/bootstrap/blob/master/LICENSE)
 */
/*! normalize.css v3.0.3 | MIT License | github.com/necolas/normalize.css */
html {
  font-family: sans-serif;
  -ms-text-size-adjust: 100%;
  -webkit-text-size-adjust: 100%;
}
body {
  margin: 0;
}
article,
aside,
details,
figcaption,
figure,
footer,
header,
hgroup,
main,
menu,
nav,
section,
summary {
  display: block;
}
audio,
canvas,
progress,
video {
  display: inline-block;
  vertical-align: baseline;
}
audio:not([controls]) {
  display: none;
  height: 0;
}
[hidden],
template {
  display: none;
}
a {
  background-color: transparent;
}
a:active,
a:hover {
  outline: 0;
}
abbr[title] {
  border-bottom: 1px dotted;
}
b,
strong {
  font-weight: bold;
}
dfn {
  font-style: italic;
}
h1 {
  font-size: 2em;
  margin: 0.67em 0;
}
mark {
  background: #ff0;
  color: #000;
}
small {
  font-size: 80%;
}
sub,
sup {
  font-size: 75%;
  line-height: 0;
  position: relative;
  vertical-align: baseline;
}
sup {
  top: -0.5em;
}
sub {
  bottom: -0.25em;
}
img {
  border: 0;
}
svg:not(:root) {
  overflow: hidden;
}
figure {
  margin: 1em 40px;
}
hr {
  box-sizing: content-box;
  height: 0;
}
pre {
  overflow: auto;
}
code,
kbd,
pre,
samp {
  font-family: monospace, monospace;
  font-size: 1em;
}
button,
input,
optgroup,
select,
textarea {
  color: inherit;
  font: inherit;
  margin: 0;
}
button {
  overflow: visible;
}
button,
select {
  text-transform: none;
}
button,
html input[type="button"],
input[type="reset"],
input[type="submit"] {
  -webkit-appearance: button;
  cursor: pointer;
}
button[disabled],
html input[disabled] {
  cursor: default;
}
button::-moz-focus-inner,
input::-moz-focus-inner {
  border: 0;
  padding: 0;
}
input {
  line-height: normal;
}
input[type="checkbox"],
input[type="radio"] {
  box-sizing: border-box;
  padding: 0;
}
input[type="number"]::-webkit-inner-spin-button,
input[type="number"]::-webkit-outer-spin-button {
  height: auto;
}
input[type="search"] {
  -webkit-appearance: textfield;
  box-sizing: content-box;
}
input[type="search"]::-webkit-search-cancel-button,
input[type="search"]::-webkit-search-decoration {
  -webkit-appearance: none;
}
fieldset {
  border: 1px solid #c0c0c0;
  margin: 0 2px;
  padding: 0.35em 0.625em 0.75em;
}
legend {
  border: 0;
  padding: 0;
}
textarea {
  overflow: auto;
}
optgroup {
  font-weight: bold;
}
table {
  border-collapse: collapse;
  border-spacing: 0;
}
td,
th {
  padding: 0;
}
/*! Source: https://github.com/h5bp/html5-boilerplate/blob/master/src/css/main.css */
@media print {
  *,
  *:before,
  *:after {
    background: transparent !important;
    box-shadow: none !important;
    text-shadow: none !important;
  }
  a,
  a:visited {
    text-decoration: underline;
  }
  a[href]:after {
    content: " (" attr(href) ")";
  }
  abbr[title]:after {
    content: " (" attr(title) ")";
  }
  a[href^="#"]:after,
  a[href^="javascript:"]:after {
    content: "";
  }
  pre,
  blockquote {
    border: 1px solid #999;
    page-break-inside: avoid;
  }
  thead {
    display: table-header-group;
  }
  tr,
  img {
    page-break-inside: avoid;
  }
  img {
    max-width: 100% !important;
  }
  p,
  h2,
  h3 {
    orphans: 3;
    widows: 3;
  }
  h2,
  h3 {
    page-break-after: avoid;
  }
  .navbar {
    display: none;
  }
  .btn > .caret,
  .dropup > .btn > .caret {
    border-top-color: #000 !important;
  }
  .label {
    border: 1px solid #000;
  }
  .table {
    border-collapse: collapse !important;
  }
  .table td,
  .table th {
    background-color: #fff !important;
  }
  .table-bordered th,
  .table-bordered td {
    border: 1px solid #ddd !important;
  }
}
@font-face {
  font-family: 'Glyphicons Halflings';
  src: url('../components/bootstrap/fonts/glyphicons-halflings-regular.eot');
  src: url('../components/bootstrap/fonts/glyphicons-halflings-regular.eot?#iefix') format('embedded-opentype'), url('../components/bootstrap/fonts/glyphicons-halflings-regular.woff2') format('woff2'), url('../components/bootstrap/fonts/glyphicons-halflings-regular.woff') format('woff'), url('../components/bootstrap/fonts/glyphicons-halflings-regular.ttf') format('truetype'), url('../components/bootstrap/fonts/glyphicons-halflings-regular.svg#glyphicons_halflingsregular') format('svg');
}
.glyphicon {
  position: relative;
  top: 1px;
  display: inline-block;
  font-family: 'Glyphicons Halflings';
  font-style: normal;
  font-weight: normal;
  line-height: 1;
  -webkit-font-smoothing: antialiased;
  -moz-osx-font-smoothing: grayscale;
}
.glyphicon-asterisk:before {
  content: "\002a";
}
.glyphicon-plus:before {
  content: "\002b";
}
.glyphicon-euro:before,
.glyphicon-eur:before {
  content: "\20ac";
}
.glyphicon-minus:before {
  content: "\2212";
}
.glyphicon-cloud:before {
  content: "\2601";
}
.glyphicon-envelope:before {
  content: "\2709";
}
.glyphicon-pencil:before {
  content: "\270f";
}
.glyphicon-glass:before {
  content: "\e001";
}
.glyphicon-music:before {
  content: "\e002";
}
.glyphicon-search:before {
  content: "\e003";
}
.glyphicon-heart:before {
  content: "\e005";
}
.glyphicon-star:before {
  content: "\e006";
}
.glyphicon-star-empty:before {
  content: "\e007";
}
.glyphicon-user:before {
  content: "\e008";
}
.glyphicon-film:before {
  content: "\e009";
}
.glyphicon-th-large:before {
  content: "\e010";
}
.glyphicon-th:before {
  content: "\e011";
}
.glyphicon-th-list:before {
  content: "\e012";
}
.glyphicon-ok:before {
  content: "\e013";
}
.glyphicon-remove:before {
  content: "\e014";
}
.glyphicon-zoom-in:before {
  content: "\e015";
}
.glyphicon-zoom-out:before {
  content: "\e016";
}
.glyphicon-off:before {
  content: "\e017";
}
.glyphicon-signal:before {
  content: "\e018";
}
.glyphicon-cog:before {
  content: "\e019";
}
.glyphicon-trash:before {
  content: "\e020";
}
.glyphicon-home:before {
  content: "\e021";
}
.glyphicon-file:before {
  content: "\e022";
}
.glyphicon-time:before {
  content: "\e023";
}
.glyphicon-road:before {
  content: "\e024";
}
.glyphicon-download-alt:before {
  content: "\e025";
}
.glyphicon-download:before {
  content: "\e026";
}
.glyphicon-upload:before {
  content: "\e027";
}
.glyphicon-inbox:before {
  content: "\e028";
}
.glyphicon-play-circle:before {
  content: "\e029";
}
.glyphicon-repeat:before {
  content: "\e030";
}
.glyphicon-refresh:before {
  content: "\e031";
}
.glyphicon-list-alt:before {
  content: "\e032";
}
.glyphicon-lock:before {
  content: "\e033";
}
.glyphicon-flag:before {
  content: "\e034";
}
.glyphicon-headphones:before {
  content: "\e035";
}
.glyphicon-volume-off:before {
  content: "\e036";
}
.glyphicon-volume-down:before {
  content: "\e037";
}
.glyphicon-volume-up:before {
  content: "\e038";
}
.glyphicon-qrcode:before {
  content: "\e039";
}
.glyphicon-barcode:before {
  content: "\e040";
}
.glyphicon-tag:before {
  content: "\e041";
}
.glyphicon-tags:before {
  content: "\e042";
}
.glyphicon-book:before {
  content: "\e043";
}
.glyphicon-bookmark:before {
  content: "\e044";
}
.glyphicon-print:before {
  content: "\e045";
}
.glyphicon-camera:before {
  content: "\e046";
}
.glyphicon-font:before {
  content: "\e047";
}
.glyphicon-bold:before {
  content: "\e048";
}
.glyphicon-italic:before {
  content: "\e049";
}
.glyphicon-text-height:before {
  content: "\e050";
}
.glyphicon-text-width:before {
  content: "\e051";
}
.glyphicon-align-left:before {
  content: "\e052";
}
.glyphicon-align-center:before {
  content: "\e053";
}
.glyphicon-align-right:before {
  content: "\e054";
}
.glyphicon-align-justify:before {
  content: "\e055";
}
.glyphicon-list:before {
  content: "\e056";
}
.glyphicon-indent-left:before {
  content: "\e057";
}
.glyphicon-indent-right:before {
  content: "\e058";
}
.glyphicon-facetime-video:before {
  content: "\e059";
}
.glyphicon-picture:before {
  content: "\e060";
}
.glyphicon-map-marker:before {
  content: "\e062";
}
.glyphicon-adjust:before {
  content: "\e063";
}
.glyphicon-tint:before {
  content: "\e064";
}
.glyphicon-edit:before {
  content: "\e065";
}
.glyphicon-share:before {
  content: "\e066";
}
.glyphicon-check:before {
  content: "\e067";
}
.glyphicon-move:before {
  content: "\e068";
}
.glyphicon-step-backward:before {
  content: "\e069";
}
.glyphicon-fast-backward:before {
  content: "\e070";
}
.glyphicon-backward:before {
  content: "\e071";
}
.glyphicon-play:before {
  content: "\e072";
}
.glyphicon-pause:before {
  content: "\e073";
}
.glyphicon-stop:before {
  content: "\e074";
}
.glyphicon-forward:before {
  content: "\e075";
}
.glyphicon-fast-forward:before {
  content: "\e076";
}
.glyphicon-step-forward:before {
  content: "\e077";
}
.glyphicon-eject:before {
  content: "\e078";
}
.glyphicon-chevron-left:before {
  content: "\e079";
}
.glyphicon-chevron-right:before {
  content: "\e080";
}
.glyphicon-plus-sign:before {
  content: "\e081";
}
.glyphicon-minus-sign:before {
  content: "\e082";
}
.glyphicon-remove-sign:before {
  content: "\e083";
}
.glyphicon-ok-sign:before {
  content: "\e084";
}
.glyphicon-question-sign:before {
  content: "\e085";
}
.glyphicon-info-sign:before {
  content: "\e086";
}
.glyphicon-screenshot:before {
  content: "\e087";
}
.glyphicon-remove-circle:before {
  content: "\e088";
}
.glyphicon-ok-circle:before {
  content: "\e089";
}
.glyphicon-ban-circle:before {
  content: "\e090";
}
.glyphicon-arrow-left:before {
  content: "\e091";
}
.glyphicon-arrow-right:before {
  content: "\e092";
}
.glyphicon-arrow-up:before {
  content: "\e093";
}
.glyphicon-arrow-down:before {
  content: "\e094";
}
.glyphicon-share-alt:before {
  content: "\e095";
}
.glyphicon-resize-full:before {
  content: "\e096";
}
.glyphicon-resize-small:before {
  content: "\e097";
}
.glyphicon-exclamation-sign:before {
  content: "\e101";
}
.glyphicon-gift:before {
  content: "\e102";
}
.glyphicon-leaf:before {
  content: "\e103";
}
.glyphicon-fire:before {
  content: "\e104";
}
.glyphicon-eye-open:before {
  content: "\e105";
}
.glyphicon-eye-close:before {
  content: "\e106";
}
.glyphicon-warning-sign:before {
  content: "\e107";
}
.glyphicon-plane:before {
  content: "\e108";
}
.glyphicon-calendar:before {
  content: "\e109";
}
.glyphicon-random:before {
  content: "\e110";
}
.glyphicon-comment:before {
  content: "\e111";
}
.glyphicon-magnet:before {
  content: "\e112";
}
.glyphicon-chevron-up:before {
  content: "\e113";
}
.glyphicon-chevron-down:before {
  content: "\e114";
}
.glyphicon-retweet:before {
  content: "\e115";
}
.glyphicon-shopping-cart:before {
  content: "\e116";
}
.glyphicon-folder-close:before {
  content: "\e117";
}
.glyphicon-folder-open:before {
  content: "\e118";
}
.glyphicon-resize-vertical:before {
  content: "\e119";
}
.glyphicon-resize-horizontal:before {
  content: "\e120";
}
.glyphicon-hdd:before {
  content: "\e121";
}
.glyphicon-bullhorn:before {
  content: "\e122";
}
.glyphicon-bell:before {
  content: "\e123";
}
.glyphicon-certificate:before {
  content: "\e124";
}
.glyphicon-thumbs-up:before {
  content: "\e125";
}
.glyphicon-thumbs-down:before {
  content: "\e126";
}
.glyphicon-hand-right:before {
  content: "\e127";
}
.glyphicon-hand-left:before {
  content: "\e128";
}
.glyphicon-hand-up:before {
  content: "\e129";
}
.glyphicon-hand-down:before {
  content: "\e130";
}
.glyphicon-circle-arrow-right:before {
  content: "\e131";
}
.glyphicon-circle-arrow-left:before {
  content: "\e132";
}
.glyphicon-circle-arrow-up:before {
  content: "\e133";
}
.glyphicon-circle-arrow-down:before {
  content: "\e134";
}
.glyphicon-globe:before {
  content: "\e135";
}
.glyphicon-wrench:before {
  content: "\e136";
}
.glyphicon-tasks:before {
  content: "\e137";
}
.glyphicon-filter:before {
  content: "\e138";
}
.glyphicon-briefcase:before {
  content: "\e139";
}
.glyphicon-fullscreen:before {
  content: "\e140";
}
.glyphicon-dashboard:before {
  content: "\e141";
}
.glyphicon-paperclip:before {
  content: "\e142";
}
.glyphicon-heart-empty:before {
  content: "\e143";
}
.glyphicon-link:before {
  content: "\e144";
}
.glyphicon-phone:before {
  content: "\e145";
}
.glyphicon-pushpin:before {
  content: "\e146";
}
.glyphicon-usd:before {
  content: "\e148";
}
.glyphicon-gbp:before {
  content: "\e149";
}
.glyphicon-sort:before {
  content: "\e150";
}
.glyphicon-sort-by-alphabet:before {
  content: "\e151";
}
.glyphicon-sort-by-alphabet-alt:before {
  content: "\e152";
}
.glyphicon-sort-by-order:before {
  content: "\e153";
}
.glyphicon-sort-by-order-alt:before {
  content: "\e154";
}
.glyphicon-sort-by-attributes:before {
  content: "\e155";
}
.glyphicon-sort-by-attributes-alt:before {
  content: "\e156";
}
.glyphicon-unchecked:before {
  content: "\e157";
}
.glyphicon-expand:before {
  content: "\e158";
}
.glyphicon-collapse-down:before {
  content: "\e159";
}
.glyphicon-collapse-up:before {
  content: "\e160";
}
.glyphicon-log-in:before {
  content: "\e161";
}
.glyphicon-flash:before {
  content: "\e162";
}
.glyphicon-log-out:before {
  content: "\e163";
}
.glyphicon-new-window:before {
  content: "\e164";
}
.glyphicon-record:before {
  content: "\e165";
}
.glyphicon-save:before {
  content: "\e166";
}
.glyphicon-open:before {
  content: "\e167";
}
.glyphicon-saved:before {
  content: "\e168";
}
.glyphicon-import:before {
  content: "\e169";
}
.glyphicon-export:before {
  content: "\e170";
}
.glyphicon-send:before {
  content: "\e171";
}
.glyphicon-floppy-disk:before {
  content: "\e172";
}
.glyphicon-floppy-saved:before {
  content: "\e173";
}
.glyphicon-floppy-remove:before {
  content: "\e174";
}
.glyphicon-floppy-save:before {
  content: "\e175";
}
.glyphicon-floppy-open:before {
  content: "\e176";
}
.glyphicon-credit-card:before {
  content: "\e177";
}
.glyphicon-transfer:before {
  content: "\e178";
}
.glyphicon-cutlery:before {
  content: "\e179";
}
.glyphicon-header:before {
  content: "\e180";
}
.glyphicon-compressed:before {
  content: "\e181";
}
.glyphicon-earphone:before {
  content: "\e182";
}
.glyphicon-phone-alt:before {
  content: "\e183";
}
.glyphicon-tower:before {
  content: "\e184";
}
.glyphicon-stats:before {
  content: "\e185";
}
.glyphicon-sd-video:before {
  content: "\e186";
}
.glyphicon-hd-video:before {
  content: "\e187";
}
.glyphicon-subtitles:before {
  content: "\e188";
}
.glyphicon-sound-stereo:before {
  content: "\e189";
}
.glyphicon-sound-dolby:before {
  content: "\e190";
}
.glyphicon-sound-5-1:before {
  content: "\e191";
}
.glyphicon-sound-6-1:before {
  content: "\e192";
}
.glyphicon-sound-7-1:before {
  content: "\e193";
}
.glyphicon-copyright-mark:before {
  content: "\e194";
}
.glyphicon-registration-mark:before {
  content: "\e195";
}
.glyphicon-cloud-download:before {
  content: "\e197";
}
.glyphicon-cloud-upload:before {
  content: "\e198";
}
.glyphicon-tree-conifer:before {
  content: "\e199";
}
.glyphicon-tree-deciduous:before {
  content: "\e200";
}
.glyphicon-cd:before {
  content: "\e201";
}
.glyphicon-save-file:before {
  content: "\e202";
}
.glyphicon-open-file:before {
  content: "\e203";
}
.glyphicon-level-up:before {
  content: "\e204";
}
.glyphicon-copy:before {
  content: "\e205";
}
.glyphicon-paste:before {
  content: "\e206";
}
.glyphicon-alert:before {
  content: "\e209";
}
.glyphicon-equalizer:before {
  content: "\e210";
}
.glyphicon-king:before {
  content: "\e211";
}
.glyphicon-queen:before {
  content: "\e212";
}
.glyphicon-pawn:before {
  content: "\e213";
}
.glyphicon-bishop:before {
  content: "\e214";
}
.glyphicon-knight:before {
  content: "\e215";
}
.glyphicon-baby-formula:before {
  content: "\e216";
}
.glyphicon-tent:before {
  content: "\26fa";
}
.glyphicon-blackboard:before {
  content: "\e218";
}
.glyphicon-bed:before {
  content: "\e219";
}
.glyphicon-apple:before {
  content: "\f8ff";
}
.glyphicon-erase:before {
  content: "\e221";
}
.glyphicon-hourglass:before {
  content: "\231b";
}
.glyphicon-lamp:before {
  content: "\e223";
}
.glyphicon-duplicate:before {
  content: "\e224";
}
.glyphicon-piggy-bank:before {
  content: "\e225";
}
.glyphicon-scissors:before {
  content: "\e226";
}
.glyphicon-bitcoin:before {
  content: "\e227";
}
.glyphicon-btc:before {
  content: "\e227";
}
.glyphicon-xbt:before {
  content: "\e227";
}
.glyphicon-yen:before {
  content: "\00a5";
}
.glyphicon-jpy:before {
  content: "\00a5";
}
.glyphicon-ruble:before {
  content: "\20bd";
}
.glyphicon-rub:before {
  content: "\20bd";
}
.glyphicon-scale:before {
  content: "\e230";
}
.glyphicon-ice-lolly:before {
  content: "\e231";
}
.glyphicon-ice-lolly-tasted:before {
  content: "\e232";
}
.glyphicon-education:before {
  content: "\e233";
}
.glyphicon-option-horizontal:before {
  content: "\e234";
}
.glyphicon-option-vertical:before {
  content: "\e235";
}
.glyphicon-menu-hamburger:before {
  content: "\e236";
}
.glyphicon-modal-window:before {
  content: "\e237";
}
.glyphicon-oil:before {
  content: "\e238";
}
.glyphicon-grain:before {
  content: "\e239";
}
.glyphicon-sunglasses:before {
  content: "\e240";
}
.glyphicon-text-size:before {
  content: "\e241";
}
.glyphicon-text-color:before {
  content: "\e242";
}
.glyphicon-text-background:before {
  content: "\e243";
}
.glyphicon-object-align-top:before {
  content: "\e244";
}
.glyphicon-object-align-bottom:before {
  content: "\e245";
}
.glyphicon-object-align-horizontal:before {
  content: "\e246";
}
.glyphicon-object-align-left:before {
  content: "\e247";
}
.glyphicon-object-align-vertical:before {
  content: "\e248";
}
.glyphicon-object-align-right:before {
  content: "\e249";
}
.glyphicon-triangle-right:before {
  content: "\e250";
}
.glyphicon-triangle-left:before {
  content: "\e251";
}
.glyphicon-triangle-bottom:before {
  content: "\e252";
}
.glyphicon-triangle-top:before {
  content: "\e253";
}
.glyphicon-console:before {
  content: "\e254";
}
.glyphicon-superscript:before {
  content: "\e255";
}
.glyphicon-subscript:before {
  content: "\e256";
}
.glyphicon-menu-left:before {
  content: "\e257";
}
.glyphicon-menu-right:before {
  content: "\e258";
}
.glyphicon-menu-down:before {
  content: "\e259";
}
.glyphicon-menu-up:before {
  content: "\e260";
}
* {
  -webkit-box-sizing: border-box;
  -moz-box-sizing: border-box;
  box-sizing: border-box;
}
*:before,
*:after {
  -webkit-box-sizing: border-box;
  -moz-box-sizing: border-box;
  box-sizing: border-box;
}
html {
  font-size: 10px;
  -webkit-tap-highlight-color: rgba(0, 0, 0, 0);
}
body {
  font-family: "Helvetica Neue", Helvetica, Arial, sans-serif;
  font-size: 13px;
  line-height: 1.42857143;
  color: #000;
  background-color: #fff;
}
input,
button,
select,
textarea {
  font-family: inherit;
  font-size: inherit;
  line-height: inherit;
}
a {
  color: #337ab7;
  text-decoration: none;
}
a:hover,
a:focus {
  color: #23527c;
  text-decoration: underline;
}
a:focus {
  outline: 5px auto -webkit-focus-ring-color;
  outline-offset: -2px;
}
figure {
  margin: 0;
}
img {
  vertical-align: middle;
}
.img-responsive,
.thumbnail > img,
.thumbnail a > img,
.carousel-inner > .item > img,
.carousel-inner > .item > a > img {
  display: block;
  max-width: 100%;
  height: auto;
}
.img-rounded {
  border-radius: 3px;
}
.img-thumbnail {
  padding: 4px;
  line-height: 1.42857143;
  background-color: #fff;
  border: 1px solid #ddd;
  border-radius: 2px;
  -webkit-transition: all 0.2s ease-in-out;
  -o-transition: all 0.2s ease-in-out;
  transition: all 0.2s ease-in-out;
  display: inline-block;
  max-width: 100%;
  height: auto;
}
.img-circle {
  border-radius: 50%;
}
hr {
  margin-top: 18px;
  margin-bottom: 18px;
  border: 0;
  border-top: 1px solid #eeeeee;
}
.sr-only {
  position: absolute;
  width: 1px;
  height: 1px;
  margin: -1px;
  padding: 0;
  overflow: hidden;
  clip: rect(0, 0, 0, 0);
  border: 0;
}
.sr-only-focusable:active,
.sr-only-focusable:focus {
  position: static;
  width: auto;
  height: auto;
  margin: 0;
  overflow: visible;
  clip: auto;
}
[role="button"] {
  cursor: pointer;
}
h1,
h2,
h3,
h4,
h5,
h6,
.h1,
.h2,
.h3,
.h4,
.h5,
.h6 {
  font-family: inherit;
  font-weight: 500;
  line-height: 1.1;
  color: inherit;
}
h1 small,
h2 small,
h3 small,
h4 small,
h5 small,
h6 small,
.h1 small,
.h2 small,
.h3 small,
.h4 small,
.h5 small,
.h6 small,
h1 .small,
h2 .small,
h3 .small,
h4 .small,
h5 .small,
h6 .small,
.h1 .small,
.h2 .small,
.h3 .small,
.h4 .small,
.h5 .small,
.h6 .small {
  font-weight: normal;
  line-height: 1;
  color: #777777;
}
h1,
.h1,
h2,
.h2,
h3,
.h3 {
  margin-top: 18px;
  margin-bottom: 9px;
}
h1 small,
.h1 small,
h2 small,
.h2 small,
h3 small,
.h3 small,
h1 .small,
.h1 .small,
h2 .small,
.h2 .small,
h3 .small,
.h3 .small {
  font-size: 65%;
}
h4,
.h4,
h5,
.h5,
h6,
.h6 {
  margin-top: 9px;
  margin-bottom: 9px;
}
h4 small,
.h4 small,
h5 small,
.h5 small,
h6 small,
.h6 small,
h4 .small,
.h4 .small,
h5 .small,
.h5 .small,
h6 .small,
.h6 .small {
  font-size: 75%;
}
h1,
.h1 {
  font-size: 33px;
}
h2,
.h2 {
  font-size: 27px;
}
h3,
.h3 {
  font-size: 23px;
}
h4,
.h4 {
  font-size: 17px;
}
h5,
.h5 {
  font-size: 13px;
}
h6,
.h6 {
  font-size: 12px;
}
p {
  margin: 0 0 9px;
}
.lead {
  margin-bottom: 18px;
  font-size: 14px;
  font-weight: 300;
  line-height: 1.4;
}
@media (min-width: 768px) {
  .lead {
    font-size: 19.5px;
  }
}
small,
.small {
  font-size: 92%;
}
mark,
.mark {
  background-color: #fcf8e3;
  padding: .2em;
}
.text-left {
  text-align: left;
}
.text-right {
  text-align: right;
}
.text-center {
  text-align: center;
}
.text-justify {
  text-align: justify;
}
.text-nowrap {
  white-space: nowrap;
}
.text-lowercase {
  text-transform: lowercase;
}
.text-uppercase {
  text-transform: uppercase;
}
.text-capitalize {
  text-transform: capitalize;
}
.text-muted {
  color: #777777;
}
.text-primary {
  color: #337ab7;
}
a.text-primary:hover,
a.text-primary:focus {
  color: #286090;
}
.text-success {
  color: #3c763d;
}
a.text-success:hover,
a.text-success:focus {
  color: #2b542c;
}
.text-info {
  color: #31708f;
}
a.text-info:hover,
a.text-info:focus {
  color: #245269;
}
.text-warning {
  color: #8a6d3b;
}
a.text-warning:hover,
a.text-warning:focus {
  color: #66512c;
}
.text-danger {
  color: #a94442;
}
a.text-danger:hover,
a.text-danger:focus {
  color: #843534;
}
.bg-primary {
  color: #fff;
  background-color: #337ab7;
}
a.bg-primary:hover,
a.bg-primary:focus {
  background-color: #286090;
}
.bg-success {
  background-color: #dff0d8;
}
a.bg-success:hover,
a.bg-success:focus {
  background-color: #c1e2b3;
}
.bg-info {
  background-color: #d9edf7;
}
a.bg-info:hover,
a.bg-info:focus {
  background-color: #afd9ee;
}
.bg-warning {
  background-color: #fcf8e3;
}
a.bg-warning:hover,
a.bg-warning:focus {
  background-color: #f7ecb5;
}
.bg-danger {
  background-color: #f2dede;
}
a.bg-danger:hover,
a.bg-danger:focus {
  background-color: #e4b9b9;
}
.page-header {
  padding-bottom: 8px;
  margin: 36px 0 18px;
  border-bottom: 1px solid #eeeeee;
}
ul,
ol {
  margin-top: 0;
  margin-bottom: 9px;
}
ul ul,
ol ul,
ul ol,
ol ol {
  margin-bottom: 0;
}
.list-unstyled {
  padding-left: 0;
  list-style: none;
}
.list-inline {
  padding-left: 0;
  list-style: none;
  margin-left: -5px;
}
.list-inline > li {
  display: inline-block;
  padding-left: 5px;
  padding-right: 5px;
}
dl {
  margin-top: 0;
  margin-bottom: 18px;
}
dt,
dd {
  line-height: 1.42857143;
}
dt {
  font-weight: bold;
}
dd {
  margin-left: 0;
}
@media (min-width: 541px) {
  .dl-horizontal dt {
    float: left;
    width: 160px;
    clear: left;
    text-align: right;
    overflow: hidden;
    text-overflow: ellipsis;
    white-space: nowrap;
  }
  .dl-horizontal dd {
    margin-left: 180px;
  }
}
abbr[title],
abbr[data-original-title] {
  cursor: help;
  border-bottom: 1px dotted #777777;
}
.initialism {
  font-size: 90%;
  text-transform: uppercase;
}
blockquote {
  padding: 9px 18px;
  margin: 0 0 18px;
  font-size: inherit;
  border-left: 5px solid #eeeeee;
}
blockquote p:last-child,
blockquote ul:last-child,
blockquote ol:last-child {
  margin-bottom: 0;
}
blockquote footer,
blockquote small,
blockquote .small {
  display: block;
  font-size: 80%;
  line-height: 1.42857143;
  color: #777777;
}
blockquote footer:before,
blockquote small:before,
blockquote .small:before {
  content: '\2014 \00A0';
}
.blockquote-reverse,
blockquote.pull-right {
  padding-right: 15px;
  padding-left: 0;
  border-right: 5px solid #eeeeee;
  border-left: 0;
  text-align: right;
}
.blockquote-reverse footer:before,
blockquote.pull-right footer:before,
.blockquote-reverse small:before,
blockquote.pull-right small:before,
.blockquote-reverse .small:before,
blockquote.pull-right .small:before {
  content: '';
}
.blockquote-reverse footer:after,
blockquote.pull-right footer:after,
.blockquote-reverse small:after,
blockquote.pull-right small:after,
.blockquote-reverse .small:after,
blockquote.pull-right .small:after {
  content: '\00A0 \2014';
}
address {
  margin-bottom: 18px;
  font-style: normal;
  line-height: 1.42857143;
}
code,
kbd,
pre,
samp {
  font-family: monospace;
}
code {
  padding: 2px 4px;
  font-size: 90%;
  color: #c7254e;
  background-color: #f9f2f4;
  border-radius: 2px;
}
kbd {
  padding: 2px 4px;
  font-size: 90%;
  color: #888;
  background-color: transparent;
  border-radius: 1px;
  box-shadow: inset 0 -1px 0 rgba(0, 0, 0, 0.25);
}
kbd kbd {
  padding: 0;
  font-size: 100%;
  font-weight: bold;
  box-shadow: none;
}
pre {
  display: block;
  padding: 8.5px;
  margin: 0 0 9px;
  font-size: 12px;
  line-height: 1.42857143;
  word-break: break-all;
  word-wrap: break-word;
  color: #333333;
  background-color: #f5f5f5;
  border: 1px solid #ccc;
  border-radius: 2px;
}
pre code {
  padding: 0;
  font-size: inherit;
  color: inherit;
  white-space: pre-wrap;
  background-color: transparent;
  border-radius: 0;
}
.pre-scrollable {
  max-height: 340px;
  overflow-y: scroll;
}
.container {
  margin-right: auto;
  margin-left: auto;
  padding-left: 0px;
  padding-right: 0px;
}
@media (min-width: 768px) {
  .container {
    width: 768px;
  }
}
@media (min-width: 992px) {
  .container {
    width: 940px;
  }
}
@media (min-width: 1200px) {
  .container {
    width: 1140px;
  }
}
.container-fluid {
  margin-right: auto;
  margin-left: auto;
  padding-left: 0px;
  padding-right: 0px;
}
.row {
  margin-left: 0px;
  margin-right: 0px;
}
.col-xs-1, .col-sm-1, .col-md-1, .col-lg-1, .col-xs-2, .col-sm-2, .col-md-2, .col-lg-2, .col-xs-3, .col-sm-3, .col-md-3, .col-lg-3, .col-xs-4, .col-sm-4, .col-md-4, .col-lg-4, .col-xs-5, .col-sm-5, .col-md-5, .col-lg-5, .col-xs-6, .col-sm-6, .col-md-6, .col-lg-6, .col-xs-7, .col-sm-7, .col-md-7, .col-lg-7, .col-xs-8, .col-sm-8, .col-md-8, .col-lg-8, .col-xs-9, .col-sm-9, .col-md-9, .col-lg-9, .col-xs-10, .col-sm-10, .col-md-10, .col-lg-10, .col-xs-11, .col-sm-11, .col-md-11, .col-lg-11, .col-xs-12, .col-sm-12, .col-md-12, .col-lg-12 {
  position: relative;
  min-height: 1px;
  padding-left: 0px;
  padding-right: 0px;
}
.col-xs-1, .col-xs-2, .col-xs-3, .col-xs-4, .col-xs-5, .col-xs-6, .col-xs-7, .col-xs-8, .col-xs-9, .col-xs-10, .col-xs-11, .col-xs-12 {
  float: left;
}
.col-xs-12 {
  width: 100%;
}
.col-xs-11 {
  width: 91.66666667%;
}
.col-xs-10 {
  width: 83.33333333%;
}
.col-xs-9 {
  width: 75%;
}
.col-xs-8 {
  width: 66.66666667%;
}
.col-xs-7 {
  width: 58.33333333%;
}
.col-xs-6 {
  width: 50%;
}
.col-xs-5 {
  width: 41.66666667%;
}
.col-xs-4 {
  width: 33.33333333%;
}
.col-xs-3 {
  width: 25%;
}
.col-xs-2 {
  width: 16.66666667%;
}
.col-xs-1 {
  width: 8.33333333%;
}
.col-xs-pull-12 {
  right: 100%;
}
.col-xs-pull-11 {
  right: 91.66666667%;
}
.col-xs-pull-10 {
  right: 83.33333333%;
}
.col-xs-pull-9 {
  right: 75%;
}
.col-xs-pull-8 {
  right: 66.66666667%;
}
.col-xs-pull-7 {
  right: 58.33333333%;
}
.col-xs-pull-6 {
  right: 50%;
}
.col-xs-pull-5 {
  right: 41.66666667%;
}
.col-xs-pull-4 {
  right: 33.33333333%;
}
.col-xs-pull-3 {
  right: 25%;
}
.col-xs-pull-2 {
  right: 16.66666667%;
}
.col-xs-pull-1 {
  right: 8.33333333%;
}
.col-xs-pull-0 {
  right: auto;
}
.col-xs-push-12 {
  left: 100%;
}
.col-xs-push-11 {
  left: 91.66666667%;
}
.col-xs-push-10 {
  left: 83.33333333%;
}
.col-xs-push-9 {
  left: 75%;
}
.col-xs-push-8 {
  left: 66.66666667%;
}
.col-xs-push-7 {
  left: 58.33333333%;
}
.col-xs-push-6 {
  left: 50%;
}
.col-xs-push-5 {
  left: 41.66666667%;
}
.col-xs-push-4 {
  left: 33.33333333%;
}
.col-xs-push-3 {
  left: 25%;
}
.col-xs-push-2 {
  left: 16.66666667%;
}
.col-xs-push-1 {
  left: 8.33333333%;
}
.col-xs-push-0 {
  left: auto;
}
.col-xs-offset-12 {
  margin-left: 100%;
}
.col-xs-offset-11 {
  margin-left: 91.66666667%;
}
.col-xs-offset-10 {
  margin-left: 83.33333333%;
}
.col-xs-offset-9 {
  margin-left: 75%;
}
.col-xs-offset-8 {
  margin-left: 66.66666667%;
}
.col-xs-offset-7 {
  margin-left: 58.33333333%;
}
.col-xs-offset-6 {
  margin-left: 50%;
}
.col-xs-offset-5 {
  margin-left: 41.66666667%;
}
.col-xs-offset-4 {
  margin-left: 33.33333333%;
}
.col-xs-offset-3 {
  margin-left: 25%;
}
.col-xs-offset-2 {
  margin-left: 16.66666667%;
}
.col-xs-offset-1 {
  margin-left: 8.33333333%;
}
.col-xs-offset-0 {
  margin-left: 0%;
}
@media (min-width: 768px) {
  .col-sm-1, .col-sm-2, .col-sm-3, .col-sm-4, .col-sm-5, .col-sm-6, .col-sm-7, .col-sm-8, .col-sm-9, .col-sm-10, .col-sm-11, .col-sm-12 {
    float: left;
  }
  .col-sm-12 {
    width: 100%;
  }
  .col-sm-11 {
    width: 91.66666667%;
  }
  .col-sm-10 {
    width: 83.33333333%;
  }
  .col-sm-9 {
    width: 75%;
  }
  .col-sm-8 {
    width: 66.66666667%;
  }
  .col-sm-7 {
    width: 58.33333333%;
  }
  .col-sm-6 {
    width: 50%;
  }
  .col-sm-5 {
    width: 41.66666667%;
  }
  .col-sm-4 {
    width: 33.33333333%;
  }
  .col-sm-3 {
    width: 25%;
  }
  .col-sm-2 {
    width: 16.66666667%;
  }
  .col-sm-1 {
    width: 8.33333333%;
  }
  .col-sm-pull-12 {
    right: 100%;
  }
  .col-sm-pull-11 {
    right: 91.66666667%;
  }
  .col-sm-pull-10 {
    right: 83.33333333%;
  }
  .col-sm-pull-9 {
    right: 75%;
  }
  .col-sm-pull-8 {
    right: 66.66666667%;
  }
  .col-sm-pull-7 {
    right: 58.33333333%;
  }
  .col-sm-pull-6 {
    right: 50%;
  }
  .col-sm-pull-5 {
    right: 41.66666667%;
  }
  .col-sm-pull-4 {
    right: 33.33333333%;
  }
  .col-sm-pull-3 {
    right: 25%;
  }
  .col-sm-pull-2 {
    right: 16.66666667%;
  }
  .col-sm-pull-1 {
    right: 8.33333333%;
  }
  .col-sm-pull-0 {
    right: auto;
  }
  .col-sm-push-12 {
    left: 100%;
  }
  .col-sm-push-11 {
    left: 91.66666667%;
  }
  .col-sm-push-10 {
    left: 83.33333333%;
  }
  .col-sm-push-9 {
    left: 75%;
  }
  .col-sm-push-8 {
    left: 66.66666667%;
  }
  .col-sm-push-7 {
    left: 58.33333333%;
  }
  .col-sm-push-6 {
    left: 50%;
  }
  .col-sm-push-5 {
    left: 41.66666667%;
  }
  .col-sm-push-4 {
    left: 33.33333333%;
  }
  .col-sm-push-3 {
    left: 25%;
  }
  .col-sm-push-2 {
    left: 16.66666667%;
  }
  .col-sm-push-1 {
    left: 8.33333333%;
  }
  .col-sm-push-0 {
    left: auto;
  }
  .col-sm-offset-12 {
    margin-left: 100%;
  }
  .col-sm-offset-11 {
    margin-left: 91.66666667%;
  }
  .col-sm-offset-10 {
    margin-left: 83.33333333%;
  }
  .col-sm-offset-9 {
    margin-left: 75%;
  }
  .col-sm-offset-8 {
    margin-left: 66.66666667%;
  }
  .col-sm-offset-7 {
    margin-left: 58.33333333%;
  }
  .col-sm-offset-6 {
    margin-left: 50%;
  }
  .col-sm-offset-5 {
    margin-left: 41.66666667%;
  }
  .col-sm-offset-4 {
    margin-left: 33.33333333%;
  }
  .col-sm-offset-3 {
    margin-left: 25%;
  }
  .col-sm-offset-2 {
    margin-left: 16.66666667%;
  }
  .col-sm-offset-1 {
    margin-left: 8.33333333%;
  }
  .col-sm-offset-0 {
    margin-left: 0%;
  }
}
@media (min-width: 992px) {
  .col-md-1, .col-md-2, .col-md-3, .col-md-4, .col-md-5, .col-md-6, .col-md-7, .col-md-8, .col-md-9, .col-md-10, .col-md-11, .col-md-12 {
    float: left;
  }
  .col-md-12 {
    width: 100%;
  }
  .col-md-11 {
    width: 91.66666667%;
  }
  .col-md-10 {
    width: 83.33333333%;
  }
  .col-md-9 {
    width: 75%;
  }
  .col-md-8 {
    width: 66.66666667%;
  }
  .col-md-7 {
    width: 58.33333333%;
  }
  .col-md-6 {
    width: 50%;
  }
  .col-md-5 {
    width: 41.66666667%;
  }
  .col-md-4 {
    width: 33.33333333%;
  }
  .col-md-3 {
    width: 25%;
  }
  .col-md-2 {
    width: 16.66666667%;
  }
  .col-md-1 {
    width: 8.33333333%;
  }
  .col-md-pull-12 {
    right: 100%;
  }
  .col-md-pull-11 {
    right: 91.66666667%;
  }
  .col-md-pull-10 {
    right: 83.33333333%;
  }
  .col-md-pull-9 {
    right: 75%;
  }
  .col-md-pull-8 {
    right: 66.66666667%;
  }
  .col-md-pull-7 {
    right: 58.33333333%;
  }
  .col-md-pull-6 {
    right: 50%;
  }
  .col-md-pull-5 {
    right: 41.66666667%;
  }
  .col-md-pull-4 {
    right: 33.33333333%;
  }
  .col-md-pull-3 {
    right: 25%;
  }
  .col-md-pull-2 {
    right: 16.66666667%;
  }
  .col-md-pull-1 {
    right: 8.33333333%;
  }
  .col-md-pull-0 {
    right: auto;
  }
  .col-md-push-12 {
    left: 100%;
  }
  .col-md-push-11 {
    left: 91.66666667%;
  }
  .col-md-push-10 {
    left: 83.33333333%;
  }
  .col-md-push-9 {
    left: 75%;
  }
  .col-md-push-8 {
    left: 66.66666667%;
  }
  .col-md-push-7 {
    left: 58.33333333%;
  }
  .col-md-push-6 {
    left: 50%;
  }
  .col-md-push-5 {
    left: 41.66666667%;
  }
  .col-md-push-4 {
    left: 33.33333333%;
  }
  .col-md-push-3 {
    left: 25%;
  }
  .col-md-push-2 {
    left: 16.66666667%;
  }
  .col-md-push-1 {
    left: 8.33333333%;
  }
  .col-md-push-0 {
    left: auto;
  }
  .col-md-offset-12 {
    margin-left: 100%;
  }
  .col-md-offset-11 {
    margin-left: 91.66666667%;
  }
  .col-md-offset-10 {
    margin-left: 83.33333333%;
  }
  .col-md-offset-9 {
    margin-left: 75%;
  }
  .col-md-offset-8 {
    margin-left: 66.66666667%;
  }
  .col-md-offset-7 {
    margin-left: 58.33333333%;
  }
  .col-md-offset-6 {
    margin-left: 50%;
  }
  .col-md-offset-5 {
    margin-left: 41.66666667%;
  }
  .col-md-offset-4 {
    margin-left: 33.33333333%;
  }
  .col-md-offset-3 {
    margin-left: 25%;
  }
  .col-md-offset-2 {
    margin-left: 16.66666667%;
  }
  .col-md-offset-1 {
    margin-left: 8.33333333%;
  }
  .col-md-offset-0 {
    margin-left: 0%;
  }
}
@media (min-width: 1200px) {
  .col-lg-1, .col-lg-2, .col-lg-3, .col-lg-4, .col-lg-5, .col-lg-6, .col-lg-7, .col-lg-8, .col-lg-9, .col-lg-10, .col-lg-11, .col-lg-12 {
    float: left;
  }
  .col-lg-12 {
    width: 100%;
  }
  .col-lg-11 {
    width: 91.66666667%;
  }
  .col-lg-10 {
    width: 83.33333333%;
  }
  .col-lg-9 {
    width: 75%;
  }
  .col-lg-8 {
    width: 66.66666667%;
  }
  .col-lg-7 {
    width: 58.33333333%;
  }
  .col-lg-6 {
    width: 50%;
  }
  .col-lg-5 {
    width: 41.66666667%;
  }
  .col-lg-4 {
    width: 33.33333333%;
  }
  .col-lg-3 {
    width: 25%;
  }
  .col-lg-2 {
    width: 16.66666667%;
  }
  .col-lg-1 {
    width: 8.33333333%;
  }
  .col-lg-pull-12 {
    right: 100%;
  }
  .col-lg-pull-11 {
    right: 91.66666667%;
  }
  .col-lg-pull-10 {
    right: 83.33333333%;
  }
  .col-lg-pull-9 {
    right: 75%;
  }
  .col-lg-pull-8 {
    right: 66.66666667%;
  }
  .col-lg-pull-7 {
    right: 58.33333333%;
  }
  .col-lg-pull-6 {
    right: 50%;
  }
  .col-lg-pull-5 {
    right: 41.66666667%;
  }
  .col-lg-pull-4 {
    right: 33.33333333%;
  }
  .col-lg-pull-3 {
    right: 25%;
  }
  .col-lg-pull-2 {
    right: 16.66666667%;
  }
  .col-lg-pull-1 {
    right: 8.33333333%;
  }
  .col-lg-pull-0 {
    right: auto;
  }
  .col-lg-push-12 {
    left: 100%;
  }
  .col-lg-push-11 {
    left: 91.66666667%;
  }
  .col-lg-push-10 {
    left: 83.33333333%;
  }
  .col-lg-push-9 {
    left: 75%;
  }
  .col-lg-push-8 {
    left: 66.66666667%;
  }
  .col-lg-push-7 {
    left: 58.33333333%;
  }
  .col-lg-push-6 {
    left: 50%;
  }
  .col-lg-push-5 {
    left: 41.66666667%;
  }
  .col-lg-push-4 {
    left: 33.33333333%;
  }
  .col-lg-push-3 {
    left: 25%;
  }
  .col-lg-push-2 {
    left: 16.66666667%;
  }
  .col-lg-push-1 {
    left: 8.33333333%;
  }
  .col-lg-push-0 {
    left: auto;
  }
  .col-lg-offset-12 {
    margin-left: 100%;
  }
  .col-lg-offset-11 {
    margin-left: 91.66666667%;
  }
  .col-lg-offset-10 {
    margin-left: 83.33333333%;
  }
  .col-lg-offset-9 {
    margin-left: 75%;
  }
  .col-lg-offset-8 {
    margin-left: 66.66666667%;
  }
  .col-lg-offset-7 {
    margin-left: 58.33333333%;
  }
  .col-lg-offset-6 {
    margin-left: 50%;
  }
  .col-lg-offset-5 {
    margin-left: 41.66666667%;
  }
  .col-lg-offset-4 {
    margin-left: 33.33333333%;
  }
  .col-lg-offset-3 {
    margin-left: 25%;
  }
  .col-lg-offset-2 {
    margin-left: 16.66666667%;
  }
  .col-lg-offset-1 {
    margin-left: 8.33333333%;
  }
  .col-lg-offset-0 {
    margin-left: 0%;
  }
}
table {
  background-color: transparent;
}
caption {
  padding-top: 8px;
  padding-bottom: 8px;
  color: #777777;
  text-align: left;
}
th {
  text-align: left;
}
.table {
  width: 100%;
  max-width: 100%;
  margin-bottom: 18px;
}
.table > thead > tr > th,
.table > tbody > tr > th,
.table > tfoot > tr > th,
.table > thead > tr > td,
.table > tbody > tr > td,
.table > tfoot > tr > td {
  padding: 8px;
  line-height: 1.42857143;
  vertical-align: top;
  border-top: 1px solid #ddd;
}
.table > thead > tr > th {
  vertical-align: bottom;
  border-bottom: 2px solid #ddd;
}
.table > caption + thead > tr:first-child > th,
.table > colgroup + thead > tr:first-child > th,
.table > thead:first-child > tr:first-child > th,
.table > caption + thead > tr:first-child > td,
.table > colgroup + thead > tr:first-child > td,
.table > thead:first-child > tr:first-child > td {
  border-top: 0;
}
.table > tbody + tbody {
  border-top: 2px solid #ddd;
}
.table .table {
  background-color: #fff;
}
.table-condensed > thead > tr > th,
.table-condensed > tbody > tr > th,
.table-condensed > tfoot > tr > th,
.table-condensed > thead > tr > td,
.table-condensed > tbody > tr > td,
.table-condensed > tfoot > tr > td {
  padding: 5px;
}
.table-bordered {
  border: 1px solid #ddd;
}
.table-bordered > thead > tr > th,
.table-bordered > tbody > tr > th,
.table-bordered > tfoot > tr > th,
.table-bordered > thead > tr > td,
.table-bordered > tbody > tr > td,
.table-bordered > tfoot > tr > td {
  border: 1px solid #ddd;
}
.table-bordered > thead > tr > th,
.table-bordered > thead > tr > td {
  border-bottom-width: 2px;
}
.table-striped > tbody > tr:nth-of-type(odd) {
  background-color: #f9f9f9;
}
.table-hover > tbody > tr:hover {
  background-color: #f5f5f5;
}
table col[class*="col-"] {
  position: static;
  float: none;
  display: table-column;
}
table td[class*="col-"],
table th[class*="col-"] {
  position: static;
  float: none;
  display: table-cell;
}
.table > thead > tr > td.active,
.table > tbody > tr > td.active,
.table > tfoot > tr > td.active,
.table > thead > tr > th.active,
.table > tbody > tr > th.active,
.table > tfoot > tr > th.active,
.table > thead > tr.active > td,
.table > tbody > tr.active > td,
.table > tfoot > tr.active > td,
.table > thead > tr.active > th,
.table > tbody > tr.active > th,
.table > tfoot > tr.active > th {
  background-color: #f5f5f5;
}
.table-hover > tbody > tr > td.active:hover,
.table-hover > tbody > tr > th.active:hover,
.table-hover > tbody > tr.active:hover > td,
.table-hover > tbody > tr:hover > .active,
.table-hover > tbody > tr.active:hover > th {
  background-color: #e8e8e8;
}
.table > thead > tr > td.success,
.table > tbody > tr > td.success,
.table > tfoot > tr > td.success,
.table > thead > tr > th.success,
.table > tbody > tr > th.success,
.table > tfoot > tr > th.success,
.table > thead > tr.success > td,
.table > tbody > tr.success > td,
.table > tfoot > tr.success > td,
.table > thead > tr.success > th,
.table > tbody > tr.success > th,
.table > tfoot > tr.success > th {
  background-color: #dff0d8;
}
.table-hover > tbody > tr > td.success:hover,
.table-hover > tbody > tr > th.success:hover,
.table-hover > tbody > tr.success:hover > td,
.table-hover > tbody > tr:hover > .success,
.table-hover > tbody > tr.success:hover > th {
  background-color: #d0e9c6;
}
.table > thead > tr > td.info,
.table > tbody > tr > td.info,
.table > tfoot > tr > td.info,
.table > thead > tr > th.info,
.table > tbody > tr > th.info,
.table > tfoot > tr > th.info,
.table > thead > tr.info > td,
.table > tbody > tr.info > td,
.table > tfoot > tr.info > td,
.table > thead > tr.info > th,
.table > tbody > tr.info > th,
.table > tfoot > tr.info > th {
  background-color: #d9edf7;
}
.table-hover > tbody > tr > td.info:hover,
.table-hover > tbody > tr > th.info:hover,
.table-hover > tbody > tr.info:hover > td,
.table-hover > tbody > tr:hover > .info,
.table-hover > tbody > tr.info:hover > th {
  background-color: #c4e3f3;
}
.table > thead > tr > td.warning,
.table > tbody > tr > td.warning,
.table > tfoot > tr > td.warning,
.table > thead > tr > th.warning,
.table > tbody > tr > th.warning,
.table > tfoot > tr > th.warning,
.table > thead > tr.warning > td,
.table > tbody > tr.warning > td,
.table > tfoot > tr.warning > td,
.table > thead > tr.warning > th,
.table > tbody > tr.warning > th,
.table > tfoot > tr.warning > th {
  background-color: #fcf8e3;
}
.table-hover > tbody > tr > td.warning:hover,
.table-hover > tbody > tr > th.warning:hover,
.table-hover > tbody > tr.warning:hover > td,
.table-hover > tbody > tr:hover > .warning,
.table-hover > tbody > tr.warning:hover > th {
  background-color: #faf2cc;
}
.table > thead > tr > td.danger,
.table > tbody > tr > td.danger,
.table > tfoot > tr > td.danger,
.table > thead > tr > th.danger,
.table > tbody > tr > th.danger,
.table > tfoot > tr > th.danger,
.table > thead > tr.danger > td,
.table > tbody > tr.danger > td,
.table > tfoot > tr.danger > td,
.table > thead > tr.danger > th,
.table > tbody > tr.danger > th,
.table > tfoot > tr.danger > th {
  background-color: #f2dede;
}
.table-hover > tbody > tr > td.danger:hover,
.table-hover > tbody > tr > th.danger:hover,
.table-hover > tbody > tr.danger:hover > td,
.table-hover > tbody > tr:hover > .danger,
.table-hover > tbody > tr.danger:hover > th {
  background-color: #ebcccc;
}
.table-responsive {
  overflow-x: auto;
  min-height: 0.01%;
}
@media screen and (max-width: 767px) {
  .table-responsive {
    width: 100%;
    margin-bottom: 13.5px;
    overflow-y: hidden;
    -ms-overflow-style: -ms-autohiding-scrollbar;
    border: 1px solid #ddd;
  }
  .table-responsive > .table {
    margin-bottom: 0;
  }
  .table-responsive > .table > thead > tr > th,
  .table-responsive > .table > tbody > tr > th,
  .table-responsive > .table > tfoot > tr > th,
  .table-responsive > .table > thead > tr > td,
  .table-responsive > .table > tbody > tr > td,
  .table-responsive > .table > tfoot > tr > td {
    white-space: nowrap;
  }
  .table-responsive > .table-bordered {
    border: 0;
  }
  .table-responsive > .table-bordered > thead > tr > th:first-child,
  .table-responsive > .table-bordered > tbody > tr > th:first-child,
  .table-responsive > .table-bordered > tfoot > tr > th:first-child,
  .table-responsive > .table-bordered > thead > tr > td:first-child,
  .table-responsive > .table-bordered > tbody > tr > td:first-child,
  .table-responsive > .table-bordered > tfoot > tr > td:first-child {
    border-left: 0;
  }
  .table-responsive > .table-bordered > thead > tr > th:last-child,
  .table-responsive > .table-bordered > tbody > tr > th:last-child,
  .table-responsive > .table-bordered > tfoot > tr > th:last-child,
  .table-responsive > .table-bordered > thead > tr > td:last-child,
  .table-responsive > .table-bordered > tbody > tr > td:last-child,
  .table-responsive > .table-bordered > tfoot > tr > td:last-child {
    border-right: 0;
  }
  .table-responsive > .table-bordered > tbody > tr:last-child > th,
  .table-responsive > .table-bordered > tfoot > tr:last-child > th,
  .table-responsive > .table-bordered > tbody > tr:last-child > td,
  .table-responsive > .table-bordered > tfoot > tr:last-child > td {
    border-bottom: 0;
  }
}
fieldset {
  padding: 0;
  margin: 0;
  border: 0;
  min-width: 0;
}
legend {
  display: block;
  width: 100%;
  padding: 0;
  margin-bottom: 18px;
  font-size: 19.5px;
  line-height: inherit;
  color: #333333;
  border: 0;
  border-bottom: 1px solid #e5e5e5;
}
label {
  display: inline-block;
  max-width: 100%;
  margin-bottom: 5px;
  font-weight: bold;
}
input[type="search"] {
  -webkit-box-sizing: border-box;
  -moz-box-sizing: border-box;
  box-sizing: border-box;
}
input[type="radio"],
input[type="checkbox"] {
  margin: 4px 0 0;
  margin-top: 1px \9;
  line-height: normal;
}
input[type="file"] {
  display: block;
}
input[type="range"] {
  display: block;
  width: 100%;
}
select[multiple],
select[size] {
  height: auto;
}
input[type="file"]:focus,
input[type="radio"]:focus,
input[type="checkbox"]:focus {
  outline: 5px auto -webkit-focus-ring-color;
  outline-offset: -2px;
}
output {
  display: block;
  padding-top: 7px;
  font-size: 13px;
  line-height: 1.42857143;
  color: #555555;
}
.form-control {
  display: block;
  width: 100%;
  height: 32px;
  padding: 6px 12px;
  font-size: 13px;
  line-height: 1.42857143;
  color: #555555;
  background-color: #fff;
  background-image: none;
  border: 1px solid #ccc;
  border-radius: 2px;
  -webkit-box-shadow: inset 0 1px 1px rgba(0, 0, 0, 0.075);
  box-shadow: inset 0 1px 1px rgba(0, 0, 0, 0.075);
  -webkit-transition: border-color ease-in-out .15s, box-shadow ease-in-out .15s;
  -o-transition: border-color ease-in-out .15s, box-shadow ease-in-out .15s;
  transition: border-color ease-in-out .15s, box-shadow ease-in-out .15s;
}
.form-control:focus {
  border-color: #66afe9;
  outline: 0;
  -webkit-box-shadow: inset 0 1px 1px rgba(0,0,0,.075), 0 0 8px rgba(102, 175, 233, 0.6);
  box-shadow: inset 0 1px 1px rgba(0,0,0,.075), 0 0 8px rgba(102, 175, 233, 0.6);
}
.form-control::-moz-placeholder {
  color: #999;
  opacity: 1;
}
.form-control:-ms-input-placeholder {
  color: #999;
}
.form-control::-webkit-input-placeholder {
  color: #999;
}
.form-control::-ms-expand {
  border: 0;
  background-color: transparent;
}
.form-control[disabled],
.form-control[readonly],
fieldset[disabled] .form-control {
  background-color: #eeeeee;
  opacity: 1;
}
.form-control[disabled],
fieldset[disabled] .form-control {
  cursor: not-allowed;
}
textarea.form-control {
  height: auto;
}
input[type="search"] {
  -webkit-appearance: none;
}
@media screen and (-webkit-min-device-pixel-ratio: 0) {
  input[type="date"].form-control,
  input[type="time"].form-control,
  input[type="datetime-local"].form-control,
  input[type="month"].form-control {
    line-height: 32px;
  }
  input[type="date"].input-sm,
  input[type="time"].input-sm,
  input[type="datetime-local"].input-sm,
  input[type="month"].input-sm,
  .input-group-sm input[type="date"],
  .input-group-sm input[type="time"],
  .input-group-sm input[type="datetime-local"],
  .input-group-sm input[type="month"] {
    line-height: 30px;
  }
  input[type="date"].input-lg,
  input[type="time"].input-lg,
  input[type="datetime-local"].input-lg,
  input[type="month"].input-lg,
  .input-group-lg input[type="date"],
  .input-group-lg input[type="time"],
  .input-group-lg input[type="datetime-local"],
  .input-group-lg input[type="month"] {
    line-height: 45px;
  }
}
.form-group {
  margin-bottom: 15px;
}
.radio,
.checkbox {
  position: relative;
  display: block;
  margin-top: 10px;
  margin-bottom: 10px;
}
.radio label,
.checkbox label {
  min-height: 18px;
  padding-left: 20px;
  margin-bottom: 0;
  font-weight: normal;
  cursor: pointer;
}
.radio input[type="radio"],
.radio-inline input[type="radio"],
.checkbox input[type="checkbox"],
.checkbox-inline input[type="checkbox"] {
  position: absolute;
  margin-left: -20px;
  margin-top: 4px \9;
}
.radio + .radio,
.checkbox + .checkbox {
  margin-top: -5px;
}
.radio-inline,
.checkbox-inline {
  position: relative;
  display: inline-block;
  padding-left: 20px;
  margin-bottom: 0;
  vertical-align: middle;
  font-weight: normal;
  cursor: pointer;
}
.radio-inline + .radio-inline,
.checkbox-inline + .checkbox-inline {
  margin-top: 0;
  margin-left: 10px;
}
input[type="radio"][disabled],
input[type="checkbox"][disabled],
input[type="radio"].disabled,
input[type="checkbox"].disabled,
fieldset[disabled] input[type="radio"],
fieldset[disabled] input[type="checkbox"] {
  cursor: not-allowed;
}
.radio-inline.disabled,
.checkbox-inline.disabled,
fieldset[disabled] .radio-inline,
fieldset[disabled] .checkbox-inline {
  cursor: not-allowed;
}
.radio.disabled label,
.checkbox.disabled label,
fieldset[disabled] .radio label,
fieldset[disabled] .checkbox label {
  cursor: not-allowed;
}
.form-control-static {
  padding-top: 7px;
  padding-bottom: 7px;
  margin-bottom: 0;
  min-height: 31px;
}
.form-control-static.input-lg,
.form-control-static.input-sm {
  padding-left: 0;
  padding-right: 0;
}
.input-sm {
  height: 30px;
  padding: 5px 10px;
  font-size: 12px;
  line-height: 1.5;
  border-radius: 1px;
}
select.input-sm {
  height: 30px;
  line-height: 30px;
}
textarea.input-sm,
select[multiple].input-sm {
  height: auto;
}
.form-group-sm .form-control {
  height: 30px;
  padding: 5px 10px;
  font-size: 12px;
  line-height: 1.5;
  border-radius: 1px;
}
.form-group-sm select.form-control {
  height: 30px;
  line-height: 30px;
}
.form-group-sm textarea.form-control,
.form-group-sm select[multiple].form-control {
  height: auto;
}
.form-group-sm .form-control-static {
  height: 30px;
  min-height: 30px;
  padding: 6px 10px;
  font-size: 12px;
  line-height: 1.5;
}
.input-lg {
  height: 45px;
  padding: 10px 16px;
  font-size: 17px;
  line-height: 1.3333333;
  border-radius: 3px;
}
select.input-lg {
  height: 45px;
  line-height: 45px;
}
textarea.input-lg,
select[multiple].input-lg {
  height: auto;
}
.form-group-lg .form-control {
  height: 45px;
  padding: 10px 16px;
  font-size: 17px;
  line-height: 1.3333333;
  border-radius: 3px;
}
.form-group-lg select.form-control {
  height: 45px;
  line-height: 45px;
}
.form-group-lg textarea.form-control,
.form-group-lg select[multiple].form-control {
  height: auto;
}
.form-group-lg .form-control-static {
  height: 45px;
  min-height: 35px;
  padding: 11px 16px;
  font-size: 17px;
  line-height: 1.3333333;
}
.has-feedback {
  position: relative;
}
.has-feedback .form-control {
  padding-right: 40px;
}
.form-control-feedback {
  position: absolute;
  top: 0;
  right: 0;
  z-index: 2;
  display: block;
  width: 32px;
  height: 32px;
  line-height: 32px;
  text-align: center;
  pointer-events: none;
}
.input-lg + .form-control-feedback,
.input-group-lg + .form-control-feedback,
.form-group-lg .form-control + .form-control-feedback {
  width: 45px;
  height: 45px;
  line-height: 45px;
}
.input-sm + .form-control-feedback,
.input-group-sm + .form-control-feedback,
.form-group-sm .form-control + .form-control-feedback {
  width: 30px;
  height: 30px;
  line-height: 30px;
}
.has-success .help-block,
.has-success .control-label,
.has-success .radio,
.has-success .checkbox,
.has-success .radio-inline,
.has-success .checkbox-inline,
.has-success.radio label,
.has-success.checkbox label,
.has-success.radio-inline label,
.has-success.checkbox-inline label {
  color: #3c763d;
}
.has-success .form-control {
  border-color: #3c763d;
  -webkit-box-shadow: inset 0 1px 1px rgba(0, 0, 0, 0.075);
  box-shadow: inset 0 1px 1px rgba(0, 0, 0, 0.075);
}
.has-success .form-control:focus {
  border-color: #2b542c;
  -webkit-box-shadow: inset 0 1px 1px rgba(0, 0, 0, 0.075), 0 0 6px #67b168;
  box-shadow: inset 0 1px 1px rgba(0, 0, 0, 0.075), 0 0 6px #67b168;
}
.has-success .input-group-addon {
  color: #3c763d;
  border-color: #3c763d;
  background-color: #dff0d8;
}
.has-success .form-control-feedback {
  color: #3c763d;
}
.has-warning .help-block,
.has-warning .control-label,
.has-warning .radio,
.has-warning .checkbox,
.has-warning .radio-inline,
.has-warning .checkbox-inline,
.has-warning.radio label,
.has-warning.checkbox label,
.has-warning.radio-inline label,
.has-warning.checkbox-inline label {
  color: #8a6d3b;
}
.has-warning .form-control {
  border-color: #8a6d3b;
  -webkit-box-shadow: inset 0 1px 1px rgba(0, 0, 0, 0.075);
  box-shadow: inset 0 1px 1px rgba(0, 0, 0, 0.075);
}
.has-warning .form-control:focus {
  border-color: #66512c;
  -webkit-box-shadow: inset 0 1px 1px rgba(0, 0, 0, 0.075), 0 0 6px #c0a16b;
  box-shadow: inset 0 1px 1px rgba(0, 0, 0, 0.075), 0 0 6px #c0a16b;
}
.has-warning .input-group-addon {
  color: #8a6d3b;
  border-color: #8a6d3b;
  background-color: #fcf8e3;
}
.has-warning .form-control-feedback {
  color: #8a6d3b;
}
.has-error .help-block,
.has-error .control-label,
.has-error .radio,
.has-error .checkbox,
.has-error .radio-inline,
.has-error .checkbox-inline,
.has-error.radio label,
.has-error.checkbox label,
.has-error.radio-inline label,
.has-error.checkbox-inline label {
  color: #a94442;
}
.has-error .form-control {
  border-color: #a94442;
  -webkit-box-shadow: inset 0 1px 1px rgba(0, 0, 0, 0.075);
  box-shadow: inset 0 1px 1px rgba(0, 0, 0, 0.075);
}
.has-error .form-control:focus {
  border-color: #843534;
  -webkit-box-shadow: inset 0 1px 1px rgba(0, 0, 0, 0.075), 0 0 6px #ce8483;
  box-shadow: inset 0 1px 1px rgba(0, 0, 0, 0.075), 0 0 6px #ce8483;
}
.has-error .input-group-addon {
  color: #a94442;
  border-color: #a94442;
  background-color: #f2dede;
}
.has-error .form-control-feedback {
  color: #a94442;
}
.has-feedback label ~ .form-control-feedback {
  top: 23px;
}
.has-feedback label.sr-only ~ .form-control-feedback {
  top: 0;
}
.help-block {
  display: block;
  margin-top: 5px;
  margin-bottom: 10px;
  color: #404040;
}
@media (min-width: 768px) {
  .form-inline .form-group {
    display: inline-block;
    margin-bottom: 0;
    vertical-align: middle;
  }
  .form-inline .form-control {
    display: inline-block;
    width: auto;
    vertical-align: middle;
  }
  .form-inline .form-control-static {
    display: inline-block;
  }
  .form-inline .input-group {
    display: inline-table;
    vertical-align: middle;
  }
  .form-inline .input-group .input-group-addon,
  .form-inline .input-group .input-group-btn,
  .form-inline .input-group .form-control {
    width: auto;
  }
  .form-inline .input-group > .form-control {
    width: 100%;
  }
  .form-inline .control-label {
    margin-bottom: 0;
    vertical-align: middle;
  }
  .form-inline .radio,
  .form-inline .checkbox {
    display: inline-block;
    margin-top: 0;
    margin-bottom: 0;
    vertical-align: middle;
  }
  .form-inline .radio label,
  .form-inline .checkbox label {
    padding-left: 0;
  }
  .form-inline .radio input[type="radio"],
  .form-inline .checkbox input[type="checkbox"] {
    position: relative;
    margin-left: 0;
  }
  .form-inline .has-feedback .form-control-feedback {
    top: 0;
  }
}
.form-horizontal .radio,
.form-horizontal .checkbox,
.form-horizontal .radio-inline,
.form-horizontal .checkbox-inline {
  margin-top: 0;
  margin-bottom: 0;
  padding-top: 7px;
}
.form-horizontal .radio,
.form-horizontal .checkbox {
  min-height: 25px;
}
.form-horizontal .form-group {
  margin-left: 0px;
  margin-right: 0px;
}
@media (min-width: 768px) {
  .form-horizontal .control-label {
    text-align: right;
    margin-bottom: 0;
    padding-top: 7px;
  }
}
.form-horizontal .has-feedback .form-control-feedback {
  right: 0px;
}
@media (min-width: 768px) {
  .form-horizontal .form-group-lg .control-label {
    padding-top: 11px;
    font-size: 17px;
  }
}
@media (min-width: 768px) {
  .form-horizontal .form-group-sm .control-label {
    padding-top: 6px;
    font-size: 12px;
  }
}
.btn {
  display: inline-block;
  margin-bottom: 0;
  font-weight: normal;
  text-align: center;
  vertical-align: middle;
  touch-action: manipulation;
  cursor: pointer;
  background-image: none;
  border: 1px solid transparent;
  white-space: nowrap;
  padding: 6px 12px;
  font-size: 13px;
  line-height: 1.42857143;
  border-radius: 2px;
  -webkit-user-select: none;
  -moz-user-select: none;
  -ms-user-select: none;
  user-select: none;
}
.btn:focus,
.btn:active:focus,
.btn.active:focus,
.btn.focus,
.btn:active.focus,
.btn.active.focus {
  outline: 5px auto -webkit-focus-ring-color;
  outline-offset: -2px;
}
.btn:hover,
.btn:focus,
.btn.focus {
  color: #333;
  text-decoration: none;
}
.btn:active,
.btn.active {
  outline: 0;
  background-image: none;
  -webkit-box-shadow: inset 0 3px 5px rgba(0, 0, 0, 0.125);
  box-shadow: inset 0 3px 5px rgba(0, 0, 0, 0.125);
}
.btn.disabled,
.btn[disabled],
fieldset[disabled] .btn {
  cursor: not-allowed;
  opacity: 0.65;
  filter: alpha(opacity=65);
  -webkit-box-shadow: none;
  box-shadow: none;
}
a.btn.disabled,
fieldset[disabled] a.btn {
  pointer-events: none;
}
.btn-default {
  color: #333;
  background-color: #fff;
  border-color: #ccc;
}
.btn-default:focus,
.btn-default.focus {
  color: #333;
  background-color: #e6e6e6;
  border-color: #8c8c8c;
}
.btn-default:hover {
  color: #333;
  background-color: #e6e6e6;
  border-color: #adadad;
}
.btn-default:active,
.btn-default.active,
.open > .dropdown-toggle.btn-default {
  color: #333;
  background-color: #e6e6e6;
  border-color: #adadad;
}
.btn-default:active:hover,
.btn-default.active:hover,
.open > .dropdown-toggle.btn-default:hover,
.btn-default:active:focus,
.btn-default.active:focus,
.open > .dropdown-toggle.btn-default:focus,
.btn-default:active.focus,
.btn-default.active.focus,
.open > .dropdown-toggle.btn-default.focus {
  color: #333;
  background-color: #d4d4d4;
  border-color: #8c8c8c;
}
.btn-default:active,
.btn-default.active,
.open > .dropdown-toggle.btn-default {
  background-image: none;
}
.btn-default.disabled:hover,
.btn-default[disabled]:hover,
fieldset[disabled] .btn-default:hover,
.btn-default.disabled:focus,
.btn-default[disabled]:focus,
fieldset[disabled] .btn-default:focus,
.btn-default.disabled.focus,
.btn-default[disabled].focus,
fieldset[disabled] .btn-default.focus {
  background-color: #fff;
  border-color: #ccc;
}
.btn-default .badge {
  color: #fff;
  background-color: #333;
}
.btn-primary {
  color: #fff;
  background-color: #337ab7;
  border-color: #2e6da4;
}
.btn-primary:focus,
.btn-primary.focus {
  color: #fff;
  background-color: #286090;
  border-color: #122b40;
}
.btn-primary:hover {
  color: #fff;
  background-color: #286090;
  border-color: #204d74;
}
.btn-primary:active,
.btn-primary.active,
.open > .dropdown-toggle.btn-primary {
  color: #fff;
  background-color: #286090;
  border-color: #204d74;
}
.btn-primary:active:hover,
.btn-primary.active:hover,
.open > .dropdown-toggle.btn-primary:hover,
.btn-primary:active:focus,
.btn-primary.active:focus,
.open > .dropdown-toggle.btn-primary:focus,
.btn-primary:active.focus,
.btn-primary.active.focus,
.open > .dropdown-toggle.btn-primary.focus {
  color: #fff;
  background-color: #204d74;
  border-color: #122b40;
}
.btn-primary:active,
.btn-primary.active,
.open > .dropdown-toggle.btn-primary {
  background-image: none;
}
.btn-primary.disabled:hover,
.btn-primary[disabled]:hover,
fieldset[disabled] .btn-primary:hover,
.btn-primary.disabled:focus,
.btn-primary[disabled]:focus,
fieldset[disabled] .btn-primary:focus,
.btn-primary.disabled.focus,
.btn-primary[disabled].focus,
fieldset[disabled] .btn-primary.focus {
  background-color: #337ab7;
  border-color: #2e6da4;
}
.btn-primary .badge {
  color: #337ab7;
  background-color: #fff;
}
.btn-success {
  color: #fff;
  background-color: #5cb85c;
  border-color: #4cae4c;
}
.btn-success:focus,
.btn-success.focus {
  color: #fff;
  background-color: #449d44;
  border-color: #255625;
}
.btn-success:hover {
  color: #fff;
  background-color: #449d44;
  border-color: #398439;
}
.btn-success:active,
.btn-success.active,
.open > .dropdown-toggle.btn-success {
  color: #fff;
  background-color: #449d44;
  border-color: #398439;
}
.btn-success:active:hover,
.btn-success.active:hover,
.open > .dropdown-toggle.btn-success:hover,
.btn-success:active:focus,
.btn-success.active:focus,
.open > .dropdown-toggle.btn-success:focus,
.btn-success:active.focus,
.btn-success.active.focus,
.open > .dropdown-toggle.btn-success.focus {
  color: #fff;
  background-color: #398439;
  border-color: #255625;
}
.btn-success:active,
.btn-success.active,
.open > .dropdown-toggle.btn-success {
  background-image: none;
}
.btn-success.disabled:hover,
.btn-success[disabled]:hover,
fieldset[disabled] .btn-success:hover,
.btn-success.disabled:focus,
.btn-success[disabled]:focus,
fieldset[disabled] .btn-success:focus,
.btn-success.disabled.focus,
.btn-success[disabled].focus,
fieldset[disabled] .btn-success.focus {
  background-color: #5cb85c;
  border-color: #4cae4c;
}
.btn-success .badge {
  color: #5cb85c;
  background-color: #fff;
}
.btn-info {
  color: #fff;
  background-color: #5bc0de;
  border-color: #46b8da;
}
.btn-info:focus,
.btn-info.focus {
  color: #fff;
  background-color: #31b0d5;
  border-color: #1b6d85;
}
.btn-info:hover {
  color: #fff;
  background-color: #31b0d5;
  border-color: #269abc;
}
.btn-info:active,
.btn-info.active,
.open > .dropdown-toggle.btn-info {
  color: #fff;
  background-color: #31b0d5;
  border-color: #269abc;
}
.btn-info:active:hover,
.btn-info.active:hover,
.open > .dropdown-toggle.btn-info:hover,
.btn-info:active:focus,
.btn-info.active:focus,
.open > .dropdown-toggle.btn-info:focus,
.btn-info:active.focus,
.btn-info.active.focus,
.open > .dropdown-toggle.btn-info.focus {
  color: #fff;
  background-color: #269abc;
  border-color: #1b6d85;
}
.btn-info:active,
.btn-info.active,
.open > .dropdown-toggle.btn-info {
  background-image: none;
}
.btn-info.disabled:hover,
.btn-info[disabled]:hover,
fieldset[disabled] .btn-info:hover,
.btn-info.disabled:focus,
.btn-info[disabled]:focus,
fieldset[disabled] .btn-info:focus,
.btn-info.disabled.focus,
.btn-info[disabled].focus,
fieldset[disabled] .btn-info.focus {
  background-color: #5bc0de;
  border-color: #46b8da;
}
.btn-info .badge {
  color: #5bc0de;
  background-color: #fff;
}
.btn-warning {
  color: #fff;
  background-color: #f0ad4e;
  border-color: #eea236;
}
.btn-warning:focus,
.btn-warning.focus {
  color: #fff;
  background-color: #ec971f;
  border-color: #985f0d;
}
.btn-warning:hover {
  color: #fff;
  background-color: #ec971f;
  border-color: #d58512;
}
.btn-warning:active,
.btn-warning.active,
.open > .dropdown-toggle.btn-warning {
  color: #fff;
  background-color: #ec971f;
  border-color: #d58512;
}
.btn-warning:active:hover,
.btn-warning.active:hover,
.open > .dropdown-toggle.btn-warning:hover,
.btn-warning:active:focus,
.btn-warning.active:focus,
.open > .dropdown-toggle.btn-warning:focus,
.btn-warning:active.focus,
.btn-warning.active.focus,
.open > .dropdown-toggle.btn-warning.focus {
  color: #fff;
  background-color: #d58512;
  border-color: #985f0d;
}
.btn-warning:active,
.btn-warning.active,
.open > .dropdown-toggle.btn-warning {
  background-image: none;
}
.btn-warning.disabled:hover,
.btn-warning[disabled]:hover,
fieldset[disabled] .btn-warning:hover,
.btn-warning.disabled:focus,
.btn-warning[disabled]:focus,
fieldset[disabled] .btn-warning:focus,
.btn-warning.disabled.focus,
.btn-warning[disabled].focus,
fieldset[disabled] .btn-warning.focus {
  background-color: #f0ad4e;
  border-color: #eea236;
}
.btn-warning .badge {
  color: #f0ad4e;
  background-color: #fff;
}
.btn-danger {
  color: #fff;
  background-color: #d9534f;
  border-color: #d43f3a;
}
.btn-danger:focus,
.btn-danger.focus {
  color: #fff;
  background-color: #c9302c;
  border-color: #761c19;
}
.btn-danger:hover {
  color: #fff;
  background-color: #c9302c;
  border-color: #ac2925;
}
.btn-danger:active,
.btn-danger.active,
.open > .dropdown-toggle.btn-danger {
  color: #fff;
  background-color: #c9302c;
  border-color: #ac2925;
}
.btn-danger:active:hover,
.btn-danger.active:hover,
.open > .dropdown-toggle.btn-danger:hover,
.btn-danger:active:focus,
.btn-danger.active:focus,
.open > .dropdown-toggle.btn-danger:focus,
.btn-danger:active.focus,
.btn-danger.active.focus,
.open > .dropdown-toggle.btn-danger.focus {
  color: #fff;
  background-color: #ac2925;
  border-color: #761c19;
}
.btn-danger:active,
.btn-danger.active,
.open > .dropdown-toggle.btn-danger {
  background-image: none;
}
.btn-danger.disabled:hover,
.btn-danger[disabled]:hover,
fieldset[disabled] .btn-danger:hover,
.btn-danger.disabled:focus,
.btn-danger[disabled]:focus,
fieldset[disabled] .btn-danger:focus,
.btn-danger.disabled.focus,
.btn-danger[disabled].focus,
fieldset[disabled] .btn-danger.focus {
  background-color: #d9534f;
  border-color: #d43f3a;
}
.btn-danger .badge {
  color: #d9534f;
  background-color: #fff;
}
.btn-link {
  color: #337ab7;
  font-weight: normal;
  border-radius: 0;
}
.btn-link,
.btn-link:active,
.btn-link.active,
.btn-link[disabled],
fieldset[disabled] .btn-link {
  background-color: transparent;
  -webkit-box-shadow: none;
  box-shadow: none;
}
.btn-link,
.btn-link:hover,
.btn-link:focus,
.btn-link:active {
  border-color: transparent;
}
.btn-link:hover,
.btn-link:focus {
  color: #23527c;
  text-decoration: underline;
  background-color: transparent;
}
.btn-link[disabled]:hover,
fieldset[disabled] .btn-link:hover,
.btn-link[disabled]:focus,
fieldset[disabled] .btn-link:focus {
  color: #777777;
  text-decoration: none;
}
.btn-lg,
.btn-group-lg > .btn {
  padding: 10px 16px;
  font-size: 17px;
  line-height: 1.3333333;
  border-radius: 3px;
}
.btn-sm,
.btn-group-sm > .btn {
  padding: 5px 10px;
  font-size: 12px;
  line-height: 1.5;
  border-radius: 1px;
}
.btn-xs,
.btn-group-xs > .btn {
  padding: 1px 5px;
  font-size: 12px;
  line-height: 1.5;
  border-radius: 1px;
}
.btn-block {
  display: block;
  width: 100%;
}
.btn-block + .btn-block {
  margin-top: 5px;
}
input[type="submit"].btn-block,
input[type="reset"].btn-block,
input[type="button"].btn-block {
  width: 100%;
}
.fade {
  opacity: 0;
  -webkit-transition: opacity 0.15s linear;
  -o-transition: opacity 0.15s linear;
  transition: opacity 0.15s linear;
}
.fade.in {
  opacity: 1;
}
.collapse {
  display: none;
}
.collapse.in {
  display: block;
}
tr.collapse.in {
  display: table-row;
}
tbody.collapse.in {
  display: table-row-group;
}
.collapsing {
  position: relative;
  height: 0;
  overflow: hidden;
  -webkit-transition-property: height, visibility;
  transition-property: height, visibility;
  -webkit-transition-duration: 0.35s;
  transition-duration: 0.35s;
  -webkit-transition-timing-function: ease;
  transition-timing-function: ease;
}
.caret {
  display: inline-block;
  width: 0;
  height: 0;
  margin-left: 2px;
  vertical-align: middle;
  border-top: 4px dashed;
  border-top: 4px solid \9;
  border-right: 4px solid transparent;
  border-left: 4px solid transparent;
}
.dropup,
.dropdown {
  position: relative;
}
.dropdown-toggle:focus {
  outline: 0;
}
.dropdown-menu {
  position: absolute;
  top: 100%;
  left: 0;
  z-index: 1000;
  display: none;
  float: left;
  min-width: 160px;
  padding: 5px 0;
  margin: 2px 0 0;
  list-style: none;
  font-size: 13px;
  text-align: left;
  background-color: #fff;
  border: 1px solid #ccc;
  border: 1px solid rgba(0, 0, 0, 0.15);
  border-radius: 2px;
  -webkit-box-shadow: 0 6px 12px rgba(0, 0, 0, 0.175);
  box-shadow: 0 6px 12px rgba(0, 0, 0, 0.175);
  background-clip: padding-box;
}
.dropdown-menu.pull-right {
  right: 0;
  left: auto;
}
.dropdown-menu .divider {
  height: 1px;
  margin: 8px 0;
  overflow: hidden;
  background-color: #e5e5e5;
}
.dropdown-menu > li > a {
  display: block;
  padding: 3px 20px;
  clear: both;
  font-weight: normal;
  line-height: 1.42857143;
  color: #333333;
  white-space: nowrap;
}
.dropdown-menu > li > a:hover,
.dropdown-menu > li > a:focus {
  text-decoration: none;
  color: #262626;
  background-color: #f5f5f5;
}
.dropdown-menu > .active > a,
.dropdown-menu > .active > a:hover,
.dropdown-menu > .active > a:focus {
  color: #fff;
  text-decoration: none;
  outline: 0;
  background-color: #337ab7;
}
.dropdown-menu > .disabled > a,
.dropdown-menu > .disabled > a:hover,
.dropdown-menu > .disabled > a:focus {
  color: #777777;
}
.dropdown-menu > .disabled > a:hover,
.dropdown-menu > .disabled > a:focus {
  text-decoration: none;
  background-color: transparent;
  background-image: none;
  filter: progid:DXImageTransform.Microsoft.gradient(enabled = false);
  cursor: not-allowed;
}
.open > .dropdown-menu {
  display: block;
}
.open > a {
  outline: 0;
}
.dropdown-menu-right {
  left: auto;
  right: 0;
}
.dropdown-menu-left {
  left: 0;
  right: auto;
}
.dropdown-header {
  display: block;
  padding: 3px 20px;
  font-size: 12px;
  line-height: 1.42857143;
  color: #777777;
  white-space: nowrap;
}
.dropdown-backdrop {
  position: fixed;
  left: 0;
  right: 0;
  bottom: 0;
  top: 0;
  z-index: 990;
}
.pull-right > .dropdown-menu {
  right: 0;
  left: auto;
}
.dropup .caret,
.navbar-fixed-bottom .dropdown .caret {
  border-top: 0;
  border-bottom: 4px dashed;
  border-bottom: 4px solid \9;
  content: "";
}
.dropup .dropdown-menu,
.navbar-fixed-bottom .dropdown .dropdown-menu {
  top: auto;
  bottom: 100%;
  margin-bottom: 2px;
}
@media (min-width: 541px) {
  .navbar-right .dropdown-menu {
    left: auto;
    right: 0;
  }
  .navbar-right .dropdown-menu-left {
    left: 0;
    right: auto;
  }
}
.btn-group,
.btn-group-vertical {
  position: relative;
  display: inline-block;
  vertical-align: middle;
}
.btn-group > .btn,
.btn-group-vertical > .btn {
  position: relative;
  float: left;
}
.btn-group > .btn:hover,
.btn-group-vertical > .btn:hover,
.btn-group > .btn:focus,
.btn-group-vertical > .btn:focus,
.btn-group > .btn:active,
.btn-group-vertical > .btn:active,
.btn-group > .btn.active,
.btn-group-vertical > .btn.active {
  z-index: 2;
}
.btn-group .btn + .btn,
.btn-group .btn + .btn-group,
.btn-group .btn-group + .btn,
.btn-group .btn-group + .btn-group {
  margin-left: -1px;
}
.btn-toolbar {
  margin-left: -5px;
}
.btn-toolbar .btn,
.btn-toolbar .btn-group,
.btn-toolbar .input-group {
  float: left;
}
.btn-toolbar > .btn,
.btn-toolbar > .btn-group,
.btn-toolbar > .input-group {
  margin-left: 5px;
}
.btn-group > .btn:not(:first-child):not(:last-child):not(.dropdown-toggle) {
  border-radius: 0;
}
.btn-group > .btn:first-child {
  margin-left: 0;
}
.btn-group > .btn:first-child:not(:last-child):not(.dropdown-toggle) {
  border-bottom-right-radius: 0;
  border-top-right-radius: 0;
}
.btn-group > .btn:last-child:not(:first-child),
.btn-group > .dropdown-toggle:not(:first-child) {
  border-bottom-left-radius: 0;
  border-top-left-radius: 0;
}
.btn-group > .btn-group {
  float: left;
}
.btn-group > .btn-group:not(:first-child):not(:last-child) > .btn {
  border-radius: 0;
}
.btn-group > .btn-group:first-child:not(:last-child) > .btn:last-child,
.btn-group > .btn-group:first-child:not(:last-child) > .dropdown-toggle {
  border-bottom-right-radius: 0;
  border-top-right-radius: 0;
}
.btn-group > .btn-group:last-child:not(:first-child) > .btn:first-child {
  border-bottom-left-radius: 0;
  border-top-left-radius: 0;
}
.btn-group .dropdown-toggle:active,
.btn-group.open .dropdown-toggle {
  outline: 0;
}
.btn-group > .btn + .dropdown-toggle {
  padding-left: 8px;
  padding-right: 8px;
}
.btn-group > .btn-lg + .dropdown-toggle {
  padding-left: 12px;
  padding-right: 12px;
}
.btn-group.open .dropdown-toggle {
  -webkit-box-shadow: inset 0 3px 5px rgba(0, 0, 0, 0.125);
  box-shadow: inset 0 3px 5px rgba(0, 0, 0, 0.125);
}
.btn-group.open .dropdown-toggle.btn-link {
  -webkit-box-shadow: none;
  box-shadow: none;
}
.btn .caret {
  margin-left: 0;
}
.btn-lg .caret {
  border-width: 5px 5px 0;
  border-bottom-width: 0;
}
.dropup .btn-lg .caret {
  border-width: 0 5px 5px;
}
.btn-group-vertical > .btn,
.btn-group-vertical > .btn-group,
.btn-group-vertical > .btn-group > .btn {
  display: block;
  float: none;
  width: 100%;
  max-width: 100%;
}
.btn-group-vertical > .btn-group > .btn {
  float: none;
}
.btn-group-vertical > .btn + .btn,
.btn-group-vertical > .btn + .btn-group,
.btn-group-vertical > .btn-group + .btn,
.btn-group-vertical > .btn-group + .btn-group {
  margin-top: -1px;
  margin-left: 0;
}
.btn-group-vertical > .btn:not(:first-child):not(:last-child) {
  border-radius: 0;
}
.btn-group-vertical > .btn:first-child:not(:last-child) {
  border-top-right-radius: 2px;
  border-top-left-radius: 2px;
  border-bottom-right-radius: 0;
  border-bottom-left-radius: 0;
}
.btn-group-vertical > .btn:last-child:not(:first-child) {
  border-top-right-radius: 0;
  border-top-left-radius: 0;
  border-bottom-right-radius: 2px;
  border-bottom-left-radius: 2px;
}
.btn-group-vertical > .btn-group:not(:first-child):not(:last-child) > .btn {
  border-radius: 0;
}
.btn-group-vertical > .btn-group:first-child:not(:last-child) > .btn:last-child,
.btn-group-vertical > .btn-group:first-child:not(:last-child) > .dropdown-toggle {
  border-bottom-right-radius: 0;
  border-bottom-left-radius: 0;
}
.btn-group-vertical > .btn-group:last-child:not(:first-child) > .btn:first-child {
  border-top-right-radius: 0;
  border-top-left-radius: 0;
}
.btn-group-justified {
  display: table;
  width: 100%;
  table-layout: fixed;
  border-collapse: separate;
}
.btn-group-justified > .btn,
.btn-group-justified > .btn-group {
  float: none;
  display: table-cell;
  width: 1%;
}
.btn-group-justified > .btn-group .btn {
  width: 100%;
}
.btn-group-justified > .btn-group .dropdown-menu {
  left: auto;
}
[data-toggle="buttons"] > .btn input[type="radio"],
[data-toggle="buttons"] > .btn-group > .btn input[type="radio"],
[data-toggle="buttons"] > .btn input[type="checkbox"],
[data-toggle="buttons"] > .btn-group > .btn input[type="checkbox"] {
  position: absolute;
  clip: rect(0, 0, 0, 0);
  pointer-events: none;
}
.input-group {
  position: relative;
  display: table;
  border-collapse: separate;
}
.input-group[class*="col-"] {
  float: none;
  padding-left: 0;
  padding-right: 0;
}
.input-group .form-control {
  position: relative;
  z-index: 2;
  float: left;
  width: 100%;
  margin-bottom: 0;
}
.input-group .form-control:focus {
  z-index: 3;
}
.input-group-lg > .form-control,
.input-group-lg > .input-group-addon,
.input-group-lg > .input-group-btn > .btn {
  height: 45px;
  padding: 10px 16px;
  font-size: 17px;
  line-height: 1.3333333;
  border-radius: 3px;
}
select.input-group-lg > .form-control,
select.input-group-lg > .input-group-addon,
select.input-group-lg > .input-group-btn > .btn {
  height: 45px;
  line-height: 45px;
}
textarea.input-group-lg > .form-control,
textarea.input-group-lg > .input-group-addon,
textarea.input-group-lg > .input-group-btn > .btn,
select[multiple].input-group-lg > .form-control,
select[multiple].input-group-lg > .input-group-addon,
select[multiple].input-group-lg > .input-group-btn > .btn {
  height: auto;
}
.input-group-sm > .form-control,
.input-group-sm > .input-group-addon,
.input-group-sm > .input-group-btn > .btn {
  height: 30px;
  padding: 5px 10px;
  font-size: 12px;
  line-height: 1.5;
  border-radius: 1px;
}
select.input-group-sm > .form-control,
select.input-group-sm > .input-group-addon,
select.input-group-sm > .input-group-btn > .btn {
  height: 30px;
  line-height: 30px;
}
textarea.input-group-sm > .form-control,
textarea.input-group-sm > .input-group-addon,
textarea.input-group-sm > .input-group-btn > .btn,
select[multiple].input-group-sm > .form-control,
select[multiple].input-group-sm > .input-group-addon,
select[multiple].input-group-sm > .input-group-btn > .btn {
  height: auto;
}
.input-group-addon,
.input-group-btn,
.input-group .form-control {
  display: table-cell;
}
.input-group-addon:not(:first-child):not(:last-child),
.input-group-btn:not(:first-child):not(:last-child),
.input-group .form-control:not(:first-child):not(:last-child) {
  border-radius: 0;
}
.input-group-addon,
.input-group-btn {
  width: 1%;
  white-space: nowrap;
  vertical-align: middle;
}
.input-group-addon {
  padding: 6px 12px;
  font-size: 13px;
  font-weight: normal;
  line-height: 1;
  color: #555555;
  text-align: center;
  background-color: #eeeeee;
  border: 1px solid #ccc;
  border-radius: 2px;
}
.input-group-addon.input-sm {
  padding: 5px 10px;
  font-size: 12px;
  border-radius: 1px;
}
.input-group-addon.input-lg {
  padding: 10px 16px;
  font-size: 17px;
  border-radius: 3px;
}
.input-group-addon input[type="radio"],
.input-group-addon input[type="checkbox"] {
  margin-top: 0;
}
.input-group .form-control:first-child,
.input-group-addon:first-child,
.input-group-btn:first-child > .btn,
.input-group-btn:first-child > .btn-group > .btn,
.input-group-btn:first-child > .dropdown-toggle,
.input-group-btn:last-child > .btn:not(:last-child):not(.dropdown-toggle),
.input-group-btn:last-child > .btn-group:not(:last-child) > .btn {
  border-bottom-right-radius: 0;
  border-top-right-radius: 0;
}
.input-group-addon:first-child {
  border-right: 0;
}
.input-group .form-control:last-child,
.input-group-addon:last-child,
.input-group-btn:last-child > .btn,
.input-group-btn:last-child > .btn-group > .btn,
.input-group-btn:last-child > .dropdown-toggle,
.input-group-btn:first-child > .btn:not(:first-child),
.input-group-btn:first-child > .btn-group:not(:first-child) > .btn {
  border-bottom-left-radius: 0;
  border-top-left-radius: 0;
}
.input-group-addon:last-child {
  border-left: 0;
}
.input-group-btn {
  position: relative;
  font-size: 0;
  white-space: nowrap;
}
.input-group-btn > .btn {
  position: relative;
}
.input-group-btn > .btn + .btn {
  margin-left: -1px;
}
.input-group-btn > .btn:hover,
.input-group-btn > .btn:focus,
.input-group-btn > .btn:active {
  z-index: 2;
}
.input-group-btn:first-child > .btn,
.input-group-btn:first-child > .btn-group {
  margin-right: -1px;
}
.input-group-btn:last-child > .btn,
.input-group-btn:last-child > .btn-group {
  z-index: 2;
  margin-left: -1px;
}
.nav {
  margin-bottom: 0;
  padding-left: 0;
  list-style: none;
}
.nav > li {
  position: relative;
  display: block;
}
.nav > li > a {
  position: relative;
  display: block;
  padding: 10px 15px;
}
.nav > li > a:hover,
.nav > li > a:focus {
  text-decoration: none;
  background-color: #eeeeee;
}
.nav > li.disabled > a {
  color: #777777;
}
.nav > li.disabled > a:hover,
.nav > li.disabled > a:focus {
  color: #777777;
  text-decoration: none;
  background-color: transparent;
  cursor: not-allowed;
}
.nav .open > a,
.nav .open > a:hover,
.nav .open > a:focus {
  background-color: #eeeeee;
  border-color: #337ab7;
}
.nav .nav-divider {
  height: 1px;
  margin: 8px 0;
  overflow: hidden;
  background-color: #e5e5e5;
}
.nav > li > a > img {
  max-width: none;
}
.nav-tabs {
  border-bottom: 1px solid #ddd;
}
.nav-tabs > li {
  float: left;
  margin-bottom: -1px;
}
.nav-tabs > li > a {
  margin-right: 2px;
  line-height: 1.42857143;
  border: 1px solid transparent;
  border-radius: 2px 2px 0 0;
}
.nav-tabs > li > a:hover {
  border-color: #eeeeee #eeeeee #ddd;
}
.nav-tabs > li.active > a,
.nav-tabs > li.active > a:hover,
.nav-tabs > li.active > a:focus {
  color: #555555;
  background-color: #fff;
  border: 1px solid #ddd;
  border-bottom-color: transparent;
  cursor: default;
}
.nav-tabs.nav-justified {
  width: 100%;
  border-bottom: 0;
}
.nav-tabs.nav-justified > li {
  float: none;
}
.nav-tabs.nav-justified > li > a {
  text-align: center;
  margin-bottom: 5px;
}
.nav-tabs.nav-justified > .dropdown .dropdown-menu {
  top: auto;
  left: auto;
}
@media (min-width: 768px) {
  .nav-tabs.nav-justified > li {
    display: table-cell;
    width: 1%;
  }
  .nav-tabs.nav-justified > li > a {
    margin-bottom: 0;
  }
}
.nav-tabs.nav-justified > li > a {
  margin-right: 0;
  border-radius: 2px;
}
.nav-tabs.nav-justified > .active > a,
.nav-tabs.nav-justified > .active > a:hover,
.nav-tabs.nav-justified > .active > a:focus {
  border: 1px solid #ddd;
}
@media (min-width: 768px) {
  .nav-tabs.nav-justified > li > a {
    border-bottom: 1px solid #ddd;
    border-radius: 2px 2px 0 0;
  }
  .nav-tabs.nav-justified > .active > a,
  .nav-tabs.nav-justified > .active > a:hover,
  .nav-tabs.nav-justified > .active > a:focus {
    border-bottom-color: #fff;
  }
}
.nav-pills > li {
  float: left;
}
.nav-pills > li > a {
  border-radius: 2px;
}
.nav-pills > li + li {
  margin-left: 2px;
}
.nav-pills > li.active > a,
.nav-pills > li.active > a:hover,
.nav-pills > li.active > a:focus {
  color: #fff;
  background-color: #337ab7;
}
.nav-stacked > li {
  float: none;
}
.nav-stacked > li + li {
  margin-top: 2px;
  margin-left: 0;
}
.nav-justified {
  width: 100%;
}
.nav-justified > li {
  float: none;
}
.nav-justified > li > a {
  text-align: center;
  margin-bottom: 5px;
}
.nav-justified > .dropdown .dropdown-menu {
  top: auto;
  left: auto;
}
@media (min-width: 768px) {
  .nav-justified > li {
    display: table-cell;
    width: 1%;
  }
  .nav-justified > li > a {
    margin-bottom: 0;
  }
}
.nav-tabs-justified {
  border-bottom: 0;
}
.nav-tabs-justified > li > a {
  margin-right: 0;
  border-radius: 2px;
}
.nav-tabs-justified > .active > a,
.nav-tabs-justified > .active > a:hover,
.nav-tabs-justified > .active > a:focus {
  border: 1px solid #ddd;
}
@media (min-width: 768px) {
  .nav-tabs-justified > li > a {
    border-bottom: 1px solid #ddd;
    border-radius: 2px 2px 0 0;
  }
  .nav-tabs-justified > .active > a,
  .nav-tabs-justified > .active > a:hover,
  .nav-tabs-justified > .active > a:focus {
    border-bottom-color: #fff;
  }
}
.tab-content > .tab-pane {
  display: none;
}
.tab-content > .active {
  display: block;
}
.nav-tabs .dropdown-menu {
  margin-top: -1px;
  border-top-right-radius: 0;
  border-top-left-radius: 0;
}
.navbar {
  position: relative;
  min-height: 30px;
  margin-bottom: 18px;
  border: 1px solid transparent;
}
@media (min-width: 541px) {
  .navbar {
    border-radius: 2px;
  }
}
@media (min-width: 541px) {
  .navbar-header {
    float: left;
  }
}
.navbar-collapse {
  overflow-x: visible;
  padding-right: 0px;
  padding-left: 0px;
  border-top: 1px solid transparent;
  box-shadow: inset 0 1px 0 rgba(255, 255, 255, 0.1);
  -webkit-overflow-scrolling: touch;
}
.navbar-collapse.in {
  overflow-y: auto;
}
@media (min-width: 541px) {
  .navbar-collapse {
    width: auto;
    border-top: 0;
    box-shadow: none;
  }
  .navbar-collapse.collapse {
    display: block !important;
    height: auto !important;
    padding-bottom: 0;
    overflow: visible !important;
  }
  .navbar-collapse.in {
    overflow-y: visible;
  }
  .navbar-fixed-top .navbar-collapse,
  .navbar-static-top .navbar-collapse,
  .navbar-fixed-bottom .navbar-collapse {
    padding-left: 0;
    padding-right: 0;
  }
}
.navbar-fixed-top .navbar-collapse,
.navbar-fixed-bottom .navbar-collapse {
  max-height: 340px;
}
@media (max-device-width: 540px) and (orientation: landscape) {
  .navbar-fixed-top .navbar-collapse,
  .navbar-fixed-bottom .navbar-collapse {
    max-height: 200px;
  }
}
.container > .navbar-header,
.container-fluid > .navbar-header,
.container > .navbar-collapse,
.container-fluid > .navbar-collapse {
  margin-right: 0px;
  margin-left: 0px;
}
@media (min-width: 541px) {
  .container > .navbar-header,
  .container-fluid > .navbar-header,
  .container > .navbar-collapse,
  .container-fluid > .navbar-collapse {
    margin-right: 0;
    margin-left: 0;
  }
}
.navbar-static-top {
  z-index: 1000;
  border-width: 0 0 1px;
}
@media (min-width: 541px) {
  .navbar-static-top {
    border-radius: 0;
  }
}
.navbar-fixed-top,
.navbar-fixed-bottom {
  position: fixed;
  right: 0;
  left: 0;
  z-index: 1030;
}
@media (min-width: 541px) {
  .navbar-fixed-top,
  .navbar-fixed-bottom {
    border-radius: 0;
  }
}
.navbar-fixed-top {
  top: 0;
  border-width: 0 0 1px;
}
.navbar-fixed-bottom {
  bottom: 0;
  margin-bottom: 0;
  border-width: 1px 0 0;
}
.navbar-brand {
  float: left;
  padding: 6px 0px;
  font-size: 17px;
  line-height: 18px;
  height: 30px;
}
.navbar-brand:hover,
.navbar-brand:focus {
  text-decoration: none;
}
.navbar-brand > img {
  display: block;
}
@media (min-width: 541px) {
  .navbar > .container .navbar-brand,
  .navbar > .container-fluid .navbar-brand {
    margin-left: 0px;
  }
}
.navbar-toggle {
  position: relative;
  float: right;
  margin-right: 0px;
  padding: 9px 10px;
  margin-top: -2px;
  margin-bottom: -2px;
  background-color: transparent;
  background-image: none;
  border: 1px solid transparent;
  border-radius: 2px;
}
.navbar-toggle:focus {
  outline: 0;
}
.navbar-toggle .icon-bar {
  display: block;
  width: 22px;
  height: 2px;
  border-radius: 1px;
}
.navbar-toggle .icon-bar + .icon-bar {
  margin-top: 4px;
}
@media (min-width: 541px) {
  .navbar-toggle {
    display: none;
  }
}
.navbar-nav {
  margin: 3px 0px;
}
.navbar-nav > li > a {
  padding-top: 10px;
  padding-bottom: 10px;
  line-height: 18px;
}
@media (max-width: 540px) {
  .navbar-nav .open .dropdown-menu {
    position: static;
    float: none;
    width: auto;
    margin-top: 0;
    background-color: transparent;
    border: 0;
    box-shadow: none;
  }
  .navbar-nav .open .dropdown-menu > li > a,
  .navbar-nav .open .dropdown-menu .dropdown-header {
    padding: 5px 15px 5px 25px;
  }
  .navbar-nav .open .dropdown-menu > li > a {
    line-height: 18px;
  }
  .navbar-nav .open .dropdown-menu > li > a:hover,
  .navbar-nav .open .dropdown-menu > li > a:focus {
    background-image: none;
  }
}
@media (min-width: 541px) {
  .navbar-nav {
    float: left;
    margin: 0;
  }
  .navbar-nav > li {
    float: left;
  }
  .navbar-nav > li > a {
    padding-top: 6px;
    padding-bottom: 6px;
  }
}
.navbar-form {
  margin-left: 0px;
  margin-right: 0px;
  padding: 10px 0px;
  border-top: 1px solid transparent;
  border-bottom: 1px solid transparent;
  -webkit-box-shadow: inset 0 1px 0 rgba(255, 255, 255, 0.1), 0 1px 0 rgba(255, 255, 255, 0.1);
  box-shadow: inset 0 1px 0 rgba(255, 255, 255, 0.1), 0 1px 0 rgba(255, 255, 255, 0.1);
  margin-top: -1px;
  margin-bottom: -1px;
}
@media (min-width: 768px) {
  .navbar-form .form-group {
    display: inline-block;
    margin-bottom: 0;
    vertical-align: middle;
  }
  .navbar-form .form-control {
    display: inline-block;
    width: auto;
    vertical-align: middle;
  }
  .navbar-form .form-control-static {
    display: inline-block;
  }
  .navbar-form .input-group {
    display: inline-table;
    vertical-align: middle;
  }
  .navbar-form .input-group .input-group-addon,
  .navbar-form .input-group .input-group-btn,
  .navbar-form .input-group .form-control {
    width: auto;
  }
  .navbar-form .input-group > .form-control {
    width: 100%;
  }
  .navbar-form .control-label {
    margin-bottom: 0;
    vertical-align: middle;
  }
  .navbar-form .radio,
  .navbar-form .checkbox {
    display: inline-block;
    margin-top: 0;
    margin-bottom: 0;
    vertical-align: middle;
  }
  .navbar-form .radio label,
  .navbar-form .checkbox label {
    padding-left: 0;
  }
  .navbar-form .radio input[type="radio"],
  .navbar-form .checkbox input[type="checkbox"] {
    position: relative;
    margin-left: 0;
  }
  .navbar-form .has-feedback .form-control-feedback {
    top: 0;
  }
}
@media (max-width: 540px) {
  .navbar-form .form-group {
    margin-bottom: 5px;
  }
  .navbar-form .form-group:last-child {
    margin-bottom: 0;
  }
}
@media (min-width: 541px) {
  .navbar-form {
    width: auto;
    border: 0;
    margin-left: 0;
    margin-right: 0;
    padding-top: 0;
    padding-bottom: 0;
    -webkit-box-shadow: none;
    box-shadow: none;
  }
}
.navbar-nav > li > .dropdown-menu {
  margin-top: 0;
  border-top-right-radius: 0;
  border-top-left-radius: 0;
}
.navbar-fixed-bottom .navbar-nav > li > .dropdown-menu {
  margin-bottom: 0;
  border-top-right-radius: 2px;
  border-top-left-radius: 2px;
  border-bottom-right-radius: 0;
  border-bottom-left-radius: 0;
}
.navbar-btn {
  margin-top: -1px;
  margin-bottom: -1px;
}
.navbar-btn.btn-sm {
  margin-top: 0px;
  margin-bottom: 0px;
}
.navbar-btn.btn-xs {
  margin-top: 4px;
  margin-bottom: 4px;
}
.navbar-text {
  margin-top: 6px;
  margin-bottom: 6px;
}
@media (min-width: 541px) {
  .navbar-text {
    float: left;
    margin-left: 0px;
    margin-right: 0px;
  }
}
@media (min-width: 541px) {
  .navbar-left {
    float: left !important;
    float: left;
  }
  .navbar-right {
    float: right !important;
    float: right;
    margin-right: 0px;
  }
  .navbar-right ~ .navbar-right {
    margin-right: 0;
  }
}
.navbar-default {
  background-color: #f8f8f8;
  border-color: #e7e7e7;
}
.navbar-default .navbar-brand {
  color: #777;
}
.navbar-default .navbar-brand:hover,
.navbar-default .navbar-brand:focus {
  color: #5e5e5e;
  background-color: transparent;
}
.navbar-default .navbar-text {
  color: #777;
}
.navbar-default .navbar-nav > li > a {
  color: #777;
}
.navbar-default .navbar-nav > li > a:hover,
.navbar-default .navbar-nav > li > a:focus {
  color: #333;
  background-color: transparent;
}
.navbar-default .navbar-nav > .active > a,
.navbar-default .navbar-nav > .active > a:hover,
.navbar-default .navbar-nav > .active > a:focus {
  color: #555;
  background-color: #e7e7e7;
}
.navbar-default .navbar-nav > .disabled > a,
.navbar-default .navbar-nav > .disabled > a:hover,
.navbar-default .navbar-nav > .disabled > a:focus {
  color: #ccc;
  background-color: transparent;
}
.navbar-default .navbar-toggle {
  border-color: #ddd;
}
.navbar-default .navbar-toggle:hover,
.navbar-default .navbar-toggle:focus {
  background-color: #ddd;
}
.navbar-default .navbar-toggle .icon-bar {
  background-color: #888;
}
.navbar-default .navbar-collapse,
.navbar-default .navbar-form {
  border-color: #e7e7e7;
}
.navbar-default .navbar-nav > .open > a,
.navbar-default .navbar-nav > .open > a:hover,
.navbar-default .navbar-nav > .open > a:focus {
  background-color: #e7e7e7;
  color: #555;
}
@media (max-width: 540px) {
  .navbar-default .navbar-nav .open .dropdown-menu > li > a {
    color: #777;
  }
  .navbar-default .navbar-nav .open .dropdown-menu > li > a:hover,
  .navbar-default .navbar-nav .open .dropdown-menu > li > a:focus {
    color: #333;
    background-color: transparent;
  }
  .navbar-default .navbar-nav .open .dropdown-menu > .active > a,
  .navbar-default .navbar-nav .open .dropdown-menu > .active > a:hover,
  .navbar-default .navbar-nav .open .dropdown-menu > .active > a:focus {
    color: #555;
    background-color: #e7e7e7;
  }
  .navbar-default .navbar-nav .open .dropdown-menu > .disabled > a,
  .navbar-default .navbar-nav .open .dropdown-menu > .disabled > a:hover,
  .navbar-default .navbar-nav .open .dropdown-menu > .disabled > a:focus {
    color: #ccc;
    background-color: transparent;
  }
}
.navbar-default .navbar-link {
  color: #777;
}
.navbar-default .navbar-link:hover {
  color: #333;
}
.navbar-default .btn-link {
  color: #777;
}
.navbar-default .btn-link:hover,
.navbar-default .btn-link:focus {
  color: #333;
}
.navbar-default .btn-link[disabled]:hover,
fieldset[disabled] .navbar-default .btn-link:hover,
.navbar-default .btn-link[disabled]:focus,
fieldset[disabled] .navbar-default .btn-link:focus {
  color: #ccc;
}
.navbar-inverse {
  background-color: #222;
  border-color: #080808;
}
.navbar-inverse .navbar-brand {
  color: #9d9d9d;
}
.navbar-inverse .navbar-brand:hover,
.navbar-inverse .navbar-brand:focus {
  color: #fff;
  background-color: transparent;
}
.navbar-inverse .navbar-text {
  color: #9d9d9d;
}
.navbar-inverse .navbar-nav > li > a {
  color: #9d9d9d;
}
.navbar-inverse .navbar-nav > li > a:hover,
.navbar-inverse .navbar-nav > li > a:focus {
  color: #fff;
  background-color: transparent;
}
.navbar-inverse .navbar-nav > .active > a,
.navbar-inverse .navbar-nav > .active > a:hover,
.navbar-inverse .navbar-nav > .active > a:focus {
  color: #fff;
  background-color: #080808;
}
.navbar-inverse .navbar-nav > .disabled > a,
.navbar-inverse .navbar-nav > .disabled > a:hover,
.navbar-inverse .navbar-nav > .disabled > a:focus {
  color: #444;
  background-color: transparent;
}
.navbar-inverse .navbar-toggle {
  border-color: #333;
}
.navbar-inverse .navbar-toggle:hover,
.navbar-inverse .navbar-toggle:focus {
  background-color: #333;
}
.navbar-inverse .navbar-toggle .icon-bar {
  background-color: #fff;
}
.navbar-inverse .navbar-collapse,
.navbar-inverse .navbar-form {
  border-color: #101010;
}
.navbar-inverse .navbar-nav > .open > a,
.navbar-inverse .navbar-nav > .open > a:hover,
.navbar-inverse .navbar-nav > .open > a:focus {
  background-color: #080808;
  color: #fff;
}
@media (max-width: 540px) {
  .navbar-inverse .navbar-nav .open .dropdown-menu > .dropdown-header {
    border-color: #080808;
  }
  .navbar-inverse .navbar-nav .open .dropdown-menu .divider {
    background-color: #080808;
  }
  .navbar-inverse .navbar-nav .open .dropdown-menu > li > a {
    color: #9d9d9d;
  }
  .navbar-inverse .navbar-nav .open .dropdown-menu > li > a:hover,
  .navbar-inverse .navbar-nav .open .dropdown-menu > li > a:focus {
    color: #fff;
    background-color: transparent;
  }
  .navbar-inverse .navbar-nav .open .dropdown-menu > .active > a,
  .navbar-inverse .navbar-nav .open .dropdown-menu > .active > a:hover,
  .navbar-inverse .navbar-nav .open .dropdown-menu > .active > a:focus {
    color: #fff;
    background-color: #080808;
  }
  .navbar-inverse .navbar-nav .open .dropdown-menu > .disabled > a,
  .navbar-inverse .navbar-nav .open .dropdown-menu > .disabled > a:hover,
  .navbar-inverse .navbar-nav .open .dropdown-menu > .disabled > a:focus {
    color: #444;
    background-color: transparent;
  }
}
.navbar-inverse .navbar-link {
  color: #9d9d9d;
}
.navbar-inverse .navbar-link:hover {
  color: #fff;
}
.navbar-inverse .btn-link {
  color: #9d9d9d;
}
.navbar-inverse .btn-link:hover,
.navbar-inverse .btn-link:focus {
  color: #fff;
}
.navbar-inverse .btn-link[disabled]:hover,
fieldset[disabled] .navbar-inverse .btn-link:hover,
.navbar-inverse .btn-link[disabled]:focus,
fieldset[disabled] .navbar-inverse .btn-link:focus {
  color: #444;
}
.breadcrumb {
  padding: 8px 15px;
  margin-bottom: 18px;
  list-style: none;
  background-color: #f5f5f5;
  border-radius: 2px;
}
.breadcrumb > li {
  display: inline-block;
}
.breadcrumb > li + li:before {
  content: "/\00a0";
  padding: 0 5px;
  color: #5e5e5e;
}
.breadcrumb > .active {
  color: #777777;
}
.pagination {
  display: inline-block;
  padding-left: 0;
  margin: 18px 0;
  border-radius: 2px;
}
.pagination > li {
  display: inline;
}
.pagination > li > a,
.pagination > li > span {
  position: relative;
  float: left;
  padding: 6px 12px;
  line-height: 1.42857143;
  text-decoration: none;
  color: #337ab7;
  background-color: #fff;
  border: 1px solid #ddd;
  margin-left: -1px;
}
.pagination > li:first-child > a,
.pagination > li:first-child > span {
  margin-left: 0;
  border-bottom-left-radius: 2px;
  border-top-left-radius: 2px;
}
.pagination > li:last-child > a,
.pagination > li:last-child > span {
  border-bottom-right-radius: 2px;
  border-top-right-radius: 2px;
}
.pagination > li > a:hover,
.pagination > li > span:hover,
.pagination > li > a:focus,
.pagination > li > span:focus {
  z-index: 2;
  color: #23527c;
  background-color: #eeeeee;
  border-color: #ddd;
}
.pagination > .active > a,
.pagination > .active > span,
.pagination > .active > a:hover,
.pagination > .active > span:hover,
.pagination > .active > a:focus,
.pagination > .active > span:focus {
  z-index: 3;
  color: #fff;
  background-color: #337ab7;
  border-color: #337ab7;
  cursor: default;
}
.pagination > .disabled > span,
.pagination > .disabled > span:hover,
.pagination > .disabled > span:focus,
.pagination > .disabled > a,
.pagination > .disabled > a:hover,
.pagination > .disabled > a:focus {
  color: #777777;
  background-color: #fff;
  border-color: #ddd;
  cursor: not-allowed;
}
.pagination-lg > li > a,
.pagination-lg > li > span {
  padding: 10px 16px;
  font-size: 17px;
  line-height: 1.3333333;
}
.pagination-lg > li:first-child > a,
.pagination-lg > li:first-child > span {
  border-bottom-left-radius: 3px;
  border-top-left-radius: 3px;
}
.pagination-lg > li:last-child > a,
.pagination-lg > li:last-child > span {
  border-bottom-right-radius: 3px;
  border-top-right-radius: 3px;
}
.pagination-sm > li > a,
.pagination-sm > li > span {
  padding: 5px 10px;
  font-size: 12px;
  line-height: 1.5;
}
.pagination-sm > li:first-child > a,
.pagination-sm > li:first-child > span {
  border-bottom-left-radius: 1px;
  border-top-left-radius: 1px;
}
.pagination-sm > li:last-child > a,
.pagination-sm > li:last-child > span {
  border-bottom-right-radius: 1px;
  border-top-right-radius: 1px;
}
.pager {
  padding-left: 0;
  margin: 18px 0;
  list-style: none;
  text-align: center;
}
.pager li {
  display: inline;
}
.pager li > a,
.pager li > span {
  display: inline-block;
  padding: 5px 14px;
  background-color: #fff;
  border: 1px solid #ddd;
  border-radius: 15px;
}
.pager li > a:hover,
.pager li > a:focus {
  text-decoration: none;
  background-color: #eeeeee;
}
.pager .next > a,
.pager .next > span {
  float: right;
}
.pager .previous > a,
.pager .previous > span {
  float: left;
}
.pager .disabled > a,
.pager .disabled > a:hover,
.pager .disabled > a:focus,
.pager .disabled > span {
  color: #777777;
  background-color: #fff;
  cursor: not-allowed;
}
.label {
  display: inline;
  padding: .2em .6em .3em;
  font-size: 75%;
  font-weight: bold;
  line-height: 1;
  color: #fff;
  text-align: center;
  white-space: nowrap;
  vertical-align: baseline;
  border-radius: .25em;
}
a.label:hover,
a.label:focus {
  color: #fff;
  text-decoration: none;
  cursor: pointer;
}
.label:empty {
  display: none;
}
.btn .label {
  position: relative;
  top: -1px;
}
.label-default {
  background-color: #777777;
}
.label-default[href]:hover,
.label-default[href]:focus {
  background-color: #5e5e5e;
}
.label-primary {
  background-color: #337ab7;
}
.label-primary[href]:hover,
.label-primary[href]:focus {
  background-color: #286090;
}
.label-success {
  background-color: #5cb85c;
}
.label-success[href]:hover,
.label-success[href]:focus {
  background-color: #449d44;
}
.label-info {
  background-color: #5bc0de;
}
.label-info[href]:hover,
.label-info[href]:focus {
  background-color: #31b0d5;
}
.label-warning {
  background-color: #f0ad4e;
}
.label-warning[href]:hover,
.label-warning[href]:focus {
  background-color: #ec971f;
}
.label-danger {
  background-color: #d9534f;
}
.label-danger[href]:hover,
.label-danger[href]:focus {
  background-color: #c9302c;
}
.badge {
  display: inline-block;
  min-width: 10px;
  padding: 3px 7px;
  font-size: 12px;
  font-weight: bold;
  color: #fff;
  line-height: 1;
  vertical-align: middle;
  white-space: nowrap;
  text-align: center;
  background-color: #777777;
  border-radius: 10px;
}
.badge:empty {
  display: none;
}
.btn .badge {
  position: relative;
  top: -1px;
}
.btn-xs .badge,
.btn-group-xs > .btn .badge {
  top: 0;
  padding: 1px 5px;
}
a.badge:hover,
a.badge:focus {
  color: #fff;
  text-decoration: none;
  cursor: pointer;
}
.list-group-item.active > .badge,
.nav-pills > .active > a > .badge {
  color: #337ab7;
  background-color: #fff;
}
.list-group-item > .badge {
  float: right;
}
.list-group-item > .badge + .badge {
  margin-right: 5px;
}
.nav-pills > li > a > .badge {
  margin-left: 3px;
}
.jumbotron {
  padding-top: 30px;
  padding-bottom: 30px;
  margin-bottom: 30px;
  color: inherit;
  background-color: #eeeeee;
}
.jumbotron h1,
.jumbotron .h1 {
  color: inherit;
}
.jumbotron p {
  margin-bottom: 15px;
  font-size: 20px;
  font-weight: 200;
}
.jumbotron > hr {
  border-top-color: #d5d5d5;
}
.container .jumbotron,
.container-fluid .jumbotron {
  border-radius: 3px;
  padding-left: 0px;
  padding-right: 0px;
}
.jumbotron .container {
  max-width: 100%;
}
@media screen and (min-width: 768px) {
  .jumbotron {
    padding-top: 48px;
    padding-bottom: 48px;
  }
  .container .jumbotron,
  .container-fluid .jumbotron {
    padding-left: 60px;
    padding-right: 60px;
  }
  .jumbotron h1,
  .jumbotron .h1 {
    font-size: 59px;
  }
}
.thumbnail {
  display: block;
  padding: 4px;
  margin-bottom: 18px;
  line-height: 1.42857143;
  background-color: #fff;
  border: 1px solid #ddd;
  border-radius: 2px;
  -webkit-transition: border 0.2s ease-in-out;
  -o-transition: border 0.2s ease-in-out;
  transition: border 0.2s ease-in-out;
}
.thumbnail > img,
.thumbnail a > img {
  margin-left: auto;
  margin-right: auto;
}
a.thumbnail:hover,
a.thumbnail:focus,
a.thumbnail.active {
  border-color: #337ab7;
}
.thumbnail .caption {
  padding: 9px;
  color: #000;
}
.alert {
  padding: 15px;
  margin-bottom: 18px;
  border: 1px solid transparent;
  border-radius: 2px;
}
.alert h4 {
  margin-top: 0;
  color: inherit;
}
.alert .alert-link {
  font-weight: bold;
}
.alert > p,
.alert > ul {
  margin-bottom: 0;
}
.alert > p + p {
  margin-top: 5px;
}
.alert-dismissable,
.alert-dismissible {
  padding-right: 35px;
}
.alert-dismissable .close,
.alert-dismissible .close {
  position: relative;
  top: -2px;
  right: -21px;
  color: inherit;
}
.alert-success {
  background-color: #dff0d8;
  border-color: #d6e9c6;
  color: #3c763d;
}
.alert-success hr {
  border-top-color: #c9e2b3;
}
.alert-success .alert-link {
  color: #2b542c;
}
.alert-info {
  background-color: #d9edf7;
  border-color: #bce8f1;
  color: #31708f;
}
.alert-info hr {
  border-top-color: #a6e1ec;
}
.alert-info .alert-link {
  color: #245269;
}
.alert-warning {
  background-color: #fcf8e3;
  border-color: #faebcc;
  color: #8a6d3b;
}
.alert-warning hr {
  border-top-color: #f7e1b5;
}
.alert-warning .alert-link {
  color: #66512c;
}
.alert-danger {
  background-color: #f2dede;
  border-color: #ebccd1;
  color: #a94442;
}
.alert-danger hr {
  border-top-color: #e4b9c0;
}
.alert-danger .alert-link {
  color: #843534;
}
@-webkit-keyframes progress-bar-stripes {
  from {
    background-position: 40px 0;
  }
  to {
    background-position: 0 0;
  }
}
@keyframes progress-bar-stripes {
  from {
    background-position: 40px 0;
  }
  to {
    background-position: 0 0;
  }
}
.progress {
  overflow: hidden;
  height: 18px;
  margin-bottom: 18px;
  background-color: #f5f5f5;
  border-radius: 2px;
  -webkit-box-shadow: inset 0 1px 2px rgba(0, 0, 0, 0.1);
  box-shadow: inset 0 1px 2px rgba(0, 0, 0, 0.1);
}
.progress-bar {
  float: left;
  width: 0%;
  height: 100%;
  font-size: 12px;
  line-height: 18px;
  color: #fff;
  text-align: center;
  background-color: #337ab7;
  -webkit-box-shadow: inset 0 -1px 0 rgba(0, 0, 0, 0.15);
  box-shadow: inset 0 -1px 0 rgba(0, 0, 0, 0.15);
  -webkit-transition: width 0.6s ease;
  -o-transition: width 0.6s ease;
  transition: width 0.6s ease;
}
.progress-striped .progress-bar,
.progress-bar-striped {
  background-image: -webkit-linear-gradient(45deg, rgba(255, 255, 255, 0.15) 25%, transparent 25%, transparent 50%, rgba(255, 255, 255, 0.15) 50%, rgba(255, 255, 255, 0.15) 75%, transparent 75%, transparent);
  background-image: -o-linear-gradient(45deg, rgba(255, 255, 255, 0.15) 25%, transparent 25%, transparent 50%, rgba(255, 255, 255, 0.15) 50%, rgba(255, 255, 255, 0.15) 75%, transparent 75%, transparent);
  background-image: linear-gradient(45deg, rgba(255, 255, 255, 0.15) 25%, transparent 25%, transparent 50%, rgba(255, 255, 255, 0.15) 50%, rgba(255, 255, 255, 0.15) 75%, transparent 75%, transparent);
  background-size: 40px 40px;
}
.progress.active .progress-bar,
.progress-bar.active {
  -webkit-animation: progress-bar-stripes 2s linear infinite;
  -o-animation: progress-bar-stripes 2s linear infinite;
  animation: progress-bar-stripes 2s linear infinite;
}
.progress-bar-success {
  background-color: #5cb85c;
}
.progress-striped .progress-bar-success {
  background-image: -webkit-linear-gradient(45deg, rgba(255, 255, 255, 0.15) 25%, transparent 25%, transparent 50%, rgba(255, 255, 255, 0.15) 50%, rgba(255, 255, 255, 0.15) 75%, transparent 75%, transparent);
  background-image: -o-linear-gradient(45deg, rgba(255, 255, 255, 0.15) 25%, transparent 25%, transparent 50%, rgba(255, 255, 255, 0.15) 50%, rgba(255, 255, 255, 0.15) 75%, transparent 75%, transparent);
  background-image: linear-gradient(45deg, rgba(255, 255, 255, 0.15) 25%, transparent 25%, transparent 50%, rgba(255, 255, 255, 0.15) 50%, rgba(255, 255, 255, 0.15) 75%, transparent 75%, transparent);
}
.progress-bar-info {
  background-color: #5bc0de;
}
.progress-striped .progress-bar-info {
  background-image: -webkit-linear-gradient(45deg, rgba(255, 255, 255, 0.15) 25%, transparent 25%, transparent 50%, rgba(255, 255, 255, 0.15) 50%, rgba(255, 255, 255, 0.15) 75%, transparent 75%, transparent);
  background-image: -o-linear-gradient(45deg, rgba(255, 255, 255, 0.15) 25%, transparent 25%, transparent 50%, rgba(255, 255, 255, 0.15) 50%, rgba(255, 255, 255, 0.15) 75%, transparent 75%, transparent);
  background-image: linear-gradient(45deg, rgba(255, 255, 255, 0.15) 25%, transparent 25%, transparent 50%, rgba(255, 255, 255, 0.15) 50%, rgba(255, 255, 255, 0.15) 75%, transparent 75%, transparent);
}
.progress-bar-warning {
  background-color: #f0ad4e;
}
.progress-striped .progress-bar-warning {
  background-image: -webkit-linear-gradient(45deg, rgba(255, 255, 255, 0.15) 25%, transparent 25%, transparent 50%, rgba(255, 255, 255, 0.15) 50%, rgba(255, 255, 255, 0.15) 75%, transparent 75%, transparent);
  background-image: -o-linear-gradient(45deg, rgba(255, 255, 255, 0.15) 25%, transparent 25%, transparent 50%, rgba(255, 255, 255, 0.15) 50%, rgba(255, 255, 255, 0.15) 75%, transparent 75%, transparent);
  background-image: linear-gradient(45deg, rgba(255, 255, 255, 0.15) 25%, transparent 25%, transparent 50%, rgba(255, 255, 255, 0.15) 50%, rgba(255, 255, 255, 0.15) 75%, transparent 75%, transparent);
}
.progress-bar-danger {
  background-color: #d9534f;
}
.progress-striped .progress-bar-danger {
  background-image: -webkit-linear-gradient(45deg, rgba(255, 255, 255, 0.15) 25%, transparent 25%, transparent 50%, rgba(255, 255, 255, 0.15) 50%, rgba(255, 255, 255, 0.15) 75%, transparent 75%, transparent);
  background-image: -o-linear-gradient(45deg, rgba(255, 255, 255, 0.15) 25%, transparent 25%, transparent 50%, rgba(255, 255, 255, 0.15) 50%, rgba(255, 255, 255, 0.15) 75%, transparent 75%, transparent);
  background-image: linear-gradient(45deg, rgba(255, 255, 255, 0.15) 25%, transparent 25%, transparent 50%, rgba(255, 255, 255, 0.15) 50%, rgba(255, 255, 255, 0.15) 75%, transparent 75%, transparent);
}
.media {
  margin-top: 15px;
}
.media:first-child {
  margin-top: 0;
}
.media,
.media-body {
  zoom: 1;
  overflow: hidden;
}
.media-body {
  width: 10000px;
}
.media-object {
  display: block;
}
.media-object.img-thumbnail {
  max-width: none;
}
.media-right,
.media > .pull-right {
  padding-left: 10px;
}
.media-left,
.media > .pull-left {
  padding-right: 10px;
}
.media-left,
.media-right,
.media-body {
  display: table-cell;
  vertical-align: top;
}
.media-middle {
  vertical-align: middle;
}
.media-bottom {
  vertical-align: bottom;
}
.media-heading {
  margin-top: 0;
  margin-bottom: 5px;
}
.media-list {
  padding-left: 0;
  list-style: none;
}
.list-group {
  margin-bottom: 20px;
  padding-left: 0;
}
.list-group-item {
  position: relative;
  display: block;
  padding: 10px 15px;
  margin-bottom: -1px;
  background-color: #fff;
  border: 1px solid #ddd;
}
.list-group-item:first-child {
  border-top-right-radius: 2px;
  border-top-left-radius: 2px;
}
.list-group-item:last-child {
  margin-bottom: 0;
  border-bottom-right-radius: 2px;
  border-bottom-left-radius: 2px;
}
a.list-group-item,
button.list-group-item {
  color: #555;
}
a.list-group-item .list-group-item-heading,
button.list-group-item .list-group-item-heading {
  color: #333;
}
a.list-group-item:hover,
button.list-group-item:hover,
a.list-group-item:focus,
button.list-group-item:focus {
  text-decoration: none;
  color: #555;
  background-color: #f5f5f5;
}
button.list-group-item {
  width: 100%;
  text-align: left;
}
.list-group-item.disabled,
.list-group-item.disabled:hover,
.list-group-item.disabled:focus {
  background-color: #eeeeee;
  color: #777777;
  cursor: not-allowed;
}
.list-group-item.disabled .list-group-item-heading,
.list-group-item.disabled:hover .list-group-item-heading,
.list-group-item.disabled:focus .list-group-item-heading {
  color: inherit;
}
.list-group-item.disabled .list-group-item-text,
.list-group-item.disabled:hover .list-group-item-text,
.list-group-item.disabled:focus .list-group-item-text {
  color: #777777;
}
.list-group-item.active,
.list-group-item.active:hover,
.list-group-item.active:focus {
  z-index: 2;
  color: #fff;
  background-color: #337ab7;
  border-color: #337ab7;
}
.list-group-item.active .list-group-item-heading,
.list-group-item.active:hover .list-group-item-heading,
.list-group-item.active:focus .list-group-item-heading,
.list-group-item.active .list-group-item-heading > small,
.list-group-item.active:hover .list-group-item-heading > small,
.list-group-item.active:focus .list-group-item-heading > small,
.list-group-item.active .list-group-item-heading > .small,
.list-group-item.active:hover .list-group-item-heading > .small,
.list-group-item.active:focus .list-group-item-heading > .small {
  color: inherit;
}
.list-group-item.active .list-group-item-text,
.list-group-item.active:hover .list-group-item-text,
.list-group-item.active:focus .list-group-item-text {
  color: #c7ddef;
}
.list-group-item-success {
  color: #3c763d;
  background-color: #dff0d8;
}
a.list-group-item-success,
button.list-group-item-success {
  color: #3c763d;
}
a.list-group-item-success .list-group-item-heading,
button.list-group-item-success .list-group-item-heading {
  color: inherit;
}
a.list-group-item-success:hover,
button.list-group-item-success:hover,
a.list-group-item-success:focus,
button.list-group-item-success:focus {
  color: #3c763d;
  background-color: #d0e9c6;
}
a.list-group-item-success.active,
button.list-group-item-success.active,
a.list-group-item-success.active:hover,
button.list-group-item-success.active:hover,
a.list-group-item-success.active:focus,
button.list-group-item-success.active:focus {
  color: #fff;
  background-color: #3c763d;
  border-color: #3c763d;
}
.list-group-item-info {
  color: #31708f;
  background-color: #d9edf7;
}
a.list-group-item-info,
button.list-group-item-info {
  color: #31708f;
}
a.list-group-item-info .list-group-item-heading,
button.list-group-item-info .list-group-item-heading {
  color: inherit;
}
a.list-group-item-info:hover,
button.list-group-item-info:hover,
a.list-group-item-info:focus,
button.list-group-item-info:focus {
  color: #31708f;
  background-color: #c4e3f3;
}
a.list-group-item-info.active,
button.list-group-item-info.active,
a.list-group-item-info.active:hover,
button.list-group-item-info.active:hover,
a.list-group-item-info.active:focus,
button.list-group-item-info.active:focus {
  color: #fff;
  background-color: #31708f;
  border-color: #31708f;
}
.list-group-item-warning {
  color: #8a6d3b;
  background-color: #fcf8e3;
}
a.list-group-item-warning,
button.list-group-item-warning {
  color: #8a6d3b;
}
a.list-group-item-warning .list-group-item-heading,
button.list-group-item-warning .list-group-item-heading {
  color: inherit;
}
a.list-group-item-warning:hover,
button.list-group-item-warning:hover,
a.list-group-item-warning:focus,
button.list-group-item-warning:focus {
  color: #8a6d3b;
  background-color: #faf2cc;
}
a.list-group-item-warning.active,
button.list-group-item-warning.active,
a.list-group-item-warning.active:hover,
button.list-group-item-warning.active:hover,
a.list-group-item-warning.active:focus,
button.list-group-item-warning.active:focus {
  color: #fff;
  background-color: #8a6d3b;
  border-color: #8a6d3b;
}
.list-group-item-danger {
  color: #a94442;
  background-color: #f2dede;
}
a.list-group-item-danger,
button.list-group-item-danger {
  color: #a94442;
}
a.list-group-item-danger .list-group-item-heading,
button.list-group-item-danger .list-group-item-heading {
  color: inherit;
}
a.list-group-item-danger:hover,
button.list-group-item-danger:hover,
a.list-group-item-danger:focus,
button.list-group-item-danger:focus {
  color: #a94442;
  background-color: #ebcccc;
}
a.list-group-item-danger.active,
button.list-group-item-danger.active,
a.list-group-item-danger.active:hover,
button.list-group-item-danger.active:hover,
a.list-group-item-danger.active:focus,
button.list-group-item-danger.active:focus {
  color: #fff;
  background-color: #a94442;
  border-color: #a94442;
}
.list-group-item-heading {
  margin-top: 0;
  margin-bottom: 5px;
}
.list-group-item-text {
  margin-bottom: 0;
  line-height: 1.3;
}
.panel {
  margin-bottom: 18px;
  background-color: #fff;
  border: 1px solid transparent;
  border-radius: 2px;
  -webkit-box-shadow: 0 1px 1px rgba(0, 0, 0, 0.05);
  box-shadow: 0 1px 1px rgba(0, 0, 0, 0.05);
}
.panel-body {
  padding: 15px;
}
.panel-heading {
  padding: 10px 15px;
  border-bottom: 1px solid transparent;
  border-top-right-radius: 1px;
  border-top-left-radius: 1px;
}
.panel-heading > .dropdown .dropdown-toggle {
  color: inherit;
}
.panel-title {
  margin-top: 0;
  margin-bottom: 0;
  font-size: 15px;
  color: inherit;
}
.panel-title > a,
.panel-title > small,
.panel-title > .small,
.panel-title > small > a,
.panel-title > .small > a {
  color: inherit;
}
.panel-footer {
  padding: 10px 15px;
  background-color: #f5f5f5;
  border-top: 1px solid #ddd;
  border-bottom-right-radius: 1px;
  border-bottom-left-radius: 1px;
}
.panel > .list-group,
.panel > .panel-collapse > .list-group {
  margin-bottom: 0;
}
.panel > .list-group .list-group-item,
.panel > .panel-collapse > .list-group .list-group-item {
  border-width: 1px 0;
  border-radius: 0;
}
.panel > .list-group:first-child .list-group-item:first-child,
.panel > .panel-collapse > .list-group:first-child .list-group-item:first-child {
  border-top: 0;
  border-top-right-radius: 1px;
  border-top-left-radius: 1px;
}
.panel > .list-group:last-child .list-group-item:last-child,
.panel > .panel-collapse > .list-group:last-child .list-group-item:last-child {
  border-bottom: 0;
  border-bottom-right-radius: 1px;
  border-bottom-left-radius: 1px;
}
.panel > .panel-heading + .panel-collapse > .list-group .list-group-item:first-child {
  border-top-right-radius: 0;
  border-top-left-radius: 0;
}
.panel-heading + .list-group .list-group-item:first-child {
  border-top-width: 0;
}
.list-group + .panel-footer {
  border-top-width: 0;
}
.panel > .table,
.panel > .table-responsive > .table,
.panel > .panel-collapse > .table {
  margin-bottom: 0;
}
.panel > .table caption,
.panel > .table-responsive > .table caption,
.panel > .panel-collapse > .table caption {
  padding-left: 15px;
  padding-right: 15px;
}
.panel > .table:first-child,
.panel > .table-responsive:first-child > .table:first-child {
  border-top-right-radius: 1px;
  border-top-left-radius: 1px;
}
.panel > .table:first-child > thead:first-child > tr:first-child,
.panel > .table-responsive:first-child > .table:first-child > thead:first-child > tr:first-child,
.panel > .table:first-child > tbody:first-child > tr:first-child,
.panel > .table-responsive:first-child > .table:first-child > tbody:first-child > tr:first-child {
  border-top-left-radius: 1px;
  border-top-right-radius: 1px;
}
.panel > .table:first-child > thead:first-child > tr:first-child td:first-child,
.panel > .table-responsive:first-child > .table:first-child > thead:first-child > tr:first-child td:first-child,
.panel > .table:first-child > tbody:first-child > tr:first-child td:first-child,
.panel > .table-responsive:first-child > .table:first-child > tbody:first-child > tr:first-child td:first-child,
.panel > .table:first-child > thead:first-child > tr:first-child th:first-child,
.panel > .table-responsive:first-child > .table:first-child > thead:first-child > tr:first-child th:first-child,
.panel > .table:first-child > tbody:first-child > tr:first-child th:first-child,
.panel > .table-responsive:first-child > .table:first-child > tbody:first-child > tr:first-child th:first-child {
  border-top-left-radius: 1px;
}
.panel > .table:first-child > thead:first-child > tr:first-child td:last-child,
.panel > .table-responsive:first-child > .table:first-child > thead:first-child > tr:first-child td:last-child,
.panel > .table:first-child > tbody:first-child > tr:first-child td:last-child,
.panel > .table-responsive:first-child > .table:first-child > tbody:first-child > tr:first-child td:last-child,
.panel > .table:first-child > thead:first-child > tr:first-child th:last-child,
.panel > .table-responsive:first-child > .table:first-child > thead:first-child > tr:first-child th:last-child,
.panel > .table:first-child > tbody:first-child > tr:first-child th:last-child,
.panel > .table-responsive:first-child > .table:first-child > tbody:first-child > tr:first-child th:last-child {
  border-top-right-radius: 1px;
}
.panel > .table:last-child,
.panel > .table-responsive:last-child > .table:last-child {
  border-bottom-right-radius: 1px;
  border-bottom-left-radius: 1px;
}
.panel > .table:last-child > tbody:last-child > tr:last-child,
.panel > .table-responsive:last-child > .table:last-child > tbody:last-child > tr:last-child,
.panel > .table:last-child > tfoot:last-child > tr:last-child,
.panel > .table-responsive:last-child > .table:last-child > tfoot:last-child > tr:last-child {
  border-bottom-left-radius: 1px;
  border-bottom-right-radius: 1px;
}
.panel > .table:last-child > tbody:last-child > tr:last-child td:first-child,
.panel > .table-responsive:last-child > .table:last-child > tbody:last-child > tr:last-child td:first-child,
.panel > .table:last-child > tfoot:last-child > tr:last-child td:first-child,
.panel > .table-responsive:last-child > .table:last-child > tfoot:last-child > tr:last-child td:first-child,
.panel > .table:last-child > tbody:last-child > tr:last-child th:first-child,
.panel > .table-responsive:last-child > .table:last-child > tbody:last-child > tr:last-child th:first-child,
.panel > .table:last-child > tfoot:last-child > tr:last-child th:first-child,
.panel > .table-responsive:last-child > .table:last-child > tfoot:last-child > tr:last-child th:first-child {
  border-bottom-left-radius: 1px;
}
.panel > .table:last-child > tbody:last-child > tr:last-child td:last-child,
.panel > .table-responsive:last-child > .table:last-child > tbody:last-child > tr:last-child td:last-child,
.panel > .table:last-child > tfoot:last-child > tr:last-child td:last-child,
.panel > .table-responsive:last-child > .table:last-child > tfoot:last-child > tr:last-child td:last-child,
.panel > .table:last-child > tbody:last-child > tr:last-child th:last-child,
.panel > .table-responsive:last-child > .table:last-child > tbody:last-child > tr:last-child th:last-child,
.panel > .table:last-child > tfoot:last-child > tr:last-child th:last-child,
.panel > .table-responsive:last-child > .table:last-child > tfoot:last-child > tr:last-child th:last-child {
  border-bottom-right-radius: 1px;
}
.panel > .panel-body + .table,
.panel > .panel-body + .table-responsive,
.panel > .table + .panel-body,
.panel > .table-responsive + .panel-body {
  border-top: 1px solid #ddd;
}
.panel > .table > tbody:first-child > tr:first-child th,
.panel > .table > tbody:first-child > tr:first-child td {
  border-top: 0;
}
.panel > .table-bordered,
.panel > .table-responsive > .table-bordered {
  border: 0;
}
.panel > .table-bordered > thead > tr > th:first-child,
.panel > .table-responsive > .table-bordered > thead > tr > th:first-child,
.panel > .table-bordered > tbody > tr > th:first-child,
.panel > .table-responsive > .table-bordered > tbody > tr > th:first-child,
.panel > .table-bordered > tfoot > tr > th:first-child,
.panel > .table-responsive > .table-bordered > tfoot > tr > th:first-child,
.panel > .table-bordered > thead > tr > td:first-child,
.panel > .table-responsive > .table-bordered > thead > tr > td:first-child,
.panel > .table-bordered > tbody > tr > td:first-child,
.panel > .table-responsive > .table-bordered > tbody > tr > td:first-child,
.panel > .table-bordered > tfoot > tr > td:first-child,
.panel > .table-responsive > .table-bordered > tfoot > tr > td:first-child {
  border-left: 0;
}
.panel > .table-bordered > thead > tr > th:last-child,
.panel > .table-responsive > .table-bordered > thead > tr > th:last-child,
.panel > .table-bordered > tbody > tr > th:last-child,
.panel > .table-responsive > .table-bordered > tbody > tr > th:last-child,
.panel > .table-bordered > tfoot > tr > th:last-child,
.panel > .table-responsive > .table-bordered > tfoot > tr > th:last-child,
.panel > .table-bordered > thead > tr > td:last-child,
.panel > .table-responsive > .table-bordered > thead > tr > td:last-child,
.panel > .table-bordered > tbody > tr > td:last-child,
.panel > .table-responsive > .table-bordered > tbody > tr > td:last-child,
.panel > .table-bordered > tfoot > tr > td:last-child,
.panel > .table-responsive > .table-bordered > tfoot > tr > td:last-child {
  border-right: 0;
}
.panel > .table-bordered > thead > tr:first-child > td,
.panel > .table-responsive > .table-bordered > thead > tr:first-child > td,
.panel > .table-bordered > tbody > tr:first-child > td,
.panel > .table-responsive > .table-bordered > tbody > tr:first-child > td,
.panel > .table-bordered > thead > tr:first-child > th,
.panel > .table-responsive > .table-bordered > thead > tr:first-child > th,
.panel > .table-bordered > tbody > tr:first-child > th,
.panel > .table-responsive > .table-bordered > tbody > tr:first-child > th {
  border-bottom: 0;
}
.panel > .table-bordered > tbody > tr:last-child > td,
.panel > .table-responsive > .table-bordered > tbody > tr:last-child > td,
.panel > .table-bordered > tfoot > tr:last-child > td,
.panel > .table-responsive > .table-bordered > tfoot > tr:last-child > td,
.panel > .table-bordered > tbody > tr:last-child > th,
.panel > .table-responsive > .table-bordered > tbody > tr:last-child > th,
.panel > .table-bordered > tfoot > tr:last-child > th,
.panel > .table-responsive > .table-bordered > tfoot > tr:last-child > th {
  border-bottom: 0;
}
.panel > .table-responsive {
  border: 0;
  margin-bottom: 0;
}
.panel-group {
  margin-bottom: 18px;
}
.panel-group .panel {
  margin-bottom: 0;
  border-radius: 2px;
}
.panel-group .panel + .panel {
  margin-top: 5px;
}
.panel-group .panel-heading {
  border-bottom: 0;
}
.panel-group .panel-heading + .panel-collapse > .panel-body,
.panel-group .panel-heading + .panel-collapse > .list-group {
  border-top: 1px solid #ddd;
}
.panel-group .panel-footer {
  border-top: 0;
}
.panel-group .panel-footer + .panel-collapse .panel-body {
  border-bottom: 1px solid #ddd;
}
.panel-default {
  border-color: #ddd;
}
.panel-default > .panel-heading {
  color: #333333;
  background-color: #f5f5f5;
  border-color: #ddd;
}
.panel-default > .panel-heading + .panel-collapse > .panel-body {
  border-top-color: #ddd;
}
.panel-default > .panel-heading .badge {
  color: #f5f5f5;
  background-color: #333333;
}
.panel-default > .panel-footer + .panel-collapse > .panel-body {
  border-bottom-color: #ddd;
}
.panel-primary {
  border-color: #337ab7;
}
.panel-primary > .panel-heading {
  color: #fff;
  background-color: #337ab7;
  border-color: #337ab7;
}
.panel-primary > .panel-heading + .panel-collapse > .panel-body {
  border-top-color: #337ab7;
}
.panel-primary > .panel-heading .badge {
  color: #337ab7;
  background-color: #fff;
}
.panel-primary > .panel-footer + .panel-collapse > .panel-body {
  border-bottom-color: #337ab7;
}
.panel-success {
  border-color: #d6e9c6;
}
.panel-success > .panel-heading {
  color: #3c763d;
  background-color: #dff0d8;
  border-color: #d6e9c6;
}
.panel-success > .panel-heading + .panel-collapse > .panel-body {
  border-top-color: #d6e9c6;
}
.panel-success > .panel-heading .badge {
  color: #dff0d8;
  background-color: #3c763d;
}
.panel-success > .panel-footer + .panel-collapse > .panel-body {
  border-bottom-color: #d6e9c6;
}
.panel-info {
  border-color: #bce8f1;
}
.panel-info > .panel-heading {
  color: #31708f;
  background-color: #d9edf7;
  border-color: #bce8f1;
}
.panel-info > .panel-heading + .panel-collapse > .panel-body {
  border-top-color: #bce8f1;
}
.panel-info > .panel-heading .badge {
  color: #d9edf7;
  background-color: #31708f;
}
.panel-info > .panel-footer + .panel-collapse > .panel-body {
  border-bottom-color: #bce8f1;
}
.panel-warning {
  border-color: #faebcc;
}
.panel-warning > .panel-heading {
  color: #8a6d3b;
  background-color: #fcf8e3;
  border-color: #faebcc;
}
.panel-warning > .panel-heading + .panel-collapse > .panel-body {
  border-top-color: #faebcc;
}
.panel-warning > .panel-heading .badge {
  color: #fcf8e3;
  background-color: #8a6d3b;
}
.panel-warning > .panel-footer + .panel-collapse > .panel-body {
  border-bottom-color: #faebcc;
}
.panel-danger {
  border-color: #ebccd1;
}
.panel-danger > .panel-heading {
  color: #a94442;
  background-color: #f2dede;
  border-color: #ebccd1;
}
.panel-danger > .panel-heading + .panel-collapse > .panel-body {
  border-top-color: #ebccd1;
}
.panel-danger > .panel-heading .badge {
  color: #f2dede;
  background-color: #a94442;
}
.panel-danger > .panel-footer + .panel-collapse > .panel-body {
  border-bottom-color: #ebccd1;
}
.embed-responsive {
  position: relative;
  display: block;
  height: 0;
  padding: 0;
  overflow: hidden;
}
.embed-responsive .embed-responsive-item,
.embed-responsive iframe,
.embed-responsive embed,
.embed-responsive object,
.embed-responsive video {
  position: absolute;
  top: 0;
  left: 0;
  bottom: 0;
  height: 100%;
  width: 100%;
  border: 0;
}
.embed-responsive-16by9 {
  padding-bottom: 56.25%;
}
.embed-responsive-4by3 {
  padding-bottom: 75%;
}
.well {
  min-height: 20px;
  padding: 19px;
  margin-bottom: 20px;
  background-color: #f5f5f5;
  border: 1px solid #e3e3e3;
  border-radius: 2px;
  -webkit-box-shadow: inset 0 1px 1px rgba(0, 0, 0, 0.05);
  box-shadow: inset 0 1px 1px rgba(0, 0, 0, 0.05);
}
.well blockquote {
  border-color: #ddd;
  border-color: rgba(0, 0, 0, 0.15);
}
.well-lg {
  padding: 24px;
  border-radius: 3px;
}
.well-sm {
  padding: 9px;
  border-radius: 1px;
}
.close {
  float: right;
  font-size: 19.5px;
  font-weight: bold;
  line-height: 1;
  color: #000;
  text-shadow: 0 1px 0 #fff;
  opacity: 0.2;
  filter: alpha(opacity=20);
}
.close:hover,
.close:focus {
  color: #000;
  text-decoration: none;
  cursor: pointer;
  opacity: 0.5;
  filter: alpha(opacity=50);
}
button.close {
  padding: 0;
  cursor: pointer;
  background: transparent;
  border: 0;
  -webkit-appearance: none;
}
.modal-open {
  overflow: hidden;
}
.modal {
  display: none;
  overflow: hidden;
  position: fixed;
  top: 0;
  right: 0;
  bottom: 0;
  left: 0;
  z-index: 1050;
  -webkit-overflow-scrolling: touch;
  outline: 0;
}
.modal.fade .modal-dialog {
  -webkit-transform: translate(0, -25%);
  -ms-transform: translate(0, -25%);
  -o-transform: translate(0, -25%);
  transform: translate(0, -25%);
  -webkit-transition: -webkit-transform 0.3s ease-out;
  -moz-transition: -moz-transform 0.3s ease-out;
  -o-transition: -o-transform 0.3s ease-out;
  transition: transform 0.3s ease-out;
}
.modal.in .modal-dialog {
  -webkit-transform: translate(0, 0);
  -ms-transform: translate(0, 0);
  -o-transform: translate(0, 0);
  transform: translate(0, 0);
}
.modal-open .modal {
  overflow-x: hidden;
  overflow-y: auto;
}
.modal-dialog {
  position: relative;
  width: auto;
  margin: 10px;
}
.modal-content {
  position: relative;
  background-color: #fff;
  border: 1px solid #999;
  border: 1px solid rgba(0, 0, 0, 0.2);
  border-radius: 3px;
  -webkit-box-shadow: 0 3px 9px rgba(0, 0, 0, 0.5);
  box-shadow: 0 3px 9px rgba(0, 0, 0, 0.5);
  background-clip: padding-box;
  outline: 0;
}
.modal-backdrop {
  position: fixed;
  top: 0;
  right: 0;
  bottom: 0;
  left: 0;
  z-index: 1040;
  background-color: #000;
}
.modal-backdrop.fade {
  opacity: 0;
  filter: alpha(opacity=0);
}
.modal-backdrop.in {
  opacity: 0.5;
  filter: alpha(opacity=50);
}
.modal-header {
  padding: 15px;
  border-bottom: 1px solid #e5e5e5;
}
.modal-header .close {
  margin-top: -2px;
}
.modal-title {
  margin: 0;
  line-height: 1.42857143;
}
.modal-body {
  position: relative;
  padding: 15px;
}
.modal-footer {
  padding: 15px;
  text-align: right;
  border-top: 1px solid #e5e5e5;
}
.modal-footer .btn + .btn {
  margin-left: 5px;
  margin-bottom: 0;
}
.modal-footer .btn-group .btn + .btn {
  margin-left: -1px;
}
.modal-footer .btn-block + .btn-block {
  margin-left: 0;
}
.modal-scrollbar-measure {
  position: absolute;
  top: -9999px;
  width: 50px;
  height: 50px;
  overflow: scroll;
}
@media (min-width: 768px) {
  .modal-dialog {
    width: 600px;
    margin: 30px auto;
  }
  .modal-content {
    -webkit-box-shadow: 0 5px 15px rgba(0, 0, 0, 0.5);
    box-shadow: 0 5px 15px rgba(0, 0, 0, 0.5);
  }
  .modal-sm {
    width: 300px;
  }
}
@media (min-width: 992px) {
  .modal-lg {
    width: 900px;
  }
}
.tooltip {
  position: absolute;
  z-index: 1070;
  display: block;
  font-family: "Helvetica Neue", Helvetica, Arial, sans-serif;
  font-style: normal;
  font-weight: normal;
  letter-spacing: normal;
  line-break: auto;
  line-height: 1.42857143;
  text-align: left;
  text-align: start;
  text-decoration: none;
  text-shadow: none;
  text-transform: none;
  white-space: normal;
  word-break: normal;
  word-spacing: normal;
  word-wrap: normal;
  font-size: 12px;
  opacity: 0;
  filter: alpha(opacity=0);
}
.tooltip.in {
  opacity: 0.9;
  filter: alpha(opacity=90);
}
.tooltip.top {
  margin-top: -3px;
  padding: 5px 0;
}
.tooltip.right {
  margin-left: 3px;
  padding: 0 5px;
}
.tooltip.bottom {
  margin-top: 3px;
  padding: 5px 0;
}
.tooltip.left {
  margin-left: -3px;
  padding: 0 5px;
}
.tooltip-inner {
  max-width: 200px;
  padding: 3px 8px;
  color: #fff;
  text-align: center;
  background-color: #000;
  border-radius: 2px;
}
.tooltip-arrow {
  position: absolute;
  width: 0;
  height: 0;
  border-color: transparent;
  border-style: solid;
}
.tooltip.top .tooltip-arrow {
  bottom: 0;
  left: 50%;
  margin-left: -5px;
  border-width: 5px 5px 0;
  border-top-color: #000;
}
.tooltip.top-left .tooltip-arrow {
  bottom: 0;
  right: 5px;
  margin-bottom: -5px;
  border-width: 5px 5px 0;
  border-top-color: #000;
}
.tooltip.top-right .tooltip-arrow {
  bottom: 0;
  left: 5px;
  margin-bottom: -5px;
  border-width: 5px 5px 0;
  border-top-color: #000;
}
.tooltip.right .tooltip-arrow {
  top: 50%;
  left: 0;
  margin-top: -5px;
  border-width: 5px 5px 5px 0;
  border-right-color: #000;
}
.tooltip.left .tooltip-arrow {
  top: 50%;
  right: 0;
  margin-top: -5px;
  border-width: 5px 0 5px 5px;
  border-left-color: #000;
}
.tooltip.bottom .tooltip-arrow {
  top: 0;
  left: 50%;
  margin-left: -5px;
  border-width: 0 5px 5px;
  border-bottom-color: #000;
}
.tooltip.bottom-left .tooltip-arrow {
  top: 0;
  right: 5px;
  margin-top: -5px;
  border-width: 0 5px 5px;
  border-bottom-color: #000;
}
.tooltip.bottom-right .tooltip-arrow {
  top: 0;
  left: 5px;
  margin-top: -5px;
  border-width: 0 5px 5px;
  border-bottom-color: #000;
}
.popover {
  position: absolute;
  top: 0;
  left: 0;
  z-index: 1060;
  display: none;
  max-width: 276px;
  padding: 1px;
  font-family: "Helvetica Neue", Helvetica, Arial, sans-serif;
  font-style: normal;
  font-weight: normal;
  letter-spacing: normal;
  line-break: auto;
  line-height: 1.42857143;
  text-align: left;
  text-align: start;
  text-decoration: none;
  text-shadow: none;
  text-transform: none;
  white-space: normal;
  word-break: normal;
  word-spacing: normal;
  word-wrap: normal;
  font-size: 13px;
  background-color: #fff;
  background-clip: padding-box;
  border: 1px solid #ccc;
  border: 1px solid rgba(0, 0, 0, 0.2);
  border-radius: 3px;
  -webkit-box-shadow: 0 5px 10px rgba(0, 0, 0, 0.2);
  box-shadow: 0 5px 10px rgba(0, 0, 0, 0.2);
}
.popover.top {
  margin-top: -10px;
}
.popover.right {
  margin-left: 10px;
}
.popover.bottom {
  margin-top: 10px;
}
.popover.left {
  margin-left: -10px;
}
.popover-title {
  margin: 0;
  padding: 8px 14px;
  font-size: 13px;
  background-color: #f7f7f7;
  border-bottom: 1px solid #ebebeb;
  border-radius: 2px 2px 0 0;
}
.popover-content {
  padding: 9px 14px;
}
.popover > .arrow,
.popover > .arrow:after {
  position: absolute;
  display: block;
  width: 0;
  height: 0;
  border-color: transparent;
  border-style: solid;
}
.popover > .arrow {
  border-width: 11px;
}
.popover > .arrow:after {
  border-width: 10px;
  content: "";
}
.popover.top > .arrow {
  left: 50%;
  margin-left: -11px;
  border-bottom-width: 0;
  border-top-color: #999999;
  border-top-color: rgba(0, 0, 0, 0.25);
  bottom: -11px;
}
.popover.top > .arrow:after {
  content: " ";
  bottom: 1px;
  margin-left: -10px;
  border-bottom-width: 0;
  border-top-color: #fff;
}
.popover.right > .arrow {
  top: 50%;
  left: -11px;
  margin-top: -11px;
  border-left-width: 0;
  border-right-color: #999999;
  border-right-color: rgba(0, 0, 0, 0.25);
}
.popover.right > .arrow:after {
  content: " ";
  left: 1px;
  bottom: -10px;
  border-left-width: 0;
  border-right-color: #fff;
}
.popover.bottom > .arrow {
  left: 50%;
  margin-left: -11px;
  border-top-width: 0;
  border-bottom-color: #999999;
  border-bottom-color: rgba(0, 0, 0, 0.25);
  top: -11px;
}
.popover.bottom > .arrow:after {
  content: " ";
  top: 1px;
  margin-left: -10px;
  border-top-width: 0;
  border-bottom-color: #fff;
}
.popover.left > .arrow {
  top: 50%;
  right: -11px;
  margin-top: -11px;
  border-right-width: 0;
  border-left-color: #999999;
  border-left-color: rgba(0, 0, 0, 0.25);
}
.popover.left > .arrow:after {
  content: " ";
  right: 1px;
  border-right-width: 0;
  border-left-color: #fff;
  bottom: -10px;
}
.carousel {
  position: relative;
}
.carousel-inner {
  position: relative;
  overflow: hidden;
  width: 100%;
}
.carousel-inner > .item {
  display: none;
  position: relative;
  -webkit-transition: 0.6s ease-in-out left;
  -o-transition: 0.6s ease-in-out left;
  transition: 0.6s ease-in-out left;
}
.carousel-inner > .item > img,
.carousel-inner > .item > a > img {
  line-height: 1;
}
@media all and (transform-3d), (-webkit-transform-3d) {
  .carousel-inner > .item {
    -webkit-transition: -webkit-transform 0.6s ease-in-out;
    -moz-transition: -moz-transform 0.6s ease-in-out;
    -o-transition: -o-transform 0.6s ease-in-out;
    transition: transform 0.6s ease-in-out;
    -webkit-backface-visibility: hidden;
    -moz-backface-visibility: hidden;
    backface-visibility: hidden;
    -webkit-perspective: 1000px;
    -moz-perspective: 1000px;
    perspective: 1000px;
  }
  .carousel-inner > .item.next,
  .carousel-inner > .item.active.right {
    -webkit-transform: translate3d(100%, 0, 0);
    transform: translate3d(100%, 0, 0);
    left: 0;
  }
  .carousel-inner > .item.prev,
  .carousel-inner > .item.active.left {
    -webkit-transform: translate3d(-100%, 0, 0);
    transform: translate3d(-100%, 0, 0);
    left: 0;
  }
  .carousel-inner > .item.next.left,
  .carousel-inner > .item.prev.right,
  .carousel-inner > .item.active {
    -webkit-transform: translate3d(0, 0, 0);
    transform: translate3d(0, 0, 0);
    left: 0;
  }
}
.carousel-inner > .active,
.carousel-inner > .next,
.carousel-inner > .prev {
  display: block;
}
.carousel-inner > .active {
  left: 0;
}
.carousel-inner > .next,
.carousel-inner > .prev {
  position: absolute;
  top: 0;
  width: 100%;
}
.carousel-inner > .next {
  left: 100%;
}
.carousel-inner > .prev {
  left: -100%;
}
.carousel-inner > .next.left,
.carousel-inner > .prev.right {
  left: 0;
}
.carousel-inner > .active.left {
  left: -100%;
}
.carousel-inner > .active.right {
  left: 100%;
}
.carousel-control {
  position: absolute;
  top: 0;
  left: 0;
  bottom: 0;
  width: 15%;
  opacity: 0.5;
  filter: alpha(opacity=50);
  font-size: 20px;
  color: #fff;
  text-align: center;
  text-shadow: 0 1px 2px rgba(0, 0, 0, 0.6);
  background-color: rgba(0, 0, 0, 0);
}
.carousel-control.left {
  background-image: -webkit-linear-gradient(left, rgba(0, 0, 0, 0.5) 0%, rgba(0, 0, 0, 0.0001) 100%);
  background-image: -o-linear-gradient(left, rgba(0, 0, 0, 0.5) 0%, rgba(0, 0, 0, 0.0001) 100%);
  background-image: linear-gradient(to right, rgba(0, 0, 0, 0.5) 0%, rgba(0, 0, 0, 0.0001) 100%);
  background-repeat: repeat-x;
  filter: progid:DXImageTransform.Microsoft.gradient(startColorstr='#80000000', endColorstr='#00000000', GradientType=1);
}
.carousel-control.right {
  left: auto;
  right: 0;
  background-image: -webkit-linear-gradient(left, rgba(0, 0, 0, 0.0001) 0%, rgba(0, 0, 0, 0.5) 100%);
  background-image: -o-linear-gradient(left, rgba(0, 0, 0, 0.0001) 0%, rgba(0, 0, 0, 0.5) 100%);
  background-image: linear-gradient(to right, rgba(0, 0, 0, 0.0001) 0%, rgba(0, 0, 0, 0.5) 100%);
  background-repeat: repeat-x;
  filter: progid:DXImageTransform.Microsoft.gradient(startColorstr='#00000000', endColorstr='#80000000', GradientType=1);
}
.carousel-control:hover,
.carousel-control:focus {
  outline: 0;
  color: #fff;
  text-decoration: none;
  opacity: 0.9;
  filter: alpha(opacity=90);
}
.carousel-control .icon-prev,
.carousel-control .icon-next,
.carousel-control .glyphicon-chevron-left,
.carousel-control .glyphicon-chevron-right {
  position: absolute;
  top: 50%;
  margin-top: -10px;
  z-index: 5;
  display: inline-block;
}
.carousel-control .icon-prev,
.carousel-control .glyphicon-chevron-left {
  left: 50%;
  margin-left: -10px;
}
.carousel-control .icon-next,
.carousel-control .glyphicon-chevron-right {
  right: 50%;
  margin-right: -10px;
}
.carousel-control .icon-prev,
.carousel-control .icon-next {
  width: 20px;
  height: 20px;
  line-height: 1;
  font-family: serif;
}
.carousel-control .icon-prev:before {
  content: '\2039';
}
.carousel-control .icon-next:before {
  content: '\203a';
}
.carousel-indicators {
  position: absolute;
  bottom: 10px;
  left: 50%;
  z-index: 15;
  width: 60%;
  margin-left: -30%;
  padding-left: 0;
  list-style: none;
  text-align: center;
}
.carousel-indicators li {
  display: inline-block;
  width: 10px;
  height: 10px;
  margin: 1px;
  text-indent: -999px;
  border: 1px solid #fff;
  border-radius: 10px;
  cursor: pointer;
  background-color: #000 \9;
  background-color: rgba(0, 0, 0, 0);
}
.carousel-indicators .active {
  margin: 0;
  width: 12px;
  height: 12px;
  background-color: #fff;
}
.carousel-caption {
  position: absolute;
  left: 15%;
  right: 15%;
  bottom: 20px;
  z-index: 10;
  padding-top: 20px;
  padding-bottom: 20px;
  color: #fff;
  text-align: center;
  text-shadow: 0 1px 2px rgba(0, 0, 0, 0.6);
}
.carousel-caption .btn {
  text-shadow: none;
}
@media screen and (min-width: 768px) {
  .carousel-control .glyphicon-chevron-left,
  .carousel-control .glyphicon-chevron-right,
  .carousel-control .icon-prev,
  .carousel-control .icon-next {
    width: 30px;
    height: 30px;
    margin-top: -10px;
    font-size: 30px;
  }
  .carousel-control .glyphicon-chevron-left,
  .carousel-control .icon-prev {
    margin-left: -10px;
  }
  .carousel-control .glyphicon-chevron-right,
  .carousel-control .icon-next {
    margin-right: -10px;
  }
  .carousel-caption {
    left: 20%;
    right: 20%;
    padding-bottom: 30px;
  }
  .carousel-indicators {
    bottom: 20px;
  }
}
.clearfix:before,
.clearfix:after,
.dl-horizontal dd:before,
.dl-horizontal dd:after,
.container:before,
.container:after,
.container-fluid:before,
.container-fluid:after,
.row:before,
.row:after,
.form-horizontal .form-group:before,
.form-horizontal .form-group:after,
.btn-toolbar:before,
.btn-toolbar:after,
.btn-group-vertical > .btn-group:before,
.btn-group-vertical > .btn-group:after,
.nav:before,
.nav:after,
.navbar:before,
.navbar:after,
.navbar-header:before,
.navbar-header:after,
.navbar-collapse:before,
.navbar-collapse:after,
.pager:before,
.pager:after,
.panel-body:before,
.panel-body:after,
.modal-header:before,
.modal-header:after,
.modal-footer:before,
.modal-footer:after,
.item_buttons:before,
.item_buttons:after {
  content: " ";
  display: table;
}
.clearfix:after,
.dl-horizontal dd:after,
.container:after,
.container-fluid:after,
.row:after,
.form-horizontal .form-group:after,
.btn-toolbar:after,
.btn-group-vertical > .btn-group:after,
.nav:after,
.navbar:after,
.navbar-header:after,
.navbar-collapse:after,
.pager:after,
.panel-body:after,
.modal-header:after,
.modal-footer:after,
.item_buttons:after {
  clear: both;
}
.center-block {
  display: block;
  margin-left: auto;
  margin-right: auto;
}
.pull-right {
  float: right !important;
}
.pull-left {
  float: left !important;
}
.hide {
  display: none !important;
}
.show {
  display: block !important;
}
.invisible {
  visibility: hidden;
}
.text-hide {
  font: 0/0 a;
  color: transparent;
  text-shadow: none;
  background-color: transparent;
  border: 0;
}
.hidden {
  display: none !important;
}
.affix {
  position: fixed;
}
@-ms-viewport {
  width: device-width;
}
.visible-xs,
.visible-sm,
.visible-md,
.visible-lg {
  display: none !important;
}
.visible-xs-block,
.visible-xs-inline,
.visible-xs-inline-block,
.visible-sm-block,
.visible-sm-inline,
.visible-sm-inline-block,
.visible-md-block,
.visible-md-inline,
.visible-md-inline-block,
.visible-lg-block,
.visible-lg-inline,
.visible-lg-inline-block {
  display: none !important;
}
@media (max-width: 767px) {
  .visible-xs {
    display: block !important;
  }
  table.visible-xs {
    display: table !important;
  }
  tr.visible-xs {
    display: table-row !important;
  }
  th.visible-xs,
  td.visible-xs {
    display: table-cell !important;
  }
}
@media (max-width: 767px) {
  .visible-xs-block {
    display: block !important;
  }
}
@media (max-width: 767px) {
  .visible-xs-inline {
    display: inline !important;
  }
}
@media (max-width: 767px) {
  .visible-xs-inline-block {
    display: inline-block !important;
  }
}
@media (min-width: 768px) and (max-width: 991px) {
  .visible-sm {
    display: block !important;
  }
  table.visible-sm {
    display: table !important;
  }
  tr.visible-sm {
    display: table-row !important;
  }
  th.visible-sm,
  td.visible-sm {
    display: table-cell !important;
  }
}
@media (min-width: 768px) and (max-width: 991px) {
  .visible-sm-block {
    display: block !important;
  }
}
@media (min-width: 768px) and (max-width: 991px) {
  .visible-sm-inline {
    display: inline !important;
  }
}
@media (min-width: 768px) and (max-width: 991px) {
  .visible-sm-inline-block {
    display: inline-block !important;
  }
}
@media (min-width: 992px) and (max-width: 1199px) {
  .visible-md {
    display: block !important;
  }
  table.visible-md {
    display: table !important;
  }
  tr.visible-md {
    display: table-row !important;
  }
  th.visible-md,
  td.visible-md {
    display: table-cell !important;
  }
}
@media (min-width: 992px) and (max-width: 1199px) {
  .visible-md-block {
    display: block !important;
  }
}
@media (min-width: 992px) and (max-width: 1199px) {
  .visible-md-inline {
    display: inline !important;
  }
}
@media (min-width: 992px) and (max-width: 1199px) {
  .visible-md-inline-block {
    display: inline-block !important;
  }
}
@media (min-width: 1200px) {
  .visible-lg {
    display: block !important;
  }
  table.visible-lg {
    display: table !important;
  }
  tr.visible-lg {
    display: table-row !important;
  }
  th.visible-lg,
  td.visible-lg {
    display: table-cell !important;
  }
}
@media (min-width: 1200px) {
  .visible-lg-block {
    display: block !important;
  }
}
@media (min-width: 1200px) {
  .visible-lg-inline {
    display: inline !important;
  }
}
@media (min-width: 1200px) {
  .visible-lg-inline-block {
    display: inline-block !important;
  }
}
@media (max-width: 767px) {
  .hidden-xs {
    display: none !important;
  }
}
@media (min-width: 768px) and (max-width: 991px) {
  .hidden-sm {
    display: none !important;
  }
}
@media (min-width: 992px) and (max-width: 1199px) {
  .hidden-md {
    display: none !important;
  }
}
@media (min-width: 1200px) {
  .hidden-lg {
    display: none !important;
  }
}
.visible-print {
  display: none !important;
}
@media print {
  .visible-print {
    display: block !important;
  }
  table.visible-print {
    display: table !important;
  }
  tr.visible-print {
    display: table-row !important;
  }
  th.visible-print,
  td.visible-print {
    display: table-cell !important;
  }
}
.visible-print-block {
  display: none !important;
}
@media print {
  .visible-print-block {
    display: block !important;
  }
}
.visible-print-inline {
  display: none !important;
}
@media print {
  .visible-print-inline {
    display: inline !important;
  }
}
.visible-print-inline-block {
  display: none !important;
}
@media print {
  .visible-print-inline-block {
    display: inline-block !important;
  }
}
@media print {
  .hidden-print {
    display: none !important;
  }
}
/*!
*
* Font Awesome
*
*/
/*!
 *  Font Awesome 4.7.0 by @davegandy - http://fontawesome.io - @fontawesome
 *  License - http://fontawesome.io/license (Font: SIL OFL 1.1, CSS: MIT License)
 */
/* FONT PATH
 * -------------------------- */
@font-face {
  font-family: 'FontAwesome';
  src: url('../components/font-awesome/fonts/fontawesome-webfont.eot?v=4.7.0');
  src: url('../components/font-awesome/fonts/fontawesome-webfont.eot?#iefix&v=4.7.0') format('embedded-opentype'), url('../components/font-awesome/fonts/fontawesome-webfont.woff2?v=4.7.0') format('woff2'), url('../components/font-awesome/fonts/fontawesome-webfont.woff?v=4.7.0') format('woff'), url('../components/font-awesome/fonts/fontawesome-webfont.ttf?v=4.7.0') format('truetype'), url('../components/font-awesome/fonts/fontawesome-webfont.svg?v=4.7.0#fontawesomeregular') format('svg');
  font-weight: normal;
  font-style: normal;
}
.fa {
  display: inline-block;
  font: normal normal normal 14px/1 FontAwesome;
  font-size: inherit;
  text-rendering: auto;
  -webkit-font-smoothing: antialiased;
  -moz-osx-font-smoothing: grayscale;
}
/* makes the font 33% larger relative to the icon container */
.fa-lg {
  font-size: 1.33333333em;
  line-height: 0.75em;
  vertical-align: -15%;
}
.fa-2x {
  font-size: 2em;
}
.fa-3x {
  font-size: 3em;
}
.fa-4x {
  font-size: 4em;
}
.fa-5x {
  font-size: 5em;
}
.fa-fw {
  width: 1.28571429em;
  text-align: center;
}
.fa-ul {
  padding-left: 0;
  margin-left: 2.14285714em;
  list-style-type: none;
}
.fa-ul > li {
  position: relative;
}
.fa-li {
  position: absolute;
  left: -2.14285714em;
  width: 2.14285714em;
  top: 0.14285714em;
  text-align: center;
}
.fa-li.fa-lg {
  left: -1.85714286em;
}
.fa-border {
  padding: .2em .25em .15em;
  border: solid 0.08em #eee;
  border-radius: .1em;
}
.fa-pull-left {
  float: left;
}
.fa-pull-right {
  float: right;
}
.fa.fa-pull-left {
  margin-right: .3em;
}
.fa.fa-pull-right {
  margin-left: .3em;
}
/* Deprecated as of 4.4.0 */
.pull-right {
  float: right;
}
.pull-left {
  float: left;
}
.fa.pull-left {
  margin-right: .3em;
}
.fa.pull-right {
  margin-left: .3em;
}
.fa-spin {
  -webkit-animation: fa-spin 2s infinite linear;
  animation: fa-spin 2s infinite linear;
}
.fa-pulse {
  -webkit-animation: fa-spin 1s infinite steps(8);
  animation: fa-spin 1s infinite steps(8);
}
@-webkit-keyframes fa-spin {
  0% {
    -webkit-transform: rotate(0deg);
    transform: rotate(0deg);
  }
  100% {
    -webkit-transform: rotate(359deg);
    transform: rotate(359deg);
  }
}
@keyframes fa-spin {
  0% {
    -webkit-transform: rotate(0deg);
    transform: rotate(0deg);
  }
  100% {
    -webkit-transform: rotate(359deg);
    transform: rotate(359deg);
  }
}
.fa-rotate-90 {
  -ms-filter: "progid:DXImageTransform.Microsoft.BasicImage(rotation=1)";
  -webkit-transform: rotate(90deg);
  -ms-transform: rotate(90deg);
  transform: rotate(90deg);
}
.fa-rotate-180 {
  -ms-filter: "progid:DXImageTransform.Microsoft.BasicImage(rotation=2)";
  -webkit-transform: rotate(180deg);
  -ms-transform: rotate(180deg);
  transform: rotate(180deg);
}
.fa-rotate-270 {
  -ms-filter: "progid:DXImageTransform.Microsoft.BasicImage(rotation=3)";
  -webkit-transform: rotate(270deg);
  -ms-transform: rotate(270deg);
  transform: rotate(270deg);
}
.fa-flip-horizontal {
  -ms-filter: "progid:DXImageTransform.Microsoft.BasicImage(rotation=0, mirror=1)";
  -webkit-transform: scale(-1, 1);
  -ms-transform: scale(-1, 1);
  transform: scale(-1, 1);
}
.fa-flip-vertical {
  -ms-filter: "progid:DXImageTransform.Microsoft.BasicImage(rotation=2, mirror=1)";
  -webkit-transform: scale(1, -1);
  -ms-transform: scale(1, -1);
  transform: scale(1, -1);
}
:root .fa-rotate-90,
:root .fa-rotate-180,
:root .fa-rotate-270,
:root .fa-flip-horizontal,
:root .fa-flip-vertical {
  filter: none;
}
.fa-stack {
  position: relative;
  display: inline-block;
  width: 2em;
  height: 2em;
  line-height: 2em;
  vertical-align: middle;
}
.fa-stack-1x,
.fa-stack-2x {
  position: absolute;
  left: 0;
  width: 100%;
  text-align: center;
}
.fa-stack-1x {
  line-height: inherit;
}
.fa-stack-2x {
  font-size: 2em;
}
.fa-inverse {
  color: #fff;
}
/* Font Awesome uses the Unicode Private Use Area (PUA) to ensure screen
   readers do not read off random characters that represent icons */
.fa-glass:before {
  content: "\f000";
}
.fa-music:before {
  content: "\f001";
}
.fa-search:before {
  content: "\f002";
}
.fa-envelope-o:before {
  content: "\f003";
}
.fa-heart:before {
  content: "\f004";
}
.fa-star:before {
  content: "\f005";
}
.fa-star-o:before {
  content: "\f006";
}
.fa-user:before {
  content: "\f007";
}
.fa-film:before {
  content: "\f008";
}
.fa-th-large:before {
  content: "\f009";
}
.fa-th:before {
  content: "\f00a";
}
.fa-th-list:before {
  content: "\f00b";
}
.fa-check:before {
  content: "\f00c";
}
.fa-remove:before,
.fa-close:before,
.fa-times:before {
  content: "\f00d";
}
.fa-search-plus:before {
  content: "\f00e";
}
.fa-search-minus:before {
  content: "\f010";
}
.fa-power-off:before {
  content: "\f011";
}
.fa-signal:before {
  content: "\f012";
}
.fa-gear:before,
.fa-cog:before {
  content: "\f013";
}
.fa-trash-o:before {
  content: "\f014";
}
.fa-home:before {
  content: "\f015";
}
.fa-file-o:before {
  content: "\f016";
}
.fa-clock-o:before {
  content: "\f017";
}
.fa-road:before {
  content: "\f018";
}
.fa-download:before {
  content: "\f019";
}
.fa-arrow-circle-o-down:before {
  content: "\f01a";
}
.fa-arrow-circle-o-up:before {
  content: "\f01b";
}
.fa-inbox:before {
  content: "\f01c";
}
.fa-play-circle-o:before {
  content: "\f01d";
}
.fa-rotate-right:before,
.fa-repeat:before {
  content: "\f01e";
}
.fa-refresh:before {
  content: "\f021";
}
.fa-list-alt:before {
  content: "\f022";
}
.fa-lock:before {
  content: "\f023";
}
.fa-flag:before {
  content: "\f024";
}
.fa-headphones:before {
  content: "\f025";
}
.fa-volume-off:before {
  content: "\f026";
}
.fa-volume-down:before {
  content: "\f027";
}
.fa-volume-up:before {
  content: "\f028";
}
.fa-qrcode:before {
  content: "\f029";
}
.fa-barcode:before {
  content: "\f02a";
}
.fa-tag:before {
  content: "\f02b";
}
.fa-tags:before {
  content: "\f02c";
}
.fa-book:before {
  content: "\f02d";
}
.fa-bookmark:before {
  content: "\f02e";
}
.fa-print:before {
  content: "\f02f";
}
.fa-camera:before {
  content: "\f030";
}
.fa-font:before {
  content: "\f031";
}
.fa-bold:before {
  content: "\f032";
}
.fa-italic:before {
  content: "\f033";
}
.fa-text-height:before {
  content: "\f034";
}
.fa-text-width:before {
  content: "\f035";
}
.fa-align-left:before {
  content: "\f036";
}
.fa-align-center:before {
  content: "\f037";
}
.fa-align-right:before {
  content: "\f038";
}
.fa-align-justify:before {
  content: "\f039";
}
.fa-list:before {
  content: "\f03a";
}
.fa-dedent:before,
.fa-outdent:before {
  content: "\f03b";
}
.fa-indent:before {
  content: "\f03c";
}
.fa-video-camera:before {
  content: "\f03d";
}
.fa-photo:before,
.fa-image:before,
.fa-picture-o:before {
  content: "\f03e";
}
.fa-pencil:before {
  content: "\f040";
}
.fa-map-marker:before {
  content: "\f041";
}
.fa-adjust:before {
  content: "\f042";
}
.fa-tint:before {
  content: "\f043";
}
.fa-edit:before,
.fa-pencil-square-o:before {
  content: "\f044";
}
.fa-share-square-o:before {
  content: "\f045";
}
.fa-check-square-o:before {
  content: "\f046";
}
.fa-arrows:before {
  content: "\f047";
}
.fa-step-backward:before {
  content: "\f048";
}
.fa-fast-backward:before {
  content: "\f049";
}
.fa-backward:before {
  content: "\f04a";
}
.fa-play:before {
  content: "\f04b";
}
.fa-pause:before {
  content: "\f04c";
}
.fa-stop:before {
  content: "\f04d";
}
.fa-forward:before {
  content: "\f04e";
}
.fa-fast-forward:before {
  content: "\f050";
}
.fa-step-forward:before {
  content: "\f051";
}
.fa-eject:before {
  content: "\f052";
}
.fa-chevron-left:before {
  content: "\f053";
}
.fa-chevron-right:before {
  content: "\f054";
}
.fa-plus-circle:before {
  content: "\f055";
}
.fa-minus-circle:before {
  content: "\f056";
}
.fa-times-circle:before {
  content: "\f057";
}
.fa-check-circle:before {
  content: "\f058";
}
.fa-question-circle:before {
  content: "\f059";
}
.fa-info-circle:before {
  content: "\f05a";
}
.fa-crosshairs:before {
  content: "\f05b";
}
.fa-times-circle-o:before {
  content: "\f05c";
}
.fa-check-circle-o:before {
  content: "\f05d";
}
.fa-ban:before {
  content: "\f05e";
}
.fa-arrow-left:before {
  content: "\f060";
}
.fa-arrow-right:before {
  content: "\f061";
}
.fa-arrow-up:before {
  content: "\f062";
}
.fa-arrow-down:before {
  content: "\f063";
}
.fa-mail-forward:before,
.fa-share:before {
  content: "\f064";
}
.fa-expand:before {
  content: "\f065";
}
.fa-compress:before {
  content: "\f066";
}
.fa-plus:before {
  content: "\f067";
}
.fa-minus:before {
  content: "\f068";
}
.fa-asterisk:before {
  content: "\f069";
}
.fa-exclamation-circle:before {
  content: "\f06a";
}
.fa-gift:before {
  content: "\f06b";
}
.fa-leaf:before {
  content: "\f06c";
}
.fa-fire:before {
  content: "\f06d";
}
.fa-eye:before {
  content: "\f06e";
}
.fa-eye-slash:before {
  content: "\f070";
}
.fa-warning:before,
.fa-exclamation-triangle:before {
  content: "\f071";
}
.fa-plane:before {
  content: "\f072";
}
.fa-calendar:before {
  content: "\f073";
}
.fa-random:before {
  content: "\f074";
}
.fa-comment:before {
  content: "\f075";
}
.fa-magnet:before {
  content: "\f076";
}
.fa-chevron-up:before {
  content: "\f077";
}
.fa-chevron-down:before {
  content: "\f078";
}
.fa-retweet:before {
  content: "\f079";
}
.fa-shopping-cart:before {
  content: "\f07a";
}
.fa-folder:before {
  content: "\f07b";
}
.fa-folder-open:before {
  content: "\f07c";
}
.fa-arrows-v:before {
  content: "\f07d";
}
.fa-arrows-h:before {
  content: "\f07e";
}
.fa-bar-chart-o:before,
.fa-bar-chart:before {
  content: "\f080";
}
.fa-twitter-square:before {
  content: "\f081";
}
.fa-facebook-square:before {
  content: "\f082";
}
.fa-camera-retro:before {
  content: "\f083";
}
.fa-key:before {
  content: "\f084";
}
.fa-gears:before,
.fa-cogs:before {
  content: "\f085";
}
.fa-comments:before {
  content: "\f086";
}
.fa-thumbs-o-up:before {
  content: "\f087";
}
.fa-thumbs-o-down:before {
  content: "\f088";
}
.fa-star-half:before {
  content: "\f089";
}
.fa-heart-o:before {
  content: "\f08a";
}
.fa-sign-out:before {
  content: "\f08b";
}
.fa-linkedin-square:before {
  content: "\f08c";
}
.fa-thumb-tack:before {
  content: "\f08d";
}
.fa-external-link:before {
  content: "\f08e";
}
.fa-sign-in:before {
  content: "\f090";
}
.fa-trophy:before {
  content: "\f091";
}
.fa-github-square:before {
  content: "\f092";
}
.fa-upload:before {
  content: "\f093";
}
.fa-lemon-o:before {
  content: "\f094";
}
.fa-phone:before {
  content: "\f095";
}
.fa-square-o:before {
  content: "\f096";
}
.fa-bookmark-o:before {
  content: "\f097";
}
.fa-phone-square:before {
  content: "\f098";
}
.fa-twitter:before {
  content: "\f099";
}
.fa-facebook-f:before,
.fa-facebook:before {
  content: "\f09a";
}
.fa-github:before {
  content: "\f09b";
}
.fa-unlock:before {
  content: "\f09c";
}
.fa-credit-card:before {
  content: "\f09d";
}
.fa-feed:before,
.fa-rss:before {
  content: "\f09e";
}
.fa-hdd-o:before {
  content: "\f0a0";
}
.fa-bullhorn:before {
  content: "\f0a1";
}
.fa-bell:before {
  content: "\f0f3";
}
.fa-certificate:before {
  content: "\f0a3";
}
.fa-hand-o-right:before {
  content: "\f0a4";
}
.fa-hand-o-left:before {
  content: "\f0a5";
}
.fa-hand-o-up:before {
  content: "\f0a6";
}
.fa-hand-o-down:before {
  content: "\f0a7";
}
.fa-arrow-circle-left:before {
  content: "\f0a8";
}
.fa-arrow-circle-right:before {
  content: "\f0a9";
}
.fa-arrow-circle-up:before {
  content: "\f0aa";
}
.fa-arrow-circle-down:before {
  content: "\f0ab";
}
.fa-globe:before {
  content: "\f0ac";
}
.fa-wrench:before {
  content: "\f0ad";
}
.fa-tasks:before {
  content: "\f0ae";
}
.fa-filter:before {
  content: "\f0b0";
}
.fa-briefcase:before {
  content: "\f0b1";
}
.fa-arrows-alt:before {
  content: "\f0b2";
}
.fa-group:before,
.fa-users:before {
  content: "\f0c0";
}
.fa-chain:before,
.fa-link:before {
  content: "\f0c1";
}
.fa-cloud:before {
  content: "\f0c2";
}
.fa-flask:before {
  content: "\f0c3";
}
.fa-cut:before,
.fa-scissors:before {
  content: "\f0c4";
}
.fa-copy:before,
.fa-files-o:before {
  content: "\f0c5";
}
.fa-paperclip:before {
  content: "\f0c6";
}
.fa-save:before,
.fa-floppy-o:before {
  content: "\f0c7";
}
.fa-square:before {
  content: "\f0c8";
}
.fa-navicon:before,
.fa-reorder:before,
.fa-bars:before {
  content: "\f0c9";
}
.fa-list-ul:before {
  content: "\f0ca";
}
.fa-list-ol:before {
  content: "\f0cb";
}
.fa-strikethrough:before {
  content: "\f0cc";
}
.fa-underline:before {
  content: "\f0cd";
}
.fa-table:before {
  content: "\f0ce";
}
.fa-magic:before {
  content: "\f0d0";
}
.fa-truck:before {
  content: "\f0d1";
}
.fa-pinterest:before {
  content: "\f0d2";
}
.fa-pinterest-square:before {
  content: "\f0d3";
}
.fa-google-plus-square:before {
  content: "\f0d4";
}
.fa-google-plus:before {
  content: "\f0d5";
}
.fa-money:before {
  content: "\f0d6";
}
.fa-caret-down:before {
  content: "\f0d7";
}
.fa-caret-up:before {
  content: "\f0d8";
}
.fa-caret-left:before {
  content: "\f0d9";
}
.fa-caret-right:before {
  content: "\f0da";
}
.fa-columns:before {
  content: "\f0db";
}
.fa-unsorted:before,
.fa-sort:before {
  content: "\f0dc";
}
.fa-sort-down:before,
.fa-sort-desc:before {
  content: "\f0dd";
}
.fa-sort-up:before,
.fa-sort-asc:before {
  content: "\f0de";
}
.fa-envelope:before {
  content: "\f0e0";
}
.fa-linkedin:before {
  content: "\f0e1";
}
.fa-rotate-left:before,
.fa-undo:before {
  content: "\f0e2";
}
.fa-legal:before,
.fa-gavel:before {
  content: "\f0e3";
}
.fa-dashboard:before,
.fa-tachometer:before {
  content: "\f0e4";
}
.fa-comment-o:before {
  content: "\f0e5";
}
.fa-comments-o:before {
  content: "\f0e6";
}
.fa-flash:before,
.fa-bolt:before {
  content: "\f0e7";
}
.fa-sitemap:before {
  content: "\f0e8";
}
.fa-umbrella:before {
  content: "\f0e9";
}
.fa-paste:before,
.fa-clipboard:before {
  content: "\f0ea";
}
.fa-lightbulb-o:before {
  content: "\f0eb";
}
.fa-exchange:before {
  content: "\f0ec";
}
.fa-cloud-download:before {
  content: "\f0ed";
}
.fa-cloud-upload:before {
  content: "\f0ee";
}
.fa-user-md:before {
  content: "\f0f0";
}
.fa-stethoscope:before {
  content: "\f0f1";
}
.fa-suitcase:before {
  content: "\f0f2";
}
.fa-bell-o:before {
  content: "\f0a2";
}
.fa-coffee:before {
  content: "\f0f4";
}
.fa-cutlery:before {
  content: "\f0f5";
}
.fa-file-text-o:before {
  content: "\f0f6";
}
.fa-building-o:before {
  content: "\f0f7";
}
.fa-hospital-o:before {
  content: "\f0f8";
}
.fa-ambulance:before {
  content: "\f0f9";
}
.fa-medkit:before {
  content: "\f0fa";
}
.fa-fighter-jet:before {
  content: "\f0fb";
}
.fa-beer:before {
  content: "\f0fc";
}
.fa-h-square:before {
  content: "\f0fd";
}
.fa-plus-square:before {
  content: "\f0fe";
}
.fa-angle-double-left:before {
  content: "\f100";
}
.fa-angle-double-right:before {
  content: "\f101";
}
.fa-angle-double-up:before {
  content: "\f102";
}
.fa-angle-double-down:before {
  content: "\f103";
}
.fa-angle-left:before {
  content: "\f104";
}
.fa-angle-right:before {
  content: "\f105";
}
.fa-angle-up:before {
  content: "\f106";
}
.fa-angle-down:before {
  content: "\f107";
}
.fa-desktop:before {
  content: "\f108";
}
.fa-laptop:before {
  content: "\f109";
}
.fa-tablet:before {
  content: "\f10a";
}
.fa-mobile-phone:before,
.fa-mobile:before {
  content: "\f10b";
}
.fa-circle-o:before {
  content: "\f10c";
}
.fa-quote-left:before {
  content: "\f10d";
}
.fa-quote-right:before {
  content: "\f10e";
}
.fa-spinner:before {
  content: "\f110";
}
.fa-circle:before {
  content: "\f111";
}
.fa-mail-reply:before,
.fa-reply:before {
  content: "\f112";
}
.fa-github-alt:before {
  content: "\f113";
}
.fa-folder-o:before {
  content: "\f114";
}
.fa-folder-open-o:before {
  content: "\f115";
}
.fa-smile-o:before {
  content: "\f118";
}
.fa-frown-o:before {
  content: "\f119";
}
.fa-meh-o:before {
  content: "\f11a";
}
.fa-gamepad:before {
  content: "\f11b";
}
.fa-keyboard-o:before {
  content: "\f11c";
}
.fa-flag-o:before {
  content: "\f11d";
}
.fa-flag-checkered:before {
  content: "\f11e";
}
.fa-terminal:before {
  content: "\f120";
}
.fa-code:before {
  content: "\f121";
}
.fa-mail-reply-all:before,
.fa-reply-all:before {
  content: "\f122";
}
.fa-star-half-empty:before,
.fa-star-half-full:before,
.fa-star-half-o:before {
  content: "\f123";
}
.fa-location-arrow:before {
  content: "\f124";
}
.fa-crop:before {
  content: "\f125";
}
.fa-code-fork:before {
  content: "\f126";
}
.fa-unlink:before,
.fa-chain-broken:before {
  content: "\f127";
}
.fa-question:before {
  content: "\f128";
}
.fa-info:before {
  content: "\f129";
}
.fa-exclamation:before {
  content: "\f12a";
}
.fa-superscript:before {
  content: "\f12b";
}
.fa-subscript:before {
  content: "\f12c";
}
.fa-eraser:before {
  content: "\f12d";
}
.fa-puzzle-piece:before {
  content: "\f12e";
}
.fa-microphone:before {
  content: "\f130";
}
.fa-microphone-slash:before {
  content: "\f131";
}
.fa-shield:before {
  content: "\f132";
}
.fa-calendar-o:before {
  content: "\f133";
}
.fa-fire-extinguisher:before {
  content: "\f134";
}
.fa-rocket:before {
  content: "\f135";
}
.fa-maxcdn:before {
  content: "\f136";
}
.fa-chevron-circle-left:before {
  content: "\f137";
}
.fa-chevron-circle-right:before {
  content: "\f138";
}
.fa-chevron-circle-up:before {
  content: "\f139";
}
.fa-chevron-circle-down:before {
  content: "\f13a";
}
.fa-html5:before {
  content: "\f13b";
}
.fa-css3:before {
  content: "\f13c";
}
.fa-anchor:before {
  content: "\f13d";
}
.fa-unlock-alt:before {
  content: "\f13e";
}
.fa-bullseye:before {
  content: "\f140";
}
.fa-ellipsis-h:before {
  content: "\f141";
}
.fa-ellipsis-v:before {
  content: "\f142";
}
.fa-rss-square:before {
  content: "\f143";
}
.fa-play-circle:before {
  content: "\f144";
}
.fa-ticket:before {
  content: "\f145";
}
.fa-minus-square:before {
  content: "\f146";
}
.fa-minus-square-o:before {
  content: "\f147";
}
.fa-level-up:before {
  content: "\f148";
}
.fa-level-down:before {
  content: "\f149";
}
.fa-check-square:before {
  content: "\f14a";
}
.fa-pencil-square:before {
  content: "\f14b";
}
.fa-external-link-square:before {
  content: "\f14c";
}
.fa-share-square:before {
  content: "\f14d";
}
.fa-compass:before {
  content: "\f14e";
}
.fa-toggle-down:before,
.fa-caret-square-o-down:before {
  content: "\f150";
}
.fa-toggle-up:before,
.fa-caret-square-o-up:before {
  content: "\f151";
}
.fa-toggle-right:before,
.fa-caret-square-o-right:before {
  content: "\f152";
}
.fa-euro:before,
.fa-eur:before {
  content: "\f153";
}
.fa-gbp:before {
  content: "\f154";
}
.fa-dollar:before,
.fa-usd:before {
  content: "\f155";
}
.fa-rupee:before,
.fa-inr:before {
  content: "\f156";
}
.fa-cny:before,
.fa-rmb:before,
.fa-yen:before,
.fa-jpy:before {
  content: "\f157";
}
.fa-ruble:before,
.fa-rouble:before,
.fa-rub:before {
  content: "\f158";
}
.fa-won:before,
.fa-krw:before {
  content: "\f159";
}
.fa-bitcoin:before,
.fa-btc:before {
  content: "\f15a";
}
.fa-file:before {
  content: "\f15b";
}
.fa-file-text:before {
  content: "\f15c";
}
.fa-sort-alpha-asc:before {
  content: "\f15d";
}
.fa-sort-alpha-desc:before {
  content: "\f15e";
}
.fa-sort-amount-asc:before {
  content: "\f160";
}
.fa-sort-amount-desc:before {
  content: "\f161";
}
.fa-sort-numeric-asc:before {
  content: "\f162";
}
.fa-sort-numeric-desc:before {
  content: "\f163";
}
.fa-thumbs-up:before {
  content: "\f164";
}
.fa-thumbs-down:before {
  content: "\f165";
}
.fa-youtube-square:before {
  content: "\f166";
}
.fa-youtube:before {
  content: "\f167";
}
.fa-xing:before {
  content: "\f168";
}
.fa-xing-square:before {
  content: "\f169";
}
.fa-youtube-play:before {
  content: "\f16a";
}
.fa-dropbox:before {
  content: "\f16b";
}
.fa-stack-overflow:before {
  content: "\f16c";
}
.fa-instagram:before {
  content: "\f16d";
}
.fa-flickr:before {
  content: "\f16e";
}
.fa-adn:before {
  content: "\f170";
}
.fa-bitbucket:before {
  content: "\f171";
}
.fa-bitbucket-square:before {
  content: "\f172";
}
.fa-tumblr:before {
  content: "\f173";
}
.fa-tumblr-square:before {
  content: "\f174";
}
.fa-long-arrow-down:before {
  content: "\f175";
}
.fa-long-arrow-up:before {
  content: "\f176";
}
.fa-long-arrow-left:before {
  content: "\f177";
}
.fa-long-arrow-right:before {
  content: "\f178";
}
.fa-apple:before {
  content: "\f179";
}
.fa-windows:before {
  content: "\f17a";
}
.fa-android:before {
  content: "\f17b";
}
.fa-linux:before {
  content: "\f17c";
}
.fa-dribbble:before {
  content: "\f17d";
}
.fa-skype:before {
  content: "\f17e";
}
.fa-foursquare:before {
  content: "\f180";
}
.fa-trello:before {
  content: "\f181";
}
.fa-female:before {
  content: "\f182";
}
.fa-male:before {
  content: "\f183";
}
.fa-gittip:before,
.fa-gratipay:before {
  content: "\f184";
}
.fa-sun-o:before {
  content: "\f185";
}
.fa-moon-o:before {
  content: "\f186";
}
.fa-archive:before {
  content: "\f187";
}
.fa-bug:before {
  content: "\f188";
}
.fa-vk:before {
  content: "\f189";
}
.fa-weibo:before {
  content: "\f18a";
}
.fa-renren:before {
  content: "\f18b";
}
.fa-pagelines:before {
  content: "\f18c";
}
.fa-stack-exchange:before {
  content: "\f18d";
}
.fa-arrow-circle-o-right:before {
  content: "\f18e";
}
.fa-arrow-circle-o-left:before {
  content: "\f190";
}
.fa-toggle-left:before,
.fa-caret-square-o-left:before {
  content: "\f191";
}
.fa-dot-circle-o:before {
  content: "\f192";
}
.fa-wheelchair:before {
  content: "\f193";
}
.fa-vimeo-square:before {
  content: "\f194";
}
.fa-turkish-lira:before,
.fa-try:before {
  content: "\f195";
}
.fa-plus-square-o:before {
  content: "\f196";
}
.fa-space-shuttle:before {
  content: "\f197";
}
.fa-slack:before {
  content: "\f198";
}
.fa-envelope-square:before {
  content: "\f199";
}
.fa-wordpress:before {
  content: "\f19a";
}
.fa-openid:before {
  content: "\f19b";
}
.fa-institution:before,
.fa-bank:before,
.fa-university:before {
  content: "\f19c";
}
.fa-mortar-board:before,
.fa-graduation-cap:before {
  content: "\f19d";
}
.fa-yahoo:before {
  content: "\f19e";
}
.fa-google:before {
  content: "\f1a0";
}
.fa-reddit:before {
  content: "\f1a1";
}
.fa-reddit-square:before {
  content: "\f1a2";
}
.fa-stumbleupon-circle:before {
  content: "\f1a3";
}
.fa-stumbleupon:before {
  content: "\f1a4";
}
.fa-delicious:before {
  content: "\f1a5";
}
.fa-digg:before {
  content: "\f1a6";
}
.fa-pied-piper-pp:before {
  content: "\f1a7";
}
.fa-pied-piper-alt:before {
  content: "\f1a8";
}
.fa-drupal:before {
  content: "\f1a9";
}
.fa-joomla:before {
  content: "\f1aa";
}
.fa-language:before {
  content: "\f1ab";
}
.fa-fax:before {
  content: "\f1ac";
}
.fa-building:before {
  content: "\f1ad";
}
.fa-child:before {
  content: "\f1ae";
}
.fa-paw:before {
  content: "\f1b0";
}
.fa-spoon:before {
  content: "\f1b1";
}
.fa-cube:before {
  content: "\f1b2";
}
.fa-cubes:before {
  content: "\f1b3";
}
.fa-behance:before {
  content: "\f1b4";
}
.fa-behance-square:before {
  content: "\f1b5";
}
.fa-steam:before {
  content: "\f1b6";
}
.fa-steam-square:before {
  content: "\f1b7";
}
.fa-recycle:before {
  content: "\f1b8";
}
.fa-automobile:before,
.fa-car:before {
  content: "\f1b9";
}
.fa-cab:before,
.fa-taxi:before {
  content: "\f1ba";
}
.fa-tree:before {
  content: "\f1bb";
}
.fa-spotify:before {
  content: "\f1bc";
}
.fa-deviantart:before {
  content: "\f1bd";
}
.fa-soundcloud:before {
  content: "\f1be";
}
.fa-database:before {
  content: "\f1c0";
}
.fa-file-pdf-o:before {
  content: "\f1c1";
}
.fa-file-word-o:before {
  content: "\f1c2";
}
.fa-file-excel-o:before {
  content: "\f1c3";
}
.fa-file-powerpoint-o:before {
  content: "\f1c4";
}
.fa-file-photo-o:before,
.fa-file-picture-o:before,
.fa-file-image-o:before {
  content: "\f1c5";
}
.fa-file-zip-o:before,
.fa-file-archive-o:before {
  content: "\f1c6";
}
.fa-file-sound-o:before,
.fa-file-audio-o:before {
  content: "\f1c7";
}
.fa-file-movie-o:before,
.fa-file-video-o:before {
  content: "\f1c8";
}
.fa-file-code-o:before {
  content: "\f1c9";
}
.fa-vine:before {
  content: "\f1ca";
}
.fa-codepen:before {
  content: "\f1cb";
}
.fa-jsfiddle:before {
  content: "\f1cc";
}
.fa-life-bouy:before,
.fa-life-buoy:before,
.fa-life-saver:before,
.fa-support:before,
.fa-life-ring:before {
  content: "\f1cd";
}
.fa-circle-o-notch:before {
  content: "\f1ce";
}
.fa-ra:before,
.fa-resistance:before,
.fa-rebel:before {
  content: "\f1d0";
}
.fa-ge:before,
.fa-empire:before {
  content: "\f1d1";
}
.fa-git-square:before {
  content: "\f1d2";
}
.fa-git:before {
  content: "\f1d3";
}
.fa-y-combinator-square:before,
.fa-yc-square:before,
.fa-hacker-news:before {
  content: "\f1d4";
}
.fa-tencent-weibo:before {
  content: "\f1d5";
}
.fa-qq:before {
  content: "\f1d6";
}
.fa-wechat:before,
.fa-weixin:before {
  content: "\f1d7";
}
.fa-send:before,
.fa-paper-plane:before {
  content: "\f1d8";
}
.fa-send-o:before,
.fa-paper-plane-o:before {
  content: "\f1d9";
}
.fa-history:before {
  content: "\f1da";
}
.fa-circle-thin:before {
  content: "\f1db";
}
.fa-header:before {
  content: "\f1dc";
}
.fa-paragraph:before {
  content: "\f1dd";
}
.fa-sliders:before {
  content: "\f1de";
}
.fa-share-alt:before {
  content: "\f1e0";
}
.fa-share-alt-square:before {
  content: "\f1e1";
}
.fa-bomb:before {
  content: "\f1e2";
}
.fa-soccer-ball-o:before,
.fa-futbol-o:before {
  content: "\f1e3";
}
.fa-tty:before {
  content: "\f1e4";
}
.fa-binoculars:before {
  content: "\f1e5";
}
.fa-plug:before {
  content: "\f1e6";
}
.fa-slideshare:before {
  content: "\f1e7";
}
.fa-twitch:before {
  content: "\f1e8";
}
.fa-yelp:before {
  content: "\f1e9";
}
.fa-newspaper-o:before {
  content: "\f1ea";
}
.fa-wifi:before {
  content: "\f1eb";
}
.fa-calculator:before {
  content: "\f1ec";
}
.fa-paypal:before {
  content: "\f1ed";
}
.fa-google-wallet:before {
  content: "\f1ee";
}
.fa-cc-visa:before {
  content: "\f1f0";
}
.fa-cc-mastercard:before {
  content: "\f1f1";
}
.fa-cc-discover:before {
  content: "\f1f2";
}
.fa-cc-amex:before {
  content: "\f1f3";
}
.fa-cc-paypal:before {
  content: "\f1f4";
}
.fa-cc-stripe:before {
  content: "\f1f5";
}
.fa-bell-slash:before {
  content: "\f1f6";
}
.fa-bell-slash-o:before {
  content: "\f1f7";
}
.fa-trash:before {
  content: "\f1f8";
}
.fa-copyright:before {
  content: "\f1f9";
}
.fa-at:before {
  content: "\f1fa";
}
.fa-eyedropper:before {
  content: "\f1fb";
}
.fa-paint-brush:before {
  content: "\f1fc";
}
.fa-birthday-cake:before {
  content: "\f1fd";
}
.fa-area-chart:before {
  content: "\f1fe";
}
.fa-pie-chart:before {
  content: "\f200";
}
.fa-line-chart:before {
  content: "\f201";
}
.fa-lastfm:before {
  content: "\f202";
}
.fa-lastfm-square:before {
  content: "\f203";
}
.fa-toggle-off:before {
  content: "\f204";
}
.fa-toggle-on:before {
  content: "\f205";
}
.fa-bicycle:before {
  content: "\f206";
}
.fa-bus:before {
  content: "\f207";
}
.fa-ioxhost:before {
  content: "\f208";
}
.fa-angellist:before {
  content: "\f209";
}
.fa-cc:before {
  content: "\f20a";
}
.fa-shekel:before,
.fa-sheqel:before,
.fa-ils:before {
  content: "\f20b";
}
.fa-meanpath:before {
  content: "\f20c";
}
.fa-buysellads:before {
  content: "\f20d";
}
.fa-connectdevelop:before {
  content: "\f20e";
}
.fa-dashcube:before {
  content: "\f210";
}
.fa-forumbee:before {
  content: "\f211";
}
.fa-leanpub:before {
  content: "\f212";
}
.fa-sellsy:before {
  content: "\f213";
}
.fa-shirtsinbulk:before {
  content: "\f214";
}
.fa-simplybuilt:before {
  content: "\f215";
}
.fa-skyatlas:before {
  content: "\f216";
}
.fa-cart-plus:before {
  content: "\f217";
}
.fa-cart-arrow-down:before {
  content: "\f218";
}
.fa-diamond:before {
  content: "\f219";
}
.fa-ship:before {
  content: "\f21a";
}
.fa-user-secret:before {
  content: "\f21b";
}
.fa-motorcycle:before {
  content: "\f21c";
}
.fa-street-view:before {
  content: "\f21d";
}
.fa-heartbeat:before {
  content: "\f21e";
}
.fa-venus:before {
  content: "\f221";
}
.fa-mars:before {
  content: "\f222";
}
.fa-mercury:before {
  content: "\f223";
}
.fa-intersex:before,
.fa-transgender:before {
  content: "\f224";
}
.fa-transgender-alt:before {
  content: "\f225";
}
.fa-venus-double:before {
  content: "\f226";
}
.fa-mars-double:before {
  content: "\f227";
}
.fa-venus-mars:before {
  content: "\f228";
}
.fa-mars-stroke:before {
  content: "\f229";
}
.fa-mars-stroke-v:before {
  content: "\f22a";
}
.fa-mars-stroke-h:before {
  content: "\f22b";
}
.fa-neuter:before {
  content: "\f22c";
}
.fa-genderless:before {
  content: "\f22d";
}
.fa-facebook-official:before {
  content: "\f230";
}
.fa-pinterest-p:before {
  content: "\f231";
}
.fa-whatsapp:before {
  content: "\f232";
}
.fa-server:before {
  content: "\f233";
}
.fa-user-plus:before {
  content: "\f234";
}
.fa-user-times:before {
  content: "\f235";
}
.fa-hotel:before,
.fa-bed:before {
  content: "\f236";
}
.fa-viacoin:before {
  content: "\f237";
}
.fa-train:before {
  content: "\f238";
}
.fa-subway:before {
  content: "\f239";
}
.fa-medium:before {
  content: "\f23a";
}
.fa-yc:before,
.fa-y-combinator:before {
  content: "\f23b";
}
.fa-optin-monster:before {
  content: "\f23c";
}
.fa-opencart:before {
  content: "\f23d";
}
.fa-expeditedssl:before {
  content: "\f23e";
}
.fa-battery-4:before,
.fa-battery:before,
.fa-battery-full:before {
  content: "\f240";
}
.fa-battery-3:before,
.fa-battery-three-quarters:before {
  content: "\f241";
}
.fa-battery-2:before,
.fa-battery-half:before {
  content: "\f242";
}
.fa-battery-1:before,
.fa-battery-quarter:before {
  content: "\f243";
}
.fa-battery-0:before,
.fa-battery-empty:before {
  content: "\f244";
}
.fa-mouse-pointer:before {
  content: "\f245";
}
.fa-i-cursor:before {
  content: "\f246";
}
.fa-object-group:before {
  content: "\f247";
}
.fa-object-ungroup:before {
  content: "\f248";
}
.fa-sticky-note:before {
  content: "\f249";
}
.fa-sticky-note-o:before {
  content: "\f24a";
}
.fa-cc-jcb:before {
  content: "\f24b";
}
.fa-cc-diners-club:before {
  content: "\f24c";
}
.fa-clone:before {
  content: "\f24d";
}
.fa-balance-scale:before {
  content: "\f24e";
}
.fa-hourglass-o:before {
  content: "\f250";
}
.fa-hourglass-1:before,
.fa-hourglass-start:before {
  content: "\f251";
}
.fa-hourglass-2:before,
.fa-hourglass-half:before {
  content: "\f252";
}
.fa-hourglass-3:before,
.fa-hourglass-end:before {
  content: "\f253";
}
.fa-hourglass:before {
  content: "\f254";
}
.fa-hand-grab-o:before,
.fa-hand-rock-o:before {
  content: "\f255";
}
.fa-hand-stop-o:before,
.fa-hand-paper-o:before {
  content: "\f256";
}
.fa-hand-scissors-o:before {
  content: "\f257";
}
.fa-hand-lizard-o:before {
  content: "\f258";
}
.fa-hand-spock-o:before {
  content: "\f259";
}
.fa-hand-pointer-o:before {
  content: "\f25a";
}
.fa-hand-peace-o:before {
  content: "\f25b";
}
.fa-trademark:before {
  content: "\f25c";
}
.fa-registered:before {
  content: "\f25d";
}
.fa-creative-commons:before {
  content: "\f25e";
}
.fa-gg:before {
  content: "\f260";
}
.fa-gg-circle:before {
  content: "\f261";
}
.fa-tripadvisor:before {
  content: "\f262";
}
.fa-odnoklassniki:before {
  content: "\f263";
}
.fa-odnoklassniki-square:before {
  content: "\f264";
}
.fa-get-pocket:before {
  content: "\f265";
}
.fa-wikipedia-w:before {
  content: "\f266";
}
.fa-safari:before {
  content: "\f267";
}
.fa-chrome:before {
  content: "\f268";
}
.fa-firefox:before {
  content: "\f269";
}
.fa-opera:before {
  content: "\f26a";
}
.fa-internet-explorer:before {
  content: "\f26b";
}
.fa-tv:before,
.fa-television:before {
  content: "\f26c";
}
.fa-contao:before {
  content: "\f26d";
}
.fa-500px:before {
  content: "\f26e";
}
.fa-amazon:before {
  content: "\f270";
}
.fa-calendar-plus-o:before {
  content: "\f271";
}
.fa-calendar-minus-o:before {
  content: "\f272";
}
.fa-calendar-times-o:before {
  content: "\f273";
}
.fa-calendar-check-o:before {
  content: "\f274";
}
.fa-industry:before {
  content: "\f275";
}
.fa-map-pin:before {
  content: "\f276";
}
.fa-map-signs:before {
  content: "\f277";
}
.fa-map-o:before {
  content: "\f278";
}
.fa-map:before {
  content: "\f279";
}
.fa-commenting:before {
  content: "\f27a";
}
.fa-commenting-o:before {
  content: "\f27b";
}
.fa-houzz:before {
  content: "\f27c";
}
.fa-vimeo:before {
  content: "\f27d";
}
.fa-black-tie:before {
  content: "\f27e";
}
.fa-fonticons:before {
  content: "\f280";
}
.fa-reddit-alien:before {
  content: "\f281";
}
.fa-edge:before {
  content: "\f282";
}
.fa-credit-card-alt:before {
  content: "\f283";
}
.fa-codiepie:before {
  content: "\f284";
}
.fa-modx:before {
  content: "\f285";
}
.fa-fort-awesome:before {
  content: "\f286";
}
.fa-usb:before {
  content: "\f287";
}
.fa-product-hunt:before {
  content: "\f288";
}
.fa-mixcloud:before {
  content: "\f289";
}
.fa-scribd:before {
  content: "\f28a";
}
.fa-pause-circle:before {
  content: "\f28b";
}
.fa-pause-circle-o:before {
  content: "\f28c";
}
.fa-stop-circle:before {
  content: "\f28d";
}
.fa-stop-circle-o:before {
  content: "\f28e";
}
.fa-shopping-bag:before {
  content: "\f290";
}
.fa-shopping-basket:before {
  content: "\f291";
}
.fa-hashtag:before {
  content: "\f292";
}
.fa-bluetooth:before {
  content: "\f293";
}
.fa-bluetooth-b:before {
  content: "\f294";
}
.fa-percent:before {
  content: "\f295";
}
.fa-gitlab:before {
  content: "\f296";
}
.fa-wpbeginner:before {
  content: "\f297";
}
.fa-wpforms:before {
  content: "\f298";
}
.fa-envira:before {
  content: "\f299";
}
.fa-universal-access:before {
  content: "\f29a";
}
.fa-wheelchair-alt:before {
  content: "\f29b";
}
.fa-question-circle-o:before {
  content: "\f29c";
}
.fa-blind:before {
  content: "\f29d";
}
.fa-audio-description:before {
  content: "\f29e";
}
.fa-volume-control-phone:before {
  content: "\f2a0";
}
.fa-braille:before {
  content: "\f2a1";
}
.fa-assistive-listening-systems:before {
  content: "\f2a2";
}
.fa-asl-interpreting:before,
.fa-american-sign-language-interpreting:before {
  content: "\f2a3";
}
.fa-deafness:before,
.fa-hard-of-hearing:before,
.fa-deaf:before {
  content: "\f2a4";
}
.fa-glide:before {
  content: "\f2a5";
}
.fa-glide-g:before {
  content: "\f2a6";
}
.fa-signing:before,
.fa-sign-language:before {
  content: "\f2a7";
}
.fa-low-vision:before {
  content: "\f2a8";
}
.fa-viadeo:before {
  content: "\f2a9";
}
.fa-viadeo-square:before {
  content: "\f2aa";
}
.fa-snapchat:before {
  content: "\f2ab";
}
.fa-snapchat-ghost:before {
  content: "\f2ac";
}
.fa-snapchat-square:before {
  content: "\f2ad";
}
.fa-pied-piper:before {
  content: "\f2ae";
}
.fa-first-order:before {
  content: "\f2b0";
}
.fa-yoast:before {
  content: "\f2b1";
}
.fa-themeisle:before {
  content: "\f2b2";
}
.fa-google-plus-circle:before,
.fa-google-plus-official:before {
  content: "\f2b3";
}
.fa-fa:before,
.fa-font-awesome:before {
  content: "\f2b4";
}
.fa-handshake-o:before {
  content: "\f2b5";
}
.fa-envelope-open:before {
  content: "\f2b6";
}
.fa-envelope-open-o:before {
  content: "\f2b7";
}
.fa-linode:before {
  content: "\f2b8";
}
.fa-address-book:before {
  content: "\f2b9";
}
.fa-address-book-o:before {
  content: "\f2ba";
}
.fa-vcard:before,
.fa-address-card:before {
  content: "\f2bb";
}
.fa-vcard-o:before,
.fa-address-card-o:before {
  content: "\f2bc";
}
.fa-user-circle:before {
  content: "\f2bd";
}
.fa-user-circle-o:before {
  content: "\f2be";
}
.fa-user-o:before {
  content: "\f2c0";
}
.fa-id-badge:before {
  content: "\f2c1";
}
.fa-drivers-license:before,
.fa-id-card:before {
  content: "\f2c2";
}
.fa-drivers-license-o:before,
.fa-id-card-o:before {
  content: "\f2c3";
}
.fa-quora:before {
  content: "\f2c4";
}
.fa-free-code-camp:before {
  content: "\f2c5";
}
.fa-telegram:before {
  content: "\f2c6";
}
.fa-thermometer-4:before,
.fa-thermometer:before,
.fa-thermometer-full:before {
  content: "\f2c7";
}
.fa-thermometer-3:before,
.fa-thermometer-three-quarters:before {
  content: "\f2c8";
}
.fa-thermometer-2:before,
.fa-thermometer-half:before {
  content: "\f2c9";
}
.fa-thermometer-1:before,
.fa-thermometer-quarter:before {
  content: "\f2ca";
}
.fa-thermometer-0:before,
.fa-thermometer-empty:before {
  content: "\f2cb";
}
.fa-shower:before {
  content: "\f2cc";
}
.fa-bathtub:before,
.fa-s15:before,
.fa-bath:before {
  content: "\f2cd";
}
.fa-podcast:before {
  content: "\f2ce";
}
.fa-window-maximize:before {
  content: "\f2d0";
}
.fa-window-minimize:before {
  content: "\f2d1";
}
.fa-window-restore:before {
  content: "\f2d2";
}
.fa-times-rectangle:before,
.fa-window-close:before {
  content: "\f2d3";
}
.fa-times-rectangle-o:before,
.fa-window-close-o:before {
  content: "\f2d4";
}
.fa-bandcamp:before {
  content: "\f2d5";
}
.fa-grav:before {
  content: "\f2d6";
}
.fa-etsy:before {
  content: "\f2d7";
}
.fa-imdb:before {
  content: "\f2d8";
}
.fa-ravelry:before {
  content: "\f2d9";
}
.fa-eercast:before {
  content: "\f2da";
}
.fa-microchip:before {
  content: "\f2db";
}
.fa-snowflake-o:before {
  content: "\f2dc";
}
.fa-superpowers:before {
  content: "\f2dd";
}
.fa-wpexplorer:before {
  content: "\f2de";
}
.fa-meetup:before {
  content: "\f2e0";
}
.sr-only {
  position: absolute;
  width: 1px;
  height: 1px;
  padding: 0;
  margin: -1px;
  overflow: hidden;
  clip: rect(0, 0, 0, 0);
  border: 0;
}
.sr-only-focusable:active,
.sr-only-focusable:focus {
  position: static;
  width: auto;
  height: auto;
  margin: 0;
  overflow: visible;
  clip: auto;
}
.sr-only-focusable:active,
.sr-only-focusable:focus {
  position: static;
  width: auto;
  height: auto;
  margin: 0;
  overflow: visible;
  clip: auto;
}
/*!
*
* IPython base
*
*/
.modal.fade .modal-dialog {
  -webkit-transform: translate(0, 0);
  -ms-transform: translate(0, 0);
  -o-transform: translate(0, 0);
  transform: translate(0, 0);
}
code {
  color: #000;
}
pre {
  font-size: inherit;
  line-height: inherit;
}
label {
  font-weight: normal;
}
/* Make the page background atleast 100% the height of the view port */
/* Make the page itself atleast 70% the height of the view port */
.border-box-sizing {
  box-sizing: border-box;
  -moz-box-sizing: border-box;
  -webkit-box-sizing: border-box;
}
.corner-all {
  border-radius: 2px;
}
.no-padding {
  padding: 0px;
}
/* Flexible box model classes */
/* Taken from Alex Russell http://infrequently.org/2009/08/css-3-progress/ */
/* This file is a compatability layer.  It allows the usage of flexible box 
model layouts accross multiple browsers, including older browsers.  The newest,
universal implementation of the flexible box model is used when available (see
`Modern browsers` comments below).  Browsers that are known to implement this 
new spec completely include:

    Firefox 28.0+
    Chrome 29.0+
    Internet Explorer 11+ 
    Opera 17.0+

Browsers not listed, including Safari, are supported via the styling under the
`Old browsers` comments below.
*/
.hbox {
  /* Old browsers */
  display: -webkit-box;
  -webkit-box-orient: horizontal;
  -webkit-box-align: stretch;
  display: -moz-box;
  -moz-box-orient: horizontal;
  -moz-box-align: stretch;
  display: box;
  box-orient: horizontal;
  box-align: stretch;
  /* Modern browsers */
  display: flex;
  flex-direction: row;
  align-items: stretch;
}
.hbox > * {
  /* Old browsers */
  -webkit-box-flex: 0;
  -moz-box-flex: 0;
  box-flex: 0;
  /* Modern browsers */
  flex: none;
}
.vbox {
  /* Old browsers */
  display: -webkit-box;
  -webkit-box-orient: vertical;
  -webkit-box-align: stretch;
  display: -moz-box;
  -moz-box-orient: vertical;
  -moz-box-align: stretch;
  display: box;
  box-orient: vertical;
  box-align: stretch;
  /* Modern browsers */
  display: flex;
  flex-direction: column;
  align-items: stretch;
}
.vbox > * {
  /* Old browsers */
  -webkit-box-flex: 0;
  -moz-box-flex: 0;
  box-flex: 0;
  /* Modern browsers */
  flex: none;
}
.hbox.reverse,
.vbox.reverse,
.reverse {
  /* Old browsers */
  -webkit-box-direction: reverse;
  -moz-box-direction: reverse;
  box-direction: reverse;
  /* Modern browsers */
  flex-direction: row-reverse;
}
.hbox.box-flex0,
.vbox.box-flex0,
.box-flex0 {
  /* Old browsers */
  -webkit-box-flex: 0;
  -moz-box-flex: 0;
  box-flex: 0;
  /* Modern browsers */
  flex: none;
  width: auto;
}
.hbox.box-flex1,
.vbox.box-flex1,
.box-flex1 {
  /* Old browsers */
  -webkit-box-flex: 1;
  -moz-box-flex: 1;
  box-flex: 1;
  /* Modern browsers */
  flex: 1;
}
.hbox.box-flex,
.vbox.box-flex,
.box-flex {
  /* Old browsers */
  /* Old browsers */
  -webkit-box-flex: 1;
  -moz-box-flex: 1;
  box-flex: 1;
  /* Modern browsers */
  flex: 1;
}
.hbox.box-flex2,
.vbox.box-flex2,
.box-flex2 {
  /* Old browsers */
  -webkit-box-flex: 2;
  -moz-box-flex: 2;
  box-flex: 2;
  /* Modern browsers */
  flex: 2;
}
.box-group1 {
  /*  Deprecated */
  -webkit-box-flex-group: 1;
  -moz-box-flex-group: 1;
  box-flex-group: 1;
}
.box-group2 {
  /* Deprecated */
  -webkit-box-flex-group: 2;
  -moz-box-flex-group: 2;
  box-flex-group: 2;
}
.hbox.start,
.vbox.start,
.start {
  /* Old browsers */
  -webkit-box-pack: start;
  -moz-box-pack: start;
  box-pack: start;
  /* Modern browsers */
  justify-content: flex-start;
}
.hbox.end,
.vbox.end,
.end {
  /* Old browsers */
  -webkit-box-pack: end;
  -moz-box-pack: end;
  box-pack: end;
  /* Modern browsers */
  justify-content: flex-end;
}
.hbox.center,
.vbox.center,
.center {
  /* Old browsers */
  -webkit-box-pack: center;
  -moz-box-pack: center;
  box-pack: center;
  /* Modern browsers */
  justify-content: center;
}
.hbox.baseline,
.vbox.baseline,
.baseline {
  /* Old browsers */
  -webkit-box-pack: baseline;
  -moz-box-pack: baseline;
  box-pack: baseline;
  /* Modern browsers */
  justify-content: baseline;
}
.hbox.stretch,
.vbox.stretch,
.stretch {
  /* Old browsers */
  -webkit-box-pack: stretch;
  -moz-box-pack: stretch;
  box-pack: stretch;
  /* Modern browsers */
  justify-content: stretch;
}
.hbox.align-start,
.vbox.align-start,
.align-start {
  /* Old browsers */
  -webkit-box-align: start;
  -moz-box-align: start;
  box-align: start;
  /* Modern browsers */
  align-items: flex-start;
}
.hbox.align-end,
.vbox.align-end,
.align-end {
  /* Old browsers */
  -webkit-box-align: end;
  -moz-box-align: end;
  box-align: end;
  /* Modern browsers */
  align-items: flex-end;
}
.hbox.align-center,
.vbox.align-center,
.align-center {
  /* Old browsers */
  -webkit-box-align: center;
  -moz-box-align: center;
  box-align: center;
  /* Modern browsers */
  align-items: center;
}
.hbox.align-baseline,
.vbox.align-baseline,
.align-baseline {
  /* Old browsers */
  -webkit-box-align: baseline;
  -moz-box-align: baseline;
  box-align: baseline;
  /* Modern browsers */
  align-items: baseline;
}
.hbox.align-stretch,
.vbox.align-stretch,
.align-stretch {
  /* Old browsers */
  -webkit-box-align: stretch;
  -moz-box-align: stretch;
  box-align: stretch;
  /* Modern browsers */
  align-items: stretch;
}
div.error {
  margin: 2em;
  text-align: center;
}
div.error > h1 {
  font-size: 500%;
  line-height: normal;
}
div.error > p {
  font-size: 200%;
  line-height: normal;
}
div.traceback-wrapper {
  text-align: left;
  max-width: 800px;
  margin: auto;
}
div.traceback-wrapper pre.traceback {
  max-height: 600px;
  overflow: auto;
}
/**
 * Primary styles
 *
 * Author: Jupyter Development Team
 */
body {
  background-color: #fff;
  /* This makes sure that the body covers the entire window and needs to
       be in a different element than the display: box in wrapper below */
  position: absolute;
  left: 0px;
  right: 0px;
  top: 0px;
  bottom: 0px;
  overflow: visible;
}
body > #header {
  /* Initially hidden to prevent FLOUC */
  display: none;
  background-color: #fff;
  /* Display over codemirror */
  position: relative;
  z-index: 100;
}
body > #header #header-container {
  display: flex;
  flex-direction: row;
  justify-content: space-between;
  padding: 5px;
  padding-bottom: 5px;
  padding-top: 5px;
  box-sizing: border-box;
  -moz-box-sizing: border-box;
  -webkit-box-sizing: border-box;
}
body > #header .header-bar {
  width: 100%;
  height: 1px;
  background: #e7e7e7;
  margin-bottom: -1px;
}
@media print {
  body > #header {
    display: none !important;
  }
}
#header-spacer {
  width: 100%;
  visibility: hidden;
}
@media print {
  #header-spacer {
    display: none;
  }
}
#ipython_notebook {
  padding-left: 0px;
  padding-top: 1px;
  padding-bottom: 1px;
}
[dir="rtl"] #ipython_notebook {
  margin-right: 10px;
  margin-left: 0;
}
[dir="rtl"] #ipython_notebook.pull-left {
  float: right !important;
  float: right;
}
.flex-spacer {
  flex: 1;
}
#noscript {
  width: auto;
  padding-top: 16px;
  padding-bottom: 16px;
  text-align: center;
  font-size: 22px;
  color: red;
  font-weight: bold;
}
#ipython_notebook img {
  height: 28px;
}
#site {
  width: 100%;
  display: none;
  box-sizing: border-box;
  -moz-box-sizing: border-box;
  -webkit-box-sizing: border-box;
  overflow: auto;
}
@media print {
  #site {
    height: auto !important;
  }
}
/* Smaller buttons */
.ui-button .ui-button-text {
  padding: 0.2em 0.8em;
  font-size: 77%;
}
input.ui-button {
  padding: 0.3em 0.9em;
}
span#kernel_logo_widget {
  margin: 0 10px;
}
span#login_widget {
  float: right;
}
[dir="rtl"] span#login_widget {
  float: left;
}
span#login_widget > .button,
#logout {
  color: #333;
  background-color: #fff;
  border-color: #ccc;
}
span#login_widget > .button:focus,
#logout:focus,
span#login_widget > .button.focus,
#logout.focus {
  color: #333;
  background-color: #e6e6e6;
  border-color: #8c8c8c;
}
span#login_widget > .button:hover,
#logout:hover {
  color: #333;
  background-color: #e6e6e6;
  border-color: #adadad;
}
span#login_widget > .button:active,
#logout:active,
span#login_widget > .button.active,
#logout.active,
.open > .dropdown-togglespan#login_widget > .button,
.open > .dropdown-toggle#logout {
  color: #333;
  background-color: #e6e6e6;
  border-color: #adadad;
}
span#login_widget > .button:active:hover,
#logout:active:hover,
span#login_widget > .button.active:hover,
#logout.active:hover,
.open > .dropdown-togglespan#login_widget > .button:hover,
.open > .dropdown-toggle#logout:hover,
span#login_widget > .button:active:focus,
#logout:active:focus,
span#login_widget > .button.active:focus,
#logout.active:focus,
.open > .dropdown-togglespan#login_widget > .button:focus,
.open > .dropdown-toggle#logout:focus,
span#login_widget > .button:active.focus,
#logout:active.focus,
span#login_widget > .button.active.focus,
#logout.active.focus,
.open > .dropdown-togglespan#login_widget > .button.focus,
.open > .dropdown-toggle#logout.focus {
  color: #333;
  background-color: #d4d4d4;
  border-color: #8c8c8c;
}
span#login_widget > .button:active,
#logout:active,
span#login_widget > .button.active,
#logout.active,
.open > .dropdown-togglespan#login_widget > .button,
.open > .dropdown-toggle#logout {
  background-image: none;
}
span#login_widget > .button.disabled:hover,
#logout.disabled:hover,
span#login_widget > .button[disabled]:hover,
#logout[disabled]:hover,
fieldset[disabled] span#login_widget > .button:hover,
fieldset[disabled] #logout:hover,
span#login_widget > .button.disabled:focus,
#logout.disabled:focus,
span#login_widget > .button[disabled]:focus,
#logout[disabled]:focus,
fieldset[disabled] span#login_widget > .button:focus,
fieldset[disabled] #logout:focus,
span#login_widget > .button.disabled.focus,
#logout.disabled.focus,
span#login_widget > .button[disabled].focus,
#logout[disabled].focus,
fieldset[disabled] span#login_widget > .button.focus,
fieldset[disabled] #logout.focus {
  background-color: #fff;
  border-color: #ccc;
}
span#login_widget > .button .badge,
#logout .badge {
  color: #fff;
  background-color: #333;
}
.nav-header {
  text-transform: none;
}
#header > span {
  margin-top: 10px;
}
.modal_stretch .modal-dialog {
  /* Old browsers */
  display: -webkit-box;
  -webkit-box-orient: vertical;
  -webkit-box-align: stretch;
  display: -moz-box;
  -moz-box-orient: vertical;
  -moz-box-align: stretch;
  display: box;
  box-orient: vertical;
  box-align: stretch;
  /* Modern browsers */
  display: flex;
  flex-direction: column;
  align-items: stretch;
  min-height: 80vh;
}
.modal_stretch .modal-dialog .modal-body {
  max-height: calc(100vh - 200px);
  overflow: auto;
  flex: 1;
}
.modal-header {
  cursor: move;
}
@media (min-width: 768px) {
  .modal .modal-dialog {
    width: 700px;
  }
}
@media (min-width: 768px) {
  select.form-control {
    margin-left: 12px;
    margin-right: 12px;
  }
}
/*!
*
* IPython auth
*
*/
.center-nav {
  display: inline-block;
  margin-bottom: -4px;
}
[dir="rtl"] .center-nav form.pull-left {
  float: right !important;
  float: right;
}
[dir="rtl"] .center-nav .navbar-text {
  float: right;
}
[dir="rtl"] .navbar-inner {
  text-align: right;
}
[dir="rtl"] div.text-left {
  text-align: right;
}
/*!
*
* IPython tree view
*
*/
/* We need an invisible input field on top of the sentense*/
/* "Drag file onto the list ..." */
.alternate_upload {
  background-color: none;
  display: inline;
}
.alternate_upload.form {
  padding: 0;
  margin: 0;
}
.alternate_upload input.fileinput {
  position: absolute;
  display: block;
  width: 100%;
  height: 100%;
  overflow: hidden;
  cursor: pointer;
  opacity: 0;
  z-index: 2;
}
.alternate_upload .btn-xs > input.fileinput {
  margin: -1px -5px;
}
.alternate_upload .btn-upload {
  position: relative;
  height: 22px;
}
::-webkit-file-upload-button {
  cursor: pointer;
}
/**
 * Primary styles
 *
 * Author: Jupyter Development Team
 */
ul#tabs {
  margin-bottom: 4px;
}
ul#tabs a {
  padding-top: 6px;
  padding-bottom: 4px;
}
[dir="rtl"] ul#tabs.nav-tabs > li {
  float: right;
}
[dir="rtl"] ul#tabs.nav.nav-tabs {
  padding-right: 0;
}
ul.breadcrumb a:focus,
ul.breadcrumb a:hover {
  text-decoration: none;
}
ul.breadcrumb i.icon-home {
  font-size: 16px;
  margin-right: 4px;
}
ul.breadcrumb span {
  color: #5e5e5e;
}
.list_toolbar {
  padding: 4px 0 4px 0;
  vertical-align: middle;
}
.list_toolbar .tree-buttons {
  padding-top: 1px;
}
[dir="rtl"] .list_toolbar .tree-buttons .pull-right {
  float: left !important;
  float: left;
}
[dir="rtl"] .list_toolbar .col-sm-4,
[dir="rtl"] .list_toolbar .col-sm-8 {
  float: right;
}
.dynamic-buttons {
  padding-top: 3px;
  display: inline-block;
}
.list_toolbar [class*="span"] {
  min-height: 24px;
}
.list_header {
  font-weight: bold;
  background-color: #EEE;
}
.list_placeholder {
  font-weight: bold;
  padding-top: 4px;
  padding-bottom: 4px;
  padding-left: 7px;
  padding-right: 7px;
}
.list_container {
  margin-top: 4px;
  margin-bottom: 20px;
  border: 1px solid #ddd;
  border-radius: 2px;
}
.list_container > div {
  border-bottom: 1px solid #ddd;
}
.list_container > div:hover .list-item {
  background-color: red;
}
.list_container > div:last-child {
  border: none;
}
.list_item:hover .list_item {
  background-color: #ddd;
}
.list_item a {
  text-decoration: none;
}
.list_item:hover {
  background-color: #fafafa;
}
.list_header > div,
.list_item > div {
  padding-top: 4px;
  padding-bottom: 4px;
  padding-left: 7px;
  padding-right: 7px;
  line-height: 22px;
}
.list_header > div input,
.list_item > div input {
  margin-right: 7px;
  margin-left: 14px;
  vertical-align: text-bottom;
  line-height: 22px;
  position: relative;
  top: -1px;
}
.list_header > div .item_link,
.list_item > div .item_link {
  margin-left: -1px;
  vertical-align: baseline;
  line-height: 22px;
}
[dir="rtl"] .list_item > div input {
  margin-right: 0;
}
.new-file input[type=checkbox] {
  visibility: hidden;
}
.item_name {
  line-height: 22px;
  height: 24px;
}
.item_icon {
  font-size: 14px;
  color: #5e5e5e;
  margin-right: 7px;
  margin-left: 7px;
  line-height: 22px;
  vertical-align: baseline;
}
.item_modified {
  margin-right: 7px;
  margin-left: 7px;
}
[dir="rtl"] .item_modified.pull-right {
  float: left !important;
  float: left;
}
.item_buttons {
  line-height: 1em;
  margin-left: -5px;
}
.item_buttons .btn,
.item_buttons .btn-group,
.item_buttons .input-group {
  float: left;
}
.item_buttons > .btn,
.item_buttons > .btn-group,
.item_buttons > .input-group {
  margin-left: 5px;
}
.item_buttons .btn {
  min-width: 13ex;
}
.item_buttons .running-indicator {
  padding-top: 4px;
  color: #5cb85c;
}
.item_buttons .kernel-name {
  padding-top: 4px;
  color: #5bc0de;
  margin-right: 7px;
  float: left;
}
[dir="rtl"] .item_buttons.pull-right {
  float: left !important;
  float: left;
}
[dir="rtl"] .item_buttons .kernel-name {
  margin-left: 7px;
  float: right;
}
.toolbar_info {
  height: 24px;
  line-height: 24px;
}
.list_item input:not([type=checkbox]) {
  padding-top: 3px;
  padding-bottom: 3px;
  height: 22px;
  line-height: 14px;
  margin: 0px;
}
.highlight_text {
  color: blue;
}
#project_name {
  display: inline-block;
  padding-left: 7px;
  margin-left: -2px;
}
#project_name > .breadcrumb {
  padding: 0px;
  margin-bottom: 0px;
  background-color: transparent;
  font-weight: bold;
}
.sort_button {
  display: inline-block;
  padding-left: 7px;
}
[dir="rtl"] .sort_button.pull-right {
  float: left !important;
  float: left;
}
#tree-selector {
  padding-right: 0px;
}
#button-select-all {
  min-width: 50px;
}
[dir="rtl"] #button-select-all.btn {
  float: right ;
}
#select-all {
  margin-left: 7px;
  margin-right: 2px;
  margin-top: 2px;
  height: 16px;
}
[dir="rtl"] #select-all.pull-left {
  float: right !important;
  float: right;
}
.menu_icon {
  margin-right: 2px;
}
.tab-content .row {
  margin-left: 0px;
  margin-right: 0px;
}
.folder_icon:before {
  display: inline-block;
  font: normal normal normal 14px/1 FontAwesome;
  font-size: inherit;
  text-rendering: auto;
  -webkit-font-smoothing: antialiased;
  -moz-osx-font-smoothing: grayscale;
  content: "\f114";
}
.folder_icon:before.fa-pull-left {
  margin-right: .3em;
}
.folder_icon:before.fa-pull-right {
  margin-left: .3em;
}
.folder_icon:before.pull-left {
  margin-right: .3em;
}
.folder_icon:before.pull-right {
  margin-left: .3em;
}
.notebook_icon:before {
  display: inline-block;
  font: normal normal normal 14px/1 FontAwesome;
  font-size: inherit;
  text-rendering: auto;
  -webkit-font-smoothing: antialiased;
  -moz-osx-font-smoothing: grayscale;
  content: "\f02d";
  position: relative;
  top: -1px;
}
.notebook_icon:before.fa-pull-left {
  margin-right: .3em;
}
.notebook_icon:before.fa-pull-right {
  margin-left: .3em;
}
.notebook_icon:before.pull-left {
  margin-right: .3em;
}
.notebook_icon:before.pull-right {
  margin-left: .3em;
}
.running_notebook_icon:before {
  display: inline-block;
  font: normal normal normal 14px/1 FontAwesome;
  font-size: inherit;
  text-rendering: auto;
  -webkit-font-smoothing: antialiased;
  -moz-osx-font-smoothing: grayscale;
  content: "\f02d";
  position: relative;
  top: -1px;
  color: #5cb85c;
}
.running_notebook_icon:before.fa-pull-left {
  margin-right: .3em;
}
.running_notebook_icon:before.fa-pull-right {
  margin-left: .3em;
}
.running_notebook_icon:before.pull-left {
  margin-right: .3em;
}
.running_notebook_icon:before.pull-right {
  margin-left: .3em;
}
.file_icon:before {
  display: inline-block;
  font: normal normal normal 14px/1 FontAwesome;
  font-size: inherit;
  text-rendering: auto;
  -webkit-font-smoothing: antialiased;
  -moz-osx-font-smoothing: grayscale;
  content: "\f016";
  position: relative;
  top: -2px;
}
.file_icon:before.fa-pull-left {
  margin-right: .3em;
}
.file_icon:before.fa-pull-right {
  margin-left: .3em;
}
.file_icon:before.pull-left {
  margin-right: .3em;
}
.file_icon:before.pull-right {
  margin-left: .3em;
}
#notebook_toolbar .pull-right {
  padding-top: 0px;
  margin-right: -1px;
}
ul#new-menu {
  left: auto;
  right: 0;
}
#new-menu .dropdown-header {
  font-size: 10px;
  border-bottom: 1px solid #e5e5e5;
  padding: 0 0 3px;
  margin: -3px 20px 0;
}
.kernel-menu-icon {
  padding-right: 12px;
  width: 24px;
  content: "\f096";
}
.kernel-menu-icon:before {
  content: "\f096";
}
.kernel-menu-icon-current:before {
  content: "\f00c";
}
#tab_content {
  padding-top: 20px;
}
#running .panel-group .panel {
  margin-top: 3px;
  margin-bottom: 1em;
}
#running .panel-group .panel .panel-heading {
  background-color: #EEE;
  padding-top: 4px;
  padding-bottom: 4px;
  padding-left: 7px;
  padding-right: 7px;
  line-height: 22px;
}
#running .panel-group .panel .panel-heading a:focus,
#running .panel-group .panel .panel-heading a:hover {
  text-decoration: none;
}
#running .panel-group .panel .panel-body {
  padding: 0px;
}
#running .panel-group .panel .panel-body .list_container {
  margin-top: 0px;
  margin-bottom: 0px;
  border: 0px;
  border-radius: 0px;
}
#running .panel-group .panel .panel-body .list_container .list_item {
  border-bottom: 1px solid #ddd;
}
#running .panel-group .panel .panel-body .list_container .list_item:last-child {
  border-bottom: 0px;
}
.delete-button {
  display: none;
}
.duplicate-button {
  display: none;
}
.rename-button {
  display: none;
}
.move-button {
  display: none;
}
.download-button {
  display: none;
}
.shutdown-button {
  display: none;
}
.dynamic-instructions {
  display: inline-block;
  padding-top: 4px;
}
/*!
*
* IPython text editor webapp
*
*/
.selected-keymap i.fa {
  padding: 0px 5px;
}
.selected-keymap i.fa:before {
  content: "\f00c";
}
#mode-menu {
  overflow: auto;
  max-height: 20em;
}
.edit_app #header {
  -webkit-box-shadow: 0px 0px 12px 1px rgba(87, 87, 87, 0.2);
  box-shadow: 0px 0px 12px 1px rgba(87, 87, 87, 0.2);
}
.edit_app #menubar .navbar {
  /* Use a negative 1 bottom margin, so the border overlaps the border of the
    header */
  margin-bottom: -1px;
}
.dirty-indicator {
  display: inline-block;
  font: normal normal normal 14px/1 FontAwesome;
  font-size: inherit;
  text-rendering: auto;
  -webkit-font-smoothing: antialiased;
  -moz-osx-font-smoothing: grayscale;
  width: 20px;
}
.dirty-indicator.fa-pull-left {
  margin-right: .3em;
}
.dirty-indicator.fa-pull-right {
  margin-left: .3em;
}
.dirty-indicator.pull-left {
  margin-right: .3em;
}
.dirty-indicator.pull-right {
  margin-left: .3em;
}
.dirty-indicator-dirty {
  display: inline-block;
  font: normal normal normal 14px/1 FontAwesome;
  font-size: inherit;
  text-rendering: auto;
  -webkit-font-smoothing: antialiased;
  -moz-osx-font-smoothing: grayscale;
  width: 20px;
}
.dirty-indicator-dirty.fa-pull-left {
  margin-right: .3em;
}
.dirty-indicator-dirty.fa-pull-right {
  margin-left: .3em;
}
.dirty-indicator-dirty.pull-left {
  margin-right: .3em;
}
.dirty-indicator-dirty.pull-right {
  margin-left: .3em;
}
.dirty-indicator-clean {
  display: inline-block;
  font: normal normal normal 14px/1 FontAwesome;
  font-size: inherit;
  text-rendering: auto;
  -webkit-font-smoothing: antialiased;
  -moz-osx-font-smoothing: grayscale;
  width: 20px;
}
.dirty-indicator-clean.fa-pull-left {
  margin-right: .3em;
}
.dirty-indicator-clean.fa-pull-right {
  margin-left: .3em;
}
.dirty-indicator-clean.pull-left {
  margin-right: .3em;
}
.dirty-indicator-clean.pull-right {
  margin-left: .3em;
}
.dirty-indicator-clean:before {
  display: inline-block;
  font: normal normal normal 14px/1 FontAwesome;
  font-size: inherit;
  text-rendering: auto;
  -webkit-font-smoothing: antialiased;
  -moz-osx-font-smoothing: grayscale;
  content: "\f00c";
}
.dirty-indicator-clean:before.fa-pull-left {
  margin-right: .3em;
}
.dirty-indicator-clean:before.fa-pull-right {
  margin-left: .3em;
}
.dirty-indicator-clean:before.pull-left {
  margin-right: .3em;
}
.dirty-indicator-clean:before.pull-right {
  margin-left: .3em;
}
#filename {
  font-size: 16pt;
  display: table;
  padding: 0px 5px;
}
#current-mode {
  padding-left: 5px;
  padding-right: 5px;
}
#texteditor-backdrop {
  padding-top: 20px;
  padding-bottom: 20px;
}
@media not print {
  #texteditor-backdrop {
    background-color: #EEE;
  }
}
@media print {
  #texteditor-backdrop #texteditor-container .CodeMirror-gutter,
  #texteditor-backdrop #texteditor-container .CodeMirror-gutters {
    background-color: #fff;
  }
}
@media not print {
  #texteditor-backdrop #texteditor-container .CodeMirror-gutter,
  #texteditor-backdrop #texteditor-container .CodeMirror-gutters {
    background-color: #fff;
  }
}
@media not print {
  #texteditor-backdrop #texteditor-container {
    padding: 0px;
    background-color: #fff;
    -webkit-box-shadow: 0px 0px 12px 1px rgba(87, 87, 87, 0.2);
    box-shadow: 0px 0px 12px 1px rgba(87, 87, 87, 0.2);
  }
}
.CodeMirror-dialog {
  background-color: #fff;
}
/*!
*
* IPython notebook
*
*/
/* CSS font colors for translated ANSI escape sequences */
/* The color values are a mix of
   http://www.xcolors.net/dl/baskerville-ivorylight and
   http://www.xcolors.net/dl/euphrasia */
.ansi-black-fg {
  color: #3E424D;
}
.ansi-black-bg {
  background-color: #3E424D;
}
.ansi-black-intense-fg {
  color: #282C36;
}
.ansi-black-intense-bg {
  background-color: #282C36;
}
.ansi-red-fg {
  color: #E75C58;
}
.ansi-red-bg {
  background-color: #E75C58;
}
.ansi-red-intense-fg {
  color: #B22B31;
}
.ansi-red-intense-bg {
  background-color: #B22B31;
}
.ansi-green-fg {
  color: #00A250;
}
.ansi-green-bg {
  background-color: #00A250;
}
.ansi-green-intense-fg {
  color: #007427;
}
.ansi-green-intense-bg {
  background-color: #007427;
}
.ansi-yellow-fg {
  color: #DDB62B;
}
.ansi-yellow-bg {
  background-color: #DDB62B;
}
.ansi-yellow-intense-fg {
  color: #B27D12;
}
.ansi-yellow-intense-bg {
  background-color: #B27D12;
}
.ansi-blue-fg {
  color: #208FFB;
}
.ansi-blue-bg {
  background-color: #208FFB;
}
.ansi-blue-intense-fg {
  color: #0065CA;
}
.ansi-blue-intense-bg {
  background-color: #0065CA;
}
.ansi-magenta-fg {
  color: #D160C4;
}
.ansi-magenta-bg {
  background-color: #D160C4;
}
.ansi-magenta-intense-fg {
  color: #A03196;
}
.ansi-magenta-intense-bg {
  background-color: #A03196;
}
.ansi-cyan-fg {
  color: #60C6C8;
}
.ansi-cyan-bg {
  background-color: #60C6C8;
}
.ansi-cyan-intense-fg {
  color: #258F8F;
}
.ansi-cyan-intense-bg {
  background-color: #258F8F;
}
.ansi-white-fg {
  color: #C5C1B4;
}
.ansi-white-bg {
  background-color: #C5C1B4;
}
.ansi-white-intense-fg {
  color: #A1A6B2;
}
.ansi-white-intense-bg {
  background-color: #A1A6B2;
}
.ansi-default-inverse-fg {
  color: #FFFFFF;
}
.ansi-default-inverse-bg {
  background-color: #000000;
}
.ansi-bold {
  font-weight: bold;
}
.ansi-underline {
  text-decoration: underline;
}
/* The following styles are deprecated an will be removed in a future version */
.ansibold {
  font-weight: bold;
}
.ansi-inverse {
  outline: 0.5px dotted;
}
/* use dark versions for foreground, to improve visibility */
.ansiblack {
  color: black;
}
.ansired {
  color: darkred;
}
.ansigreen {
  color: darkgreen;
}
.ansiyellow {
  color: #c4a000;
}
.ansiblue {
  color: darkblue;
}
.ansipurple {
  color: darkviolet;
}
.ansicyan {
  color: steelblue;
}
.ansigray {
  color: gray;
}
/* and light for background, for the same reason */
.ansibgblack {
  background-color: black;
}
.ansibgred {
  background-color: red;
}
.ansibggreen {
  background-color: green;
}
.ansibgyellow {
  background-color: yellow;
}
.ansibgblue {
  background-color: blue;
}
.ansibgpurple {
  background-color: magenta;
}
.ansibgcyan {
  background-color: cyan;
}
.ansibggray {
  background-color: gray;
}
div.cell {
  /* Old browsers */
  display: -webkit-box;
  -webkit-box-orient: vertical;
  -webkit-box-align: stretch;
  display: -moz-box;
  -moz-box-orient: vertical;
  -moz-box-align: stretch;
  display: box;
  box-orient: vertical;
  box-align: stretch;
  /* Modern browsers */
  display: flex;
  flex-direction: column;
  align-items: stretch;
  border-radius: 2px;
  box-sizing: border-box;
  -moz-box-sizing: border-box;
  -webkit-box-sizing: border-box;
  border-width: 1px;
  border-style: solid;
  border-color: transparent;
  width: 100%;
  padding: 5px;
  /* This acts as a spacer between cells, that is outside the border */
  margin: 0px;
  outline: none;
  position: relative;
  overflow: visible;
}
div.cell:before {
  position: absolute;
  display: block;
  top: -1px;
  left: -1px;
  width: 5px;
  height: calc(100% +  2px);
  content: '';
  background: transparent;
}
div.cell.jupyter-soft-selected {
  border-left-color: #E3F2FD;
  border-left-width: 1px;
  padding-left: 5px;
  border-right-color: #E3F2FD;
  border-right-width: 1px;
  background: #E3F2FD;
}
@media print {
  div.cell.jupyter-soft-selected {
    border-color: transparent;
  }
}
div.cell.selected,
div.cell.selected.jupyter-soft-selected {
  border-color: #ababab;
}
div.cell.selected:before,
div.cell.selected.jupyter-soft-selected:before {
  position: absolute;
  display: block;
  top: -1px;
  left: -1px;
  width: 5px;
  height: calc(100% +  2px);
  content: '';
  background: #42A5F5;
}
@media print {
  div.cell.selected,
  div.cell.selected.jupyter-soft-selected {
    border-color: transparent;
  }
}
.edit_mode div.cell.selected {
  border-color: #66BB6A;
}
.edit_mode div.cell.selected:before {
  position: absolute;
  display: block;
  top: -1px;
  left: -1px;
  width: 5px;
  height: calc(100% +  2px);
  content: '';
  background: #66BB6A;
}
@media print {
  .edit_mode div.cell.selected {
    border-color: transparent;
  }
}
.prompt {
  /* This needs to be wide enough for 3 digit prompt numbers: In[100]: */
  min-width: 14ex;
  /* This padding is tuned to match the padding on the CodeMirror editor. */
  padding: 0.4em;
  margin: 0px;
  font-family: monospace;
  text-align: right;
  /* This has to match that of the the CodeMirror class line-height below */
  line-height: 1.21429em;
  /* Don't highlight prompt number selection */
  -webkit-touch-callout: none;
  -webkit-user-select: none;
  -khtml-user-select: none;
  -moz-user-select: none;
  -ms-user-select: none;
  user-select: none;
  /* Use default cursor */
  cursor: default;
}
@media (max-width: 540px) {
  .prompt {
    text-align: left;
  }
}
div.inner_cell {
  min-width: 0;
  /* Old browsers */
  display: -webkit-box;
  -webkit-box-orient: vertical;
  -webkit-box-align: stretch;
  display: -moz-box;
  -moz-box-orient: vertical;
  -moz-box-align: stretch;
  display: box;
  box-orient: vertical;
  box-align: stretch;
  /* Modern browsers */
  display: flex;
  flex-direction: column;
  align-items: stretch;
  /* Old browsers */
  -webkit-box-flex: 1;
  -moz-box-flex: 1;
  box-flex: 1;
  /* Modern browsers */
  flex: 1;
}
/* input_area and input_prompt must match in top border and margin for alignment */
div.input_area {
  border: 1px solid #cfcfcf;
  border-radius: 2px;
  background: #f7f7f7;
  line-height: 1.21429em;
}
/* This is needed so that empty prompt areas can collapse to zero height when there
   is no content in the output_subarea and the prompt. The main purpose of this is
   to make sure that empty JavaScript output_subareas have no height. */
div.prompt:empty {
  padding-top: 0;
  padding-bottom: 0;
}
div.unrecognized_cell {
  padding: 5px 5px 5px 0px;
  /* Old browsers */
  display: -webkit-box;
  -webkit-box-orient: horizontal;
  -webkit-box-align: stretch;
  display: -moz-box;
  -moz-box-orient: horizontal;
  -moz-box-align: stretch;
  display: box;
  box-orient: horizontal;
  box-align: stretch;
  /* Modern browsers */
  display: flex;
  flex-direction: row;
  align-items: stretch;
}
div.unrecognized_cell .inner_cell {
  border-radius: 2px;
  padding: 5px;
  font-weight: bold;
  color: red;
  border: 1px solid #cfcfcf;
  background: #eaeaea;
}
div.unrecognized_cell .inner_cell a {
  color: inherit;
  text-decoration: none;
}
div.unrecognized_cell .inner_cell a:hover {
  color: inherit;
  text-decoration: none;
}
@media (max-width: 540px) {
  div.unrecognized_cell > div.prompt {
    display: none;
  }
}
div.code_cell {
  /* avoid page breaking on code cells when printing */
}
@media print {
  div.code_cell {
    page-break-inside: avoid;
  }
}
/* any special styling for code cells that are currently running goes here */
div.input {
  page-break-inside: avoid;
  /* Old browsers */
  display: -webkit-box;
  -webkit-box-orient: horizontal;
  -webkit-box-align: stretch;
  display: -moz-box;
  -moz-box-orient: horizontal;
  -moz-box-align: stretch;
  display: box;
  box-orient: horizontal;
  box-align: stretch;
  /* Modern browsers */
  display: flex;
  flex-direction: row;
  align-items: stretch;
}
@media (max-width: 540px) {
  div.input {
    /* Old browsers */
    display: -webkit-box;
    -webkit-box-orient: vertical;
    -webkit-box-align: stretch;
    display: -moz-box;
    -moz-box-orient: vertical;
    -moz-box-align: stretch;
    display: box;
    box-orient: vertical;
    box-align: stretch;
    /* Modern browsers */
    display: flex;
    flex-direction: column;
    align-items: stretch;
  }
}
/* input_area and input_prompt must match in top border and margin for alignment */
div.input_prompt {
  color: #303F9F;
  border-top: 1px solid transparent;
}
div.input_area > div.highlight {
  margin: 0.4em;
  border: none;
  padding: 0px;
  background-color: transparent;
}
div.input_area > div.highlight > pre {
  margin: 0px;
  border: none;
  padding: 0px;
  background-color: transparent;
}
/* The following gets added to the <head> if it is detected that the user has a
 * monospace font with inconsistent normal/bold/italic height.  See
 * notebookmain.js.  Such fonts will have keywords vertically offset with
 * respect to the rest of the text.  The user should select a better font.
 * See: https://github.com/ipython/ipython/issues/1503
 *
 * .CodeMirror span {
 *      vertical-align: bottom;
 * }
 */
.CodeMirror {
  line-height: 1.21429em;
  /* Changed from 1em to our global default */
  font-size: 14px;
  height: auto;
  /* Changed to auto to autogrow */
  background: none;
  /* Changed from white to allow our bg to show through */
}
.CodeMirror-scroll {
  /*  The CodeMirror docs are a bit fuzzy on if overflow-y should be hidden or visible.*/
  /*  We have found that if it is visible, vertical scrollbars appear with font size changes.*/
  overflow-y: hidden;
  overflow-x: auto;
}
.CodeMirror-lines {
  /* In CM2, this used to be 0.4em, but in CM3 it went to 4px. We need the em value because */
  /* we have set a different line-height and want this to scale with that. */
  /* Note that this should set vertical padding only, since CodeMirror assumes
       that horizontal padding will be set on CodeMirror pre */
  padding: 0.4em 0;
}
.CodeMirror-linenumber {
  padding: 0 8px 0 4px;
}
.CodeMirror-gutters {
  border-bottom-left-radius: 2px;
  border-top-left-radius: 2px;
}
.CodeMirror pre {
  /* In CM3 this went to 4px from 0 in CM2. This sets horizontal padding only,
    use .CodeMirror-lines for vertical */
  padding: 0 0.4em;
  border: 0;
  border-radius: 0;
}
.CodeMirror-cursor {
  border-left: 1.4px solid black;
}
@media screen and (min-width: 2138px) and (max-width: 4319px) {
  .CodeMirror-cursor {
    border-left: 2px solid black;
  }
}
@media screen and (min-width: 4320px) {
  .CodeMirror-cursor {
    border-left: 4px solid black;
  }
}
/*

Original style from softwaremaniacs.org (c) Ivan Sagalaev <Maniac@SoftwareManiacs.Org>
Adapted from GitHub theme

*/
.highlight-base {
  color: #000;
}
.highlight-variable {
  color: #000;
}
.highlight-variable-2 {
  color: #1a1a1a;
}
.highlight-variable-3 {
  color: #333333;
}
.highlight-string {
  color: #BA2121;
}
.highlight-comment {
  color: #408080;
  font-style: italic;
}
.highlight-number {
  color: #080;
}
.highlight-atom {
  color: #88F;
}
.highlight-keyword {
  color: #008000;
  font-weight: bold;
}
.highlight-builtin {
  color: #008000;
}
.highlight-error {
  color: #f00;
}
.highlight-operator {
  color: #AA22FF;
  font-weight: bold;
}
.highlight-meta {
  color: #AA22FF;
}
/* previously not defined, copying from default codemirror */
.highlight-def {
  color: #00f;
}
.highlight-string-2 {
  color: #f50;
}
.highlight-qualifier {
  color: #555;
}
.highlight-bracket {
  color: #997;
}
.highlight-tag {
  color: #170;
}
.highlight-attribute {
  color: #00c;
}
.highlight-header {
  color: blue;
}
.highlight-quote {
  color: #090;
}
.highlight-link {
  color: #00c;
}
/* apply the same style to codemirror */
.cm-s-ipython span.cm-keyword {
  color: #008000;
  font-weight: bold;
}
.cm-s-ipython span.cm-atom {
  color: #88F;
}
.cm-s-ipython span.cm-number {
  color: #080;
}
.cm-s-ipython span.cm-def {
  color: #00f;
}
.cm-s-ipython span.cm-variable {
  color: #000;
}
.cm-s-ipython span.cm-operator {
  color: #AA22FF;
  font-weight: bold;
}
.cm-s-ipython span.cm-variable-2 {
  color: #1a1a1a;
}
.cm-s-ipython span.cm-variable-3 {
  color: #333333;
}
.cm-s-ipython span.cm-comment {
  color: #408080;
  font-style: italic;
}
.cm-s-ipython span.cm-string {
  color: #BA2121;
}
.cm-s-ipython span.cm-string-2 {
  color: #f50;
}
.cm-s-ipython span.cm-meta {
  color: #AA22FF;
}
.cm-s-ipython span.cm-qualifier {
  color: #555;
}
.cm-s-ipython span.cm-builtin {
  color: #008000;
}
.cm-s-ipython span.cm-bracket {
  color: #997;
}
.cm-s-ipython span.cm-tag {
  color: #170;
}
.cm-s-ipython span.cm-attribute {
  color: #00c;
}
.cm-s-ipython span.cm-header {
  color: blue;
}
.cm-s-ipython span.cm-quote {
  color: #090;
}
.cm-s-ipython span.cm-link {
  color: #00c;
}
.cm-s-ipython span.cm-error {
  color: #f00;
}
.cm-s-ipython span.cm-tab {
  background: url(data:image/png;base64,iVBORw0KGgoAAAANSUhEUgAAADAAAAAMCAYAAAAkuj5RAAAAAXNSR0IArs4c6QAAAGFJREFUSMft1LsRQFAQheHPowAKoACx3IgEKtaEHujDjORSgWTH/ZOdnZOcM/sgk/kFFWY0qV8foQwS4MKBCS3qR6ixBJvElOobYAtivseIE120FaowJPN75GMu8j/LfMwNjh4HUpwg4LUAAAAASUVORK5CYII=);
  background-position: right;
  background-repeat: no-repeat;
}
div.output_wrapper {
  /* this position must be relative to enable descendents to be absolute within it */
  position: relative;
  /* Old browsers */
  display: -webkit-box;
  -webkit-box-orient: vertical;
  -webkit-box-align: stretch;
  display: -moz-box;
  -moz-box-orient: vertical;
  -moz-box-align: stretch;
  display: box;
  box-orient: vertical;
  box-align: stretch;
  /* Modern browsers */
  display: flex;
  flex-direction: column;
  align-items: stretch;
  z-index: 1;
}
/* class for the output area when it should be height-limited */
div.output_scroll {
  /* ideally, this would be max-height, but FF barfs all over that */
  height: 24em;
  /* FF needs this *and the wrapper* to specify full width, or it will shrinkwrap */
  width: 100%;
  overflow: auto;
  border-radius: 2px;
  -webkit-box-shadow: inset 0 2px 8px rgba(0, 0, 0, 0.8);
  box-shadow: inset 0 2px 8px rgba(0, 0, 0, 0.8);
  display: block;
}
/* output div while it is collapsed */
div.output_collapsed {
  margin: 0px;
  padding: 0px;
  /* Old browsers */
  display: -webkit-box;
  -webkit-box-orient: vertical;
  -webkit-box-align: stretch;
  display: -moz-box;
  -moz-box-orient: vertical;
  -moz-box-align: stretch;
  display: box;
  box-orient: vertical;
  box-align: stretch;
  /* Modern browsers */
  display: flex;
  flex-direction: column;
  align-items: stretch;
}
div.out_prompt_overlay {
  height: 100%;
  padding: 0px 0.4em;
  position: absolute;
  border-radius: 2px;
}
div.out_prompt_overlay:hover {
  /* use inner shadow to get border that is computed the same on WebKit/FF */
  -webkit-box-shadow: inset 0 0 1px #000;
  box-shadow: inset 0 0 1px #000;
  background: rgba(240, 240, 240, 0.5);
}
div.output_prompt {
  color: #D84315;
}
/* This class is the outer container of all output sections. */
div.output_area {
  padding: 0px;
  page-break-inside: avoid;
  /* Old browsers */
  display: -webkit-box;
  -webkit-box-orient: horizontal;
  -webkit-box-align: stretch;
  display: -moz-box;
  -moz-box-orient: horizontal;
  -moz-box-align: stretch;
  display: box;
  box-orient: horizontal;
  box-align: stretch;
  /* Modern browsers */
  display: flex;
  flex-direction: row;
  align-items: stretch;
}
div.output_area .MathJax_Display {
  text-align: left !important;
}
div.output_area .rendered_html table {
  margin-left: 0;
  margin-right: 0;
}
div.output_area .rendered_html img {
  margin-left: 0;
  margin-right: 0;
}
div.output_area img,
div.output_area svg {
  max-width: 100%;
  height: auto;
}
div.output_area img.unconfined,
div.output_area svg.unconfined {
  max-width: none;
}
div.output_area .mglyph > img {
  max-width: none;
}
/* This is needed to protect the pre formating from global settings such
   as that of bootstrap */
.output {
  /* Old browsers */
  display: -webkit-box;
  -webkit-box-orient: vertical;
  -webkit-box-align: stretch;
  display: -moz-box;
  -moz-box-orient: vertical;
  -moz-box-align: stretch;
  display: box;
  box-orient: vertical;
  box-align: stretch;
  /* Modern browsers */
  display: flex;
  flex-direction: column;
  align-items: stretch;
}
@media (max-width: 540px) {
  div.output_area {
    /* Old browsers */
    display: -webkit-box;
    -webkit-box-orient: vertical;
    -webkit-box-align: stretch;
    display: -moz-box;
    -moz-box-orient: vertical;
    -moz-box-align: stretch;
    display: box;
    box-orient: vertical;
    box-align: stretch;
    /* Modern browsers */
    display: flex;
    flex-direction: column;
    align-items: stretch;
  }
}
div.output_area pre {
  margin: 0;
  padding: 1px 0 1px 0;
  border: 0;
  vertical-align: baseline;
  color: black;
  background-color: transparent;
  border-radius: 0;
}
/* This class is for the output subarea inside the output_area and after
   the prompt div. */
div.output_subarea {
  overflow-x: auto;
  padding: 0.4em;
  /* Old browsers */
  -webkit-box-flex: 1;
  -moz-box-flex: 1;
  box-flex: 1;
  /* Modern browsers */
  flex: 1;
  max-width: calc(100% - 14ex);
}
div.output_scroll div.output_subarea {
  overflow-x: visible;
}
/* The rest of the output_* classes are for special styling of the different
   output types */
/* all text output has this class: */
div.output_text {
  text-align: left;
  color: #000;
  /* This has to match that of the the CodeMirror class line-height below */
  line-height: 1.21429em;
}
/* stdout/stderr are 'text' as well as 'stream', but execute_result/error are *not* streams */
div.output_stderr {
  background: #fdd;
  /* very light red background for stderr */
}
div.output_latex {
  text-align: left;
}
/* Empty output_javascript divs should have no height */
div.output_javascript:empty {
  padding: 0;
}
.js-error {
  color: darkred;
}
/* raw_input styles */
div.raw_input_container {
  line-height: 1.21429em;
  padding-top: 5px;
}
pre.raw_input_prompt {
  /* nothing needed here. */
}
input.raw_input {
  font-family: monospace;
  font-size: inherit;
  color: inherit;
  width: auto;
  /* make sure input baseline aligns with prompt */
  vertical-align: baseline;
  /* padding + margin = 0.5em between prompt and cursor */
  padding: 0em 0.25em;
  margin: 0em 0.25em;
}
input.raw_input:focus {
  box-shadow: none;
}
p.p-space {
  margin-bottom: 10px;
}
div.output_unrecognized {
  padding: 5px;
  font-weight: bold;
  color: red;
}
div.output_unrecognized a {
  color: inherit;
  text-decoration: none;
}
div.output_unrecognized a:hover {
  color: inherit;
  text-decoration: none;
}
.rendered_html {
  color: #000;
  /* any extras will just be numbers: */
}
.rendered_html em {
  font-style: italic;
}
.rendered_html strong {
  font-weight: bold;
}
.rendered_html u {
  text-decoration: underline;
}
.rendered_html :link {
  text-decoration: underline;
}
.rendered_html :visited {
  text-decoration: underline;
}
.rendered_html h1 {
  font-size: 185.7%;
  margin: 1.08em 0 0 0;
  font-weight: bold;
  line-height: 1.0;
}
.rendered_html h2 {
  font-size: 157.1%;
  margin: 1.27em 0 0 0;
  font-weight: bold;
  line-height: 1.0;
}
.rendered_html h3 {
  font-size: 128.6%;
  margin: 1.55em 0 0 0;
  font-weight: bold;
  line-height: 1.0;
}
.rendered_html h4 {
  font-size: 100%;
  margin: 2em 0 0 0;
  font-weight: bold;
  line-height: 1.0;
}
.rendered_html h5 {
  font-size: 100%;
  margin: 2em 0 0 0;
  font-weight: bold;
  line-height: 1.0;
  font-style: italic;
}
.rendered_html h6 {
  font-size: 100%;
  margin: 2em 0 0 0;
  font-weight: bold;
  line-height: 1.0;
  font-style: italic;
}
.rendered_html h1:first-child {
  margin-top: 0.538em;
}
.rendered_html h2:first-child {
  margin-top: 0.636em;
}
.rendered_html h3:first-child {
  margin-top: 0.777em;
}
.rendered_html h4:first-child {
  margin-top: 1em;
}
.rendered_html h5:first-child {
  margin-top: 1em;
}
.rendered_html h6:first-child {
  margin-top: 1em;
}
.rendered_html ul:not(.list-inline),
.rendered_html ol:not(.list-inline) {
  padding-left: 2em;
}
.rendered_html ul {
  list-style: disc;
}
.rendered_html ul ul {
  list-style: square;
  margin-top: 0;
}
.rendered_html ul ul ul {
  list-style: circle;
}
.rendered_html ol {
  list-style: decimal;
}
.rendered_html ol ol {
  list-style: upper-alpha;
  margin-top: 0;
}
.rendered_html ol ol ol {
  list-style: lower-alpha;
}
.rendered_html ol ol ol ol {
  list-style: lower-roman;
}
.rendered_html ol ol ol ol ol {
  list-style: decimal;
}
.rendered_html * + ul {
  margin-top: 1em;
}
.rendered_html * + ol {
  margin-top: 1em;
}
.rendered_html hr {
  color: black;
  background-color: black;
}
.rendered_html pre {
  margin: 1em 2em;
  padding: 0px;
  background-color: #fff;
}
.rendered_html code {
  background-color: #eff0f1;
}
.rendered_html p code {
  padding: 1px 5px;
}
.rendered_html pre code {
  background-color: #fff;
}
.rendered_html pre,
.rendered_html code {
  border: 0;
  color: #000;
  font-size: 100%;
}
.rendered_html blockquote {
  margin: 1em 2em;
}
.rendered_html table {
  margin-left: auto;
  margin-right: auto;
  border: none;
  border-collapse: collapse;
  border-spacing: 0;
  color: black;
  font-size: 12px;
  table-layout: fixed;
}
.rendered_html thead {
  border-bottom: 1px solid black;
  vertical-align: bottom;
}
.rendered_html tr,
.rendered_html th,
.rendered_html td {
  text-align: right;
  vertical-align: middle;
  padding: 0.5em 0.5em;
  line-height: normal;
  white-space: normal;
  max-width: none;
  border: none;
}
.rendered_html th {
  font-weight: bold;
}
.rendered_html tbody tr:nth-child(odd) {
  background: #f5f5f5;
}
.rendered_html tbody tr:hover {
  background: rgba(66, 165, 245, 0.2);
}
.rendered_html * + table {
  margin-top: 1em;
}
.rendered_html p {
  text-align: left;
}
.rendered_html * + p {
  margin-top: 1em;
}
.rendered_html img {
  display: block;
  margin-left: auto;
  margin-right: auto;
}
.rendered_html * + img {
  margin-top: 1em;
}
.rendered_html img,
.rendered_html svg {
  max-width: 100%;
  height: auto;
}
.rendered_html img.unconfined,
.rendered_html svg.unconfined {
  max-width: none;
}
.rendered_html .alert {
  margin-bottom: initial;
}
.rendered_html * + .alert {
  margin-top: 1em;
}
[dir="rtl"] .rendered_html p {
  text-align: right;
}
div.text_cell {
  /* Old browsers */
  display: -webkit-box;
  -webkit-box-orient: horizontal;
  -webkit-box-align: stretch;
  display: -moz-box;
  -moz-box-orient: horizontal;
  -moz-box-align: stretch;
  display: box;
  box-orient: horizontal;
  box-align: stretch;
  /* Modern browsers */
  display: flex;
  flex-direction: row;
  align-items: stretch;
}
@media (max-width: 540px) {
  div.text_cell > div.prompt {
    display: none;
  }
}
div.text_cell_render {
  /*font-family: "Helvetica Neue", Arial, Helvetica, Geneva, sans-serif;*/
  outline: none;
  resize: none;
  width: inherit;
  border-style: none;
  padding: 0.5em 0.5em 0.5em 0.4em;
  color: #000;
  box-sizing: border-box;
  -moz-box-sizing: border-box;
  -webkit-box-sizing: border-box;
}
a.anchor-link:link {
  text-decoration: none;
  padding: 0px 20px;
  visibility: hidden;
}
h1:hover .anchor-link,
h2:hover .anchor-link,
h3:hover .anchor-link,
h4:hover .anchor-link,
h5:hover .anchor-link,
h6:hover .anchor-link {
  visibility: visible;
}
.text_cell.rendered .input_area {
  display: none;
}
.text_cell.rendered .rendered_html {
  overflow-x: auto;
  overflow-y: hidden;
}
.text_cell.rendered .rendered_html tr,
.text_cell.rendered .rendered_html th,
.text_cell.rendered .rendered_html td {
  max-width: none;
}
.text_cell.unrendered .text_cell_render {
  display: none;
}
.text_cell .dropzone .input_area {
  border: 2px dashed #bababa;
  margin: -1px;
}
.cm-header-1,
.cm-header-2,
.cm-header-3,
.cm-header-4,
.cm-header-5,
.cm-header-6 {
  font-weight: bold;
  font-family: "Helvetica Neue", Helvetica, Arial, sans-serif;
}
.cm-header-1 {
  font-size: 185.7%;
}
.cm-header-2 {
  font-size: 157.1%;
}
.cm-header-3 {
  font-size: 128.6%;
}
.cm-header-4 {
  font-size: 110%;
}
.cm-header-5 {
  font-size: 100%;
  font-style: italic;
}
.cm-header-6 {
  font-size: 100%;
  font-style: italic;
}
/*!
*
* IPython notebook webapp
*
*/
@media (max-width: 767px) {
  .notebook_app {
    padding-left: 0px;
    padding-right: 0px;
  }
}
#ipython-main-app {
  box-sizing: border-box;
  -moz-box-sizing: border-box;
  -webkit-box-sizing: border-box;
  height: 100%;
}
div#notebook_panel {
  margin: 0px;
  padding: 0px;
  box-sizing: border-box;
  -moz-box-sizing: border-box;
  -webkit-box-sizing: border-box;
  height: 100%;
}
div#notebook {
  font-size: 14px;
  line-height: 20px;
  overflow-y: hidden;
  overflow-x: auto;
  width: 100%;
  /* This spaces the page away from the edge of the notebook area */
  padding-top: 20px;
  margin: 0px;
  outline: none;
  box-sizing: border-box;
  -moz-box-sizing: border-box;
  -webkit-box-sizing: border-box;
  min-height: 100%;
}
@media not print {
  #notebook-container {
    padding: 15px;
    background-color: #fff;
    min-height: 0;
    -webkit-box-shadow: 0px 0px 12px 1px rgba(87, 87, 87, 0.2);
    box-shadow: 0px 0px 12px 1px rgba(87, 87, 87, 0.2);
  }
}
@media print {
  #notebook-container {
    width: 100%;
  }
}
div.ui-widget-content {
  border: 1px solid #ababab;
  outline: none;
}
pre.dialog {
  background-color: #f7f7f7;
  border: 1px solid #ddd;
  border-radius: 2px;
  padding: 0.4em;
  padding-left: 2em;
}
p.dialog {
  padding: 0.2em;
}
/* Word-wrap output correctly.  This is the CSS3 spelling, though Firefox seems
   to not honor it correctly.  Webkit browsers (Chrome, rekonq, Safari) do.
 */
pre,
code,
kbd,
samp {
  white-space: pre-wrap;
}
#fonttest {
  font-family: monospace;
}
p {
  margin-bottom: 0;
}
.end_space {
  min-height: 100px;
  transition: height .2s ease;
}
.notebook_app > #header {
  -webkit-box-shadow: 0px 0px 12px 1px rgba(87, 87, 87, 0.2);
  box-shadow: 0px 0px 12px 1px rgba(87, 87, 87, 0.2);
}
@media not print {
  .notebook_app {
    background-color: #EEE;
  }
}
kbd {
  border-style: solid;
  border-width: 1px;
  box-shadow: none;
  margin: 2px;
  padding-left: 2px;
  padding-right: 2px;
  padding-top: 1px;
  padding-bottom: 1px;
}
.jupyter-keybindings {
  padding: 1px;
  line-height: 24px;
  border-bottom: 1px solid gray;
}
.jupyter-keybindings input {
  margin: 0;
  padding: 0;
  border: none;
}
.jupyter-keybindings i {
  padding: 6px;
}
.well code {
  background-color: #ffffff;
  border-color: #ababab;
  border-width: 1px;
  border-style: solid;
  padding: 2px;
  padding-top: 1px;
  padding-bottom: 1px;
}
/* CSS for the cell toolbar */
.celltoolbar {
  border: thin solid #CFCFCF;
  border-bottom: none;
  background: #EEE;
  border-radius: 2px 2px 0px 0px;
  width: 100%;
  height: 29px;
  padding-right: 4px;
  /* Old browsers */
  display: -webkit-box;
  -webkit-box-orient: horizontal;
  -webkit-box-align: stretch;
  display: -moz-box;
  -moz-box-orient: horizontal;
  -moz-box-align: stretch;
  display: box;
  box-orient: horizontal;
  box-align: stretch;
  /* Modern browsers */
  display: flex;
  flex-direction: row;
  align-items: stretch;
  /* Old browsers */
  -webkit-box-pack: end;
  -moz-box-pack: end;
  box-pack: end;
  /* Modern browsers */
  justify-content: flex-end;
  display: -webkit-flex;
}
@media print {
  .celltoolbar {
    display: none;
  }
}
.ctb_hideshow {
  display: none;
  vertical-align: bottom;
}
/* ctb_show is added to the ctb_hideshow div to show the cell toolbar.
   Cell toolbars are only shown when the ctb_global_show class is also set.
*/
.ctb_global_show .ctb_show.ctb_hideshow {
  display: block;
}
.ctb_global_show .ctb_show + .input_area,
.ctb_global_show .ctb_show + div.text_cell_input,
.ctb_global_show .ctb_show ~ div.text_cell_render {
  border-top-right-radius: 0px;
  border-top-left-radius: 0px;
}
.ctb_global_show .ctb_show ~ div.text_cell_render {
  border: 1px solid #cfcfcf;
}
.celltoolbar {
  font-size: 87%;
  padding-top: 3px;
}
.celltoolbar select {
  display: block;
  width: 100%;
  height: 32px;
  padding: 6px 12px;
  font-size: 13px;
  line-height: 1.42857143;
  color: #555555;
  background-color: #fff;
  background-image: none;
  border: 1px solid #ccc;
  border-radius: 2px;
  -webkit-box-shadow: inset 0 1px 1px rgba(0, 0, 0, 0.075);
  box-shadow: inset 0 1px 1px rgba(0, 0, 0, 0.075);
  -webkit-transition: border-color ease-in-out .15s, box-shadow ease-in-out .15s;
  -o-transition: border-color ease-in-out .15s, box-shadow ease-in-out .15s;
  transition: border-color ease-in-out .15s, box-shadow ease-in-out .15s;
  height: 30px;
  padding: 5px 10px;
  font-size: 12px;
  line-height: 1.5;
  border-radius: 1px;
  width: inherit;
  font-size: inherit;
  height: 22px;
  padding: 0px;
  display: inline-block;
}
.celltoolbar select:focus {
  border-color: #66afe9;
  outline: 0;
  -webkit-box-shadow: inset 0 1px 1px rgba(0,0,0,.075), 0 0 8px rgba(102, 175, 233, 0.6);
  box-shadow: inset 0 1px 1px rgba(0,0,0,.075), 0 0 8px rgba(102, 175, 233, 0.6);
}
.celltoolbar select::-moz-placeholder {
  color: #999;
  opacity: 1;
}
.celltoolbar select:-ms-input-placeholder {
  color: #999;
}
.celltoolbar select::-webkit-input-placeholder {
  color: #999;
}
.celltoolbar select::-ms-expand {
  border: 0;
  background-color: transparent;
}
.celltoolbar select[disabled],
.celltoolbar select[readonly],
fieldset[disabled] .celltoolbar select {
  background-color: #eeeeee;
  opacity: 1;
}
.celltoolbar select[disabled],
fieldset[disabled] .celltoolbar select {
  cursor: not-allowed;
}
textarea.celltoolbar select {
  height: auto;
}
select.celltoolbar select {
  height: 30px;
  line-height: 30px;
}
textarea.celltoolbar select,
select[multiple].celltoolbar select {
  height: auto;
}
.celltoolbar label {
  margin-left: 5px;
  margin-right: 5px;
}
.tags_button_container {
  width: 100%;
  display: flex;
}
.tag-container {
  display: flex;
  flex-direction: row;
  flex-grow: 1;
  overflow: hidden;
  position: relative;
}
.tag-container > * {
  margin: 0 4px;
}
.remove-tag-btn {
  margin-left: 4px;
}
.tags-input {
  display: flex;
}
.cell-tag:last-child:after {
  content: "";
  position: absolute;
  right: 0;
  width: 40px;
  height: 100%;
  /* Fade to background color of cell toolbar */
  background: linear-gradient(to right, rgba(0, 0, 0, 0), #EEE);
}
.tags-input > * {
  margin-left: 4px;
}
.cell-tag,
.tags-input input,
.tags-input button {
  display: block;
  width: 100%;
  height: 32px;
  padding: 6px 12px;
  font-size: 13px;
  line-height: 1.42857143;
  color: #555555;
  background-color: #fff;
  background-image: none;
  border: 1px solid #ccc;
  border-radius: 2px;
  -webkit-box-shadow: inset 0 1px 1px rgba(0, 0, 0, 0.075);
  box-shadow: inset 0 1px 1px rgba(0, 0, 0, 0.075);
  -webkit-transition: border-color ease-in-out .15s, box-shadow ease-in-out .15s;
  -o-transition: border-color ease-in-out .15s, box-shadow ease-in-out .15s;
  transition: border-color ease-in-out .15s, box-shadow ease-in-out .15s;
  height: 30px;
  padding: 5px 10px;
  font-size: 12px;
  line-height: 1.5;
  border-radius: 1px;
  box-shadow: none;
  width: inherit;
  font-size: inherit;
  height: 22px;
  line-height: 22px;
  padding: 0px 4px;
  display: inline-block;
}
.cell-tag:focus,
.tags-input input:focus,
.tags-input button:focus {
  border-color: #66afe9;
  outline: 0;
  -webkit-box-shadow: inset 0 1px 1px rgba(0,0,0,.075), 0 0 8px rgba(102, 175, 233, 0.6);
  box-shadow: inset 0 1px 1px rgba(0,0,0,.075), 0 0 8px rgba(102, 175, 233, 0.6);
}
.cell-tag::-moz-placeholder,
.tags-input input::-moz-placeholder,
.tags-input button::-moz-placeholder {
  color: #999;
  opacity: 1;
}
.cell-tag:-ms-input-placeholder,
.tags-input input:-ms-input-placeholder,
.tags-input button:-ms-input-placeholder {
  color: #999;
}
.cell-tag::-webkit-input-placeholder,
.tags-input input::-webkit-input-placeholder,
.tags-input button::-webkit-input-placeholder {
  color: #999;
}
.cell-tag::-ms-expand,
.tags-input input::-ms-expand,
.tags-input button::-ms-expand {
  border: 0;
  background-color: transparent;
}
.cell-tag[disabled],
.tags-input input[disabled],
.tags-input button[disabled],
.cell-tag[readonly],
.tags-input input[readonly],
.tags-input button[readonly],
fieldset[disabled] .cell-tag,
fieldset[disabled] .tags-input input,
fieldset[disabled] .tags-input button {
  background-color: #eeeeee;
  opacity: 1;
}
.cell-tag[disabled],
.tags-input input[disabled],
.tags-input button[disabled],
fieldset[disabled] .cell-tag,
fieldset[disabled] .tags-input input,
fieldset[disabled] .tags-input button {
  cursor: not-allowed;
}
textarea.cell-tag,
textarea.tags-input input,
textarea.tags-input button {
  height: auto;
}
select.cell-tag,
select.tags-input input,
select.tags-input button {
  height: 30px;
  line-height: 30px;
}
textarea.cell-tag,
textarea.tags-input input,
textarea.tags-input button,
select[multiple].cell-tag,
select[multiple].tags-input input,
select[multiple].tags-input button {
  height: auto;
}
.cell-tag,
.tags-input button {
  padding: 0px 4px;
}
.cell-tag {
  background-color: #fff;
  white-space: nowrap;
}
.tags-input input[type=text]:focus {
  outline: none;
  box-shadow: none;
  border-color: #ccc;
}
.completions {
  position: absolute;
  z-index: 110;
  overflow: hidden;
  border: 1px solid #ababab;
  border-radius: 2px;
  -webkit-box-shadow: 0px 6px 10px -1px #adadad;
  box-shadow: 0px 6px 10px -1px #adadad;
  line-height: 1;
}
.completions select {
  background: white;
  outline: none;
  border: none;
  padding: 0px;
  margin: 0px;
  overflow: auto;
  font-family: monospace;
  font-size: 110%;
  color: #000;
  width: auto;
}
.completions select option.context {
  color: #286090;
}
#kernel_logo_widget .current_kernel_logo {
  display: none;
  margin-top: -1px;
  margin-bottom: -1px;
  width: 32px;
  height: 32px;
}
[dir="rtl"] #kernel_logo_widget {
  float: left !important;
  float: left;
}
.modal .modal-body .move-path {
  display: flex;
  flex-direction: row;
  justify-content: space;
  align-items: center;
}
.modal .modal-body .move-path .server-root {
  padding-right: 20px;
}
.modal .modal-body .move-path .path-input {
  flex: 1;
}
#menubar {
  box-sizing: border-box;
  -moz-box-sizing: border-box;
  -webkit-box-sizing: border-box;
  margin-top: 1px;
}
#menubar .navbar {
  border-top: 1px;
  border-radius: 0px 0px 2px 2px;
  margin-bottom: 0px;
}
#menubar .navbar-toggle {
  float: left;
  padding-top: 7px;
  padding-bottom: 7px;
  border: none;
}
#menubar .navbar-collapse {
  clear: left;
}
[dir="rtl"] #menubar .navbar-toggle {
  float: right;
}
[dir="rtl"] #menubar .navbar-collapse {
  clear: right;
}
[dir="rtl"] #menubar .navbar-nav {
  float: right;
}
[dir="rtl"] #menubar .nav {
  padding-right: 0px;
}
[dir="rtl"] #menubar .navbar-nav > li {
  float: right;
}
[dir="rtl"] #menubar .navbar-right {
  float: left !important;
}
[dir="rtl"] ul.dropdown-menu {
  text-align: right;
  left: auto;
}
[dir="rtl"] ul#new-menu.dropdown-menu {
  right: auto;
  left: 0;
}
.nav-wrapper {
  border-bottom: 1px solid #e7e7e7;
}
i.menu-icon {
  padding-top: 4px;
}
[dir="rtl"] i.menu-icon.pull-right {
  float: left !important;
  float: left;
}
ul#help_menu li a {
  overflow: hidden;
  padding-right: 2.2em;
}
ul#help_menu li a i {
  margin-right: -1.2em;
}
[dir="rtl"] ul#help_menu li a {
  padding-left: 2.2em;
}
[dir="rtl"] ul#help_menu li a i {
  margin-right: 0;
  margin-left: -1.2em;
}
[dir="rtl"] ul#help_menu li a i.pull-right {
  float: left !important;
  float: left;
}
.dropdown-submenu {
  position: relative;
}
.dropdown-submenu > .dropdown-menu {
  top: 0;
  left: 100%;
  margin-top: -6px;
  margin-left: -1px;
}
[dir="rtl"] .dropdown-submenu > .dropdown-menu {
  right: 100%;
  margin-right: -1px;
}
.dropdown-submenu:hover > .dropdown-menu {
  display: block;
}
.dropdown-submenu > a:after {
  display: inline-block;
  font: normal normal normal 14px/1 FontAwesome;
  font-size: inherit;
  text-rendering: auto;
  -webkit-font-smoothing: antialiased;
  -moz-osx-font-smoothing: grayscale;
  display: block;
  content: "\f0da";
  float: right;
  color: #333333;
  margin-top: 2px;
  margin-right: -10px;
}
.dropdown-submenu > a:after.fa-pull-left {
  margin-right: .3em;
}
.dropdown-submenu > a:after.fa-pull-right {
  margin-left: .3em;
}
.dropdown-submenu > a:after.pull-left {
  margin-right: .3em;
}
.dropdown-submenu > a:after.pull-right {
  margin-left: .3em;
}
[dir="rtl"] .dropdown-submenu > a:after {
  float: left;
  content: "\f0d9";
  margin-right: 0;
  margin-left: -10px;
}
.dropdown-submenu:hover > a:after {
  color: #262626;
}
.dropdown-submenu.pull-left {
  float: none;
}
.dropdown-submenu.pull-left > .dropdown-menu {
  left: -100%;
  margin-left: 10px;
}
#notification_area {
  float: right !important;
  float: right;
  z-index: 10;
}
[dir="rtl"] #notification_area {
  float: left !important;
  float: left;
}
.indicator_area {
  float: right !important;
  float: right;
  color: #777;
  margin-left: 5px;
  margin-right: 5px;
  width: 11px;
  z-index: 10;
  text-align: center;
  width: auto;
}
[dir="rtl"] .indicator_area {
  float: left !important;
  float: left;
}
#kernel_indicator {
  float: right !important;
  float: right;
  color: #777;
  margin-left: 5px;
  margin-right: 5px;
  width: 11px;
  z-index: 10;
  text-align: center;
  width: auto;
  border-left: 1px solid;
}
#kernel_indicator .kernel_indicator_name {
  padding-left: 5px;
  padding-right: 5px;
}
[dir="rtl"] #kernel_indicator {
  float: left !important;
  float: left;
  border-left: 0;
  border-right: 1px solid;
}
#modal_indicator {
  float: right !important;
  float: right;
  color: #777;
  margin-left: 5px;
  margin-right: 5px;
  width: 11px;
  z-index: 10;
  text-align: center;
  width: auto;
}
[dir="rtl"] #modal_indicator {
  float: left !important;
  float: left;
}
#readonly-indicator {
  float: right !important;
  float: right;
  color: #777;
  margin-left: 5px;
  margin-right: 5px;
  width: 11px;
  z-index: 10;
  text-align: center;
  width: auto;
  margin-top: 2px;
  margin-bottom: 0px;
  margin-left: 0px;
  margin-right: 0px;
  display: none;
}
.modal_indicator:before {
  width: 1.28571429em;
  text-align: center;
}
.edit_mode .modal_indicator:before {
  display: inline-block;
  font: normal normal normal 14px/1 FontAwesome;
  font-size: inherit;
  text-rendering: auto;
  -webkit-font-smoothing: antialiased;
  -moz-osx-font-smoothing: grayscale;
  content: "\f040";
}
.edit_mode .modal_indicator:before.fa-pull-left {
  margin-right: .3em;
}
.edit_mode .modal_indicator:before.fa-pull-right {
  margin-left: .3em;
}
.edit_mode .modal_indicator:before.pull-left {
  margin-right: .3em;
}
.edit_mode .modal_indicator:before.pull-right {
  margin-left: .3em;
}
.command_mode .modal_indicator:before {
  display: inline-block;
  font: normal normal normal 14px/1 FontAwesome;
  font-size: inherit;
  text-rendering: auto;
  -webkit-font-smoothing: antialiased;
  -moz-osx-font-smoothing: grayscale;
  content: ' ';
}
.command_mode .modal_indicator:before.fa-pull-left {
  margin-right: .3em;
}
.command_mode .modal_indicator:before.fa-pull-right {
  margin-left: .3em;
}
.command_mode .modal_indicator:before.pull-left {
  margin-right: .3em;
}
.command_mode .modal_indicator:before.pull-right {
  margin-left: .3em;
}
.kernel_idle_icon:before {
  display: inline-block;
  font: normal normal normal 14px/1 FontAwesome;
  font-size: inherit;
  text-rendering: auto;
  -webkit-font-smoothing: antialiased;
  -moz-osx-font-smoothing: grayscale;
  content: "\f10c";
}
.kernel_idle_icon:before.fa-pull-left {
  margin-right: .3em;
}
.kernel_idle_icon:before.fa-pull-right {
  margin-left: .3em;
}
.kernel_idle_icon:before.pull-left {
  margin-right: .3em;
}
.kernel_idle_icon:before.pull-right {
  margin-left: .3em;
}
.kernel_busy_icon:before {
  display: inline-block;
  font: normal normal normal 14px/1 FontAwesome;
  font-size: inherit;
  text-rendering: auto;
  -webkit-font-smoothing: antialiased;
  -moz-osx-font-smoothing: grayscale;
  content: "\f111";
}
.kernel_busy_icon:before.fa-pull-left {
  margin-right: .3em;
}
.kernel_busy_icon:before.fa-pull-right {
  margin-left: .3em;
}
.kernel_busy_icon:before.pull-left {
  margin-right: .3em;
}
.kernel_busy_icon:before.pull-right {
  margin-left: .3em;
}
.kernel_dead_icon:before {
  display: inline-block;
  font: normal normal normal 14px/1 FontAwesome;
  font-size: inherit;
  text-rendering: auto;
  -webkit-font-smoothing: antialiased;
  -moz-osx-font-smoothing: grayscale;
  content: "\f1e2";
}
.kernel_dead_icon:before.fa-pull-left {
  margin-right: .3em;
}
.kernel_dead_icon:before.fa-pull-right {
  margin-left: .3em;
}
.kernel_dead_icon:before.pull-left {
  margin-right: .3em;
}
.kernel_dead_icon:before.pull-right {
  margin-left: .3em;
}
.kernel_disconnected_icon:before {
  display: inline-block;
  font: normal normal normal 14px/1 FontAwesome;
  font-size: inherit;
  text-rendering: auto;
  -webkit-font-smoothing: antialiased;
  -moz-osx-font-smoothing: grayscale;
  content: "\f127";
}
.kernel_disconnected_icon:before.fa-pull-left {
  margin-right: .3em;
}
.kernel_disconnected_icon:before.fa-pull-right {
  margin-left: .3em;
}
.kernel_disconnected_icon:before.pull-left {
  margin-right: .3em;
}
.kernel_disconnected_icon:before.pull-right {
  margin-left: .3em;
}
.notification_widget {
  color: #777;
  z-index: 10;
  background: rgba(240, 240, 240, 0.5);
  margin-right: 4px;
  color: #333;
  background-color: #fff;
  border-color: #ccc;
}
.notification_widget:focus,
.notification_widget.focus {
  color: #333;
  background-color: #e6e6e6;
  border-color: #8c8c8c;
}
.notification_widget:hover {
  color: #333;
  background-color: #e6e6e6;
  border-color: #adadad;
}
.notification_widget:active,
.notification_widget.active,
.open > .dropdown-toggle.notification_widget {
  color: #333;
  background-color: #e6e6e6;
  border-color: #adadad;
}
.notification_widget:active:hover,
.notification_widget.active:hover,
.open > .dropdown-toggle.notification_widget:hover,
.notification_widget:active:focus,
.notification_widget.active:focus,
.open > .dropdown-toggle.notification_widget:focus,
.notification_widget:active.focus,
.notification_widget.active.focus,
.open > .dropdown-toggle.notification_widget.focus {
  color: #333;
  background-color: #d4d4d4;
  border-color: #8c8c8c;
}
.notification_widget:active,
.notification_widget.active,
.open > .dropdown-toggle.notification_widget {
  background-image: none;
}
.notification_widget.disabled:hover,
.notification_widget[disabled]:hover,
fieldset[disabled] .notification_widget:hover,
.notification_widget.disabled:focus,
.notification_widget[disabled]:focus,
fieldset[disabled] .notification_widget:focus,
.notification_widget.disabled.focus,
.notification_widget[disabled].focus,
fieldset[disabled] .notification_widget.focus {
  background-color: #fff;
  border-color: #ccc;
}
.notification_widget .badge {
  color: #fff;
  background-color: #333;
}
.notification_widget.warning {
  color: #fff;
  background-color: #f0ad4e;
  border-color: #eea236;
}
.notification_widget.warning:focus,
.notification_widget.warning.focus {
  color: #fff;
  background-color: #ec971f;
  border-color: #985f0d;
}
.notification_widget.warning:hover {
  color: #fff;
  background-color: #ec971f;
  border-color: #d58512;
}
.notification_widget.warning:active,
.notification_widget.warning.active,
.open > .dropdown-toggle.notification_widget.warning {
  color: #fff;
  background-color: #ec971f;
  border-color: #d58512;
}
.notification_widget.warning:active:hover,
.notification_widget.warning.active:hover,
.open > .dropdown-toggle.notification_widget.warning:hover,
.notification_widget.warning:active:focus,
.notification_widget.warning.active:focus,
.open > .dropdown-toggle.notification_widget.warning:focus,
.notification_widget.warning:active.focus,
.notification_widget.warning.active.focus,
.open > .dropdown-toggle.notification_widget.warning.focus {
  color: #fff;
  background-color: #d58512;
  border-color: #985f0d;
}
.notification_widget.warning:active,
.notification_widget.warning.active,
.open > .dropdown-toggle.notification_widget.warning {
  background-image: none;
}
.notification_widget.warning.disabled:hover,
.notification_widget.warning[disabled]:hover,
fieldset[disabled] .notification_widget.warning:hover,
.notification_widget.warning.disabled:focus,
.notification_widget.warning[disabled]:focus,
fieldset[disabled] .notification_widget.warning:focus,
.notification_widget.warning.disabled.focus,
.notification_widget.warning[disabled].focus,
fieldset[disabled] .notification_widget.warning.focus {
  background-color: #f0ad4e;
  border-color: #eea236;
}
.notification_widget.warning .badge {
  color: #f0ad4e;
  background-color: #fff;
}
.notification_widget.success {
  color: #fff;
  background-color: #5cb85c;
  border-color: #4cae4c;
}
.notification_widget.success:focus,
.notification_widget.success.focus {
  color: #fff;
  background-color: #449d44;
  border-color: #255625;
}
.notification_widget.success:hover {
  color: #fff;
  background-color: #449d44;
  border-color: #398439;
}
.notification_widget.success:active,
.notification_widget.success.active,
.open > .dropdown-toggle.notification_widget.success {
  color: #fff;
  background-color: #449d44;
  border-color: #398439;
}
.notification_widget.success:active:hover,
.notification_widget.success.active:hover,
.open > .dropdown-toggle.notification_widget.success:hover,
.notification_widget.success:active:focus,
.notification_widget.success.active:focus,
.open > .dropdown-toggle.notification_widget.success:focus,
.notification_widget.success:active.focus,
.notification_widget.success.active.focus,
.open > .dropdown-toggle.notification_widget.success.focus {
  color: #fff;
  background-color: #398439;
  border-color: #255625;
}
.notification_widget.success:active,
.notification_widget.success.active,
.open > .dropdown-toggle.notification_widget.success {
  background-image: none;
}
.notification_widget.success.disabled:hover,
.notification_widget.success[disabled]:hover,
fieldset[disabled] .notification_widget.success:hover,
.notification_widget.success.disabled:focus,
.notification_widget.success[disabled]:focus,
fieldset[disabled] .notification_widget.success:focus,
.notification_widget.success.disabled.focus,
.notification_widget.success[disabled].focus,
fieldset[disabled] .notification_widget.success.focus {
  background-color: #5cb85c;
  border-color: #4cae4c;
}
.notification_widget.success .badge {
  color: #5cb85c;
  background-color: #fff;
}
.notification_widget.info {
  color: #fff;
  background-color: #5bc0de;
  border-color: #46b8da;
}
.notification_widget.info:focus,
.notification_widget.info.focus {
  color: #fff;
  background-color: #31b0d5;
  border-color: #1b6d85;
}
.notification_widget.info:hover {
  color: #fff;
  background-color: #31b0d5;
  border-color: #269abc;
}
.notification_widget.info:active,
.notification_widget.info.active,
.open > .dropdown-toggle.notification_widget.info {
  color: #fff;
  background-color: #31b0d5;
  border-color: #269abc;
}
.notification_widget.info:active:hover,
.notification_widget.info.active:hover,
.open > .dropdown-toggle.notification_widget.info:hover,
.notification_widget.info:active:focus,
.notification_widget.info.active:focus,
.open > .dropdown-toggle.notification_widget.info:focus,
.notification_widget.info:active.focus,
.notification_widget.info.active.focus,
.open > .dropdown-toggle.notification_widget.info.focus {
  color: #fff;
  background-color: #269abc;
  border-color: #1b6d85;
}
.notification_widget.info:active,
.notification_widget.info.active,
.open > .dropdown-toggle.notification_widget.info {
  background-image: none;
}
.notification_widget.info.disabled:hover,
.notification_widget.info[disabled]:hover,
fieldset[disabled] .notification_widget.info:hover,
.notification_widget.info.disabled:focus,
.notification_widget.info[disabled]:focus,
fieldset[disabled] .notification_widget.info:focus,
.notification_widget.info.disabled.focus,
.notification_widget.info[disabled].focus,
fieldset[disabled] .notification_widget.info.focus {
  background-color: #5bc0de;
  border-color: #46b8da;
}
.notification_widget.info .badge {
  color: #5bc0de;
  background-color: #fff;
}
.notification_widget.danger {
  color: #fff;
  background-color: #d9534f;
  border-color: #d43f3a;
}
.notification_widget.danger:focus,
.notification_widget.danger.focus {
  color: #fff;
  background-color: #c9302c;
  border-color: #761c19;
}
.notification_widget.danger:hover {
  color: #fff;
  background-color: #c9302c;
  border-color: #ac2925;
}
.notification_widget.danger:active,
.notification_widget.danger.active,
.open > .dropdown-toggle.notification_widget.danger {
  color: #fff;
  background-color: #c9302c;
  border-color: #ac2925;
}
.notification_widget.danger:active:hover,
.notification_widget.danger.active:hover,
.open > .dropdown-toggle.notification_widget.danger:hover,
.notification_widget.danger:active:focus,
.notification_widget.danger.active:focus,
.open > .dropdown-toggle.notification_widget.danger:focus,
.notification_widget.danger:active.focus,
.notification_widget.danger.active.focus,
.open > .dropdown-toggle.notification_widget.danger.focus {
  color: #fff;
  background-color: #ac2925;
  border-color: #761c19;
}
.notification_widget.danger:active,
.notification_widget.danger.active,
.open > .dropdown-toggle.notification_widget.danger {
  background-image: none;
}
.notification_widget.danger.disabled:hover,
.notification_widget.danger[disabled]:hover,
fieldset[disabled] .notification_widget.danger:hover,
.notification_widget.danger.disabled:focus,
.notification_widget.danger[disabled]:focus,
fieldset[disabled] .notification_widget.danger:focus,
.notification_widget.danger.disabled.focus,
.notification_widget.danger[disabled].focus,
fieldset[disabled] .notification_widget.danger.focus {
  background-color: #d9534f;
  border-color: #d43f3a;
}
.notification_widget.danger .badge {
  color: #d9534f;
  background-color: #fff;
}
div#pager {
  background-color: #fff;
  font-size: 14px;
  line-height: 20px;
  overflow: hidden;
  display: none;
  position: fixed;
  bottom: 0px;
  width: 100%;
  max-height: 50%;
  padding-top: 8px;
  -webkit-box-shadow: 0px 0px 12px 1px rgba(87, 87, 87, 0.2);
  box-shadow: 0px 0px 12px 1px rgba(87, 87, 87, 0.2);
  /* Display over codemirror */
  z-index: 100;
  /* Hack which prevents jquery ui resizable from changing top. */
  top: auto !important;
}
div#pager pre {
  line-height: 1.21429em;
  color: #000;
  background-color: #f7f7f7;
  padding: 0.4em;
}
div#pager #pager-button-area {
  position: absolute;
  top: 8px;
  right: 20px;
}
div#pager #pager-contents {
  position: relative;
  overflow: auto;
  width: 100%;
  height: 100%;
}
div#pager #pager-contents #pager-container {
  position: relative;
  padding: 15px 0px;
  box-sizing: border-box;
  -moz-box-sizing: border-box;
  -webkit-box-sizing: border-box;
}
div#pager .ui-resizable-handle {
  top: 0px;
  height: 8px;
  background: #f7f7f7;
  border-top: 1px solid #cfcfcf;
  border-bottom: 1px solid #cfcfcf;
  /* This injects handle bars (a short, wide = symbol) for 
        the resize handle. */
}
div#pager .ui-resizable-handle::after {
  content: '';
  top: 2px;
  left: 50%;
  height: 3px;
  width: 30px;
  margin-left: -15px;
  position: absolute;
  border-top: 1px solid #cfcfcf;
}
.quickhelp {
  /* Old browsers */
  display: -webkit-box;
  -webkit-box-orient: horizontal;
  -webkit-box-align: stretch;
  display: -moz-box;
  -moz-box-orient: horizontal;
  -moz-box-align: stretch;
  display: box;
  box-orient: horizontal;
  box-align: stretch;
  /* Modern browsers */
  display: flex;
  flex-direction: row;
  align-items: stretch;
  line-height: 1.8em;
}
.shortcut_key {
  display: inline-block;
  width: 21ex;
  text-align: right;
  font-family: monospace;
}
.shortcut_descr {
  display: inline-block;
  /* Old browsers */
  -webkit-box-flex: 1;
  -moz-box-flex: 1;
  box-flex: 1;
  /* Modern browsers */
  flex: 1;
}
span.save_widget {
  height: 30px;
  margin-top: 4px;
  display: flex;
  justify-content: flex-start;
  align-items: baseline;
  width: 50%;
  flex: 1;
}
span.save_widget span.filename {
  height: 100%;
  line-height: 1em;
  margin-left: 16px;
  border: none;
  font-size: 146.5%;
  text-overflow: ellipsis;
  overflow: hidden;
  white-space: nowrap;
  border-radius: 2px;
}
span.save_widget span.filename:hover {
  background-color: #e6e6e6;
}
[dir="rtl"] span.save_widget.pull-left {
  float: right !important;
  float: right;
}
[dir="rtl"] span.save_widget span.filename {
  margin-left: 0;
  margin-right: 16px;
}
span.checkpoint_status,
span.autosave_status {
  font-size: small;
  white-space: nowrap;
  padding: 0 5px;
}
@media (max-width: 767px) {
  span.save_widget {
    font-size: small;
    padding: 0 0 0 5px;
  }
  span.checkpoint_status,
  span.autosave_status {
    display: none;
  }
}
@media (min-width: 768px) and (max-width: 991px) {
  span.checkpoint_status {
    display: none;
  }
  span.autosave_status {
    font-size: x-small;
  }
}
.toolbar {
  padding: 0px;
  margin-left: -5px;
  margin-top: 2px;
  margin-bottom: 5px;
  box-sizing: border-box;
  -moz-box-sizing: border-box;
  -webkit-box-sizing: border-box;
}
.toolbar select,
.toolbar label {
  width: auto;
  vertical-align: middle;
  margin-right: 2px;
  margin-bottom: 0px;
  display: inline;
  font-size: 92%;
  margin-left: 0.3em;
  margin-right: 0.3em;
  padding: 0px;
  padding-top: 3px;
}
.toolbar .btn {
  padding: 2px 8px;
}
.toolbar .btn-group {
  margin-top: 0px;
  margin-left: 5px;
}
.toolbar-btn-label {
  margin-left: 6px;
}
#maintoolbar {
  margin-bottom: -3px;
  margin-top: -8px;
  border: 0px;
  min-height: 27px;
  margin-left: 0px;
  padding-top: 11px;
  padding-bottom: 3px;
}
#maintoolbar .navbar-text {
  float: none;
  vertical-align: middle;
  text-align: right;
  margin-left: 5px;
  margin-right: 0px;
  margin-top: 0px;
}
.select-xs {
  height: 24px;
}
[dir="rtl"] .btn-group > .btn,
.btn-group-vertical > .btn {
  float: right;
}
.pulse,
.dropdown-menu > li > a.pulse,
li.pulse > a.dropdown-toggle,
li.pulse.open > a.dropdown-toggle {
  background-color: #F37626;
  color: white;
}
/**
 * Primary styles
 *
 * Author: Jupyter Development Team
 */
/** WARNING IF YOU ARE EDITTING THIS FILE, if this is a .css file, It has a lot
 * of chance of beeing generated from the ../less/[samename].less file, you can
 * try to get back the less file by reverting somme commit in history
 **/
/*
 * We'll try to get something pretty, so we
 * have some strange css to have the scroll bar on
 * the left with fix button on the top right of the tooltip
 */
@-moz-keyframes fadeOut {
  from {
    opacity: 1;
  }
  to {
    opacity: 0;
  }
}
@-webkit-keyframes fadeOut {
  from {
    opacity: 1;
  }
  to {
    opacity: 0;
  }
}
@-moz-keyframes fadeIn {
  from {
    opacity: 0;
  }
  to {
    opacity: 1;
  }
}
@-webkit-keyframes fadeIn {
  from {
    opacity: 0;
  }
  to {
    opacity: 1;
  }
}
/*properties of tooltip after "expand"*/
.bigtooltip {
  overflow: auto;
  height: 200px;
  -webkit-transition-property: height;
  -webkit-transition-duration: 500ms;
  -moz-transition-property: height;
  -moz-transition-duration: 500ms;
  transition-property: height;
  transition-duration: 500ms;
}
/*properties of tooltip before "expand"*/
.smalltooltip {
  -webkit-transition-property: height;
  -webkit-transition-duration: 500ms;
  -moz-transition-property: height;
  -moz-transition-duration: 500ms;
  transition-property: height;
  transition-duration: 500ms;
  text-overflow: ellipsis;
  overflow: hidden;
  height: 80px;
}
.tooltipbuttons {
  position: absolute;
  padding-right: 15px;
  top: 0px;
  right: 0px;
}
.tooltiptext {
  /*avoid the button to overlap on some docstring*/
  padding-right: 30px;
}
.ipython_tooltip {
  max-width: 700px;
  /*fade-in animation when inserted*/
  -webkit-animation: fadeOut 400ms;
  -moz-animation: fadeOut 400ms;
  animation: fadeOut 400ms;
  -webkit-animation: fadeIn 400ms;
  -moz-animation: fadeIn 400ms;
  animation: fadeIn 400ms;
  vertical-align: middle;
  background-color: #f7f7f7;
  overflow: visible;
  border: #ababab 1px solid;
  outline: none;
  padding: 3px;
  margin: 0px;
  padding-left: 7px;
  font-family: monospace;
  min-height: 50px;
  -moz-box-shadow: 0px 6px 10px -1px #adadad;
  -webkit-box-shadow: 0px 6px 10px -1px #adadad;
  box-shadow: 0px 6px 10px -1px #adadad;
  border-radius: 2px;
  position: absolute;
  z-index: 1000;
}
.ipython_tooltip a {
  float: right;
}
.ipython_tooltip .tooltiptext pre {
  border: 0;
  border-radius: 0;
  font-size: 100%;
  background-color: #f7f7f7;
}
.pretooltiparrow {
  left: 0px;
  margin: 0px;
  top: -16px;
  width: 40px;
  height: 16px;
  overflow: hidden;
  position: absolute;
}
.pretooltiparrow:before {
  background-color: #f7f7f7;
  border: 1px #ababab solid;
  z-index: 11;
  content: "";
  position: absolute;
  left: 15px;
  top: 10px;
  width: 25px;
  height: 25px;
  -webkit-transform: rotate(45deg);
  -moz-transform: rotate(45deg);
  -ms-transform: rotate(45deg);
  -o-transform: rotate(45deg);
}
ul.typeahead-list i {
  margin-left: -10px;
  width: 18px;
}
[dir="rtl"] ul.typeahead-list i {
  margin-left: 0;
  margin-right: -10px;
}
ul.typeahead-list {
  max-height: 80vh;
  overflow: auto;
}
ul.typeahead-list > li > a {
  /** Firefox bug **/
  /* see https://github.com/jupyter/notebook/issues/559 */
  white-space: normal;
}
ul.typeahead-list  > li > a.pull-right {
  float: left !important;
  float: left;
}
[dir="rtl"] .typeahead-list {
  text-align: right;
}
.cmd-palette .modal-body {
  padding: 7px;
}
.cmd-palette form {
  background: white;
}
.cmd-palette input {
  outline: none;
}
.no-shortcut {
  min-width: 20px;
  color: transparent;
}
[dir="rtl"] .no-shortcut.pull-right {
  float: left !important;
  float: left;
}
[dir="rtl"] .command-shortcut.pull-right {
  float: left !important;
  float: left;
}
.command-shortcut:before {
  content: "(command mode)";
  padding-right: 3px;
  color: #777777;
}
.edit-shortcut:before {
  content: "(edit)";
  padding-right: 3px;
  color: #777777;
}
[dir="rtl"] .edit-shortcut.pull-right {
  float: left !important;
  float: left;
}
#find-and-replace #replace-preview .match,
#find-and-replace #replace-preview .insert {
  background-color: #BBDEFB;
  border-color: #90CAF9;
  border-style: solid;
  border-width: 1px;
  border-radius: 0px;
}
[dir="ltr"] #find-and-replace .input-group-btn + .form-control {
  border-left: none;
}
[dir="rtl"] #find-and-replace .input-group-btn + .form-control {
  border-right: none;
}
#find-and-replace #replace-preview .replace .match {
  background-color: #FFCDD2;
  border-color: #EF9A9A;
  border-radius: 0px;
}
#find-and-replace #replace-preview .replace .insert {
  background-color: #C8E6C9;
  border-color: #A5D6A7;
  border-radius: 0px;
}
#find-and-replace #replace-preview {
  max-height: 60vh;
  overflow: auto;
}
#find-and-replace #replace-preview pre {
  padding: 5px 10px;
}
.terminal-app {
  background: #EEE;
}
.terminal-app #header {
  background: #fff;
  -webkit-box-shadow: 0px 0px 12px 1px rgba(87, 87, 87, 0.2);
  box-shadow: 0px 0px 12px 1px rgba(87, 87, 87, 0.2);
}
.terminal-app .terminal {
  width: 100%;
  float: left;
  font-family: monospace;
  color: white;
  background: black;
  padding: 0.4em;
  border-radius: 2px;
  -webkit-box-shadow: 0px 0px 12px 1px rgba(87, 87, 87, 0.4);
  box-shadow: 0px 0px 12px 1px rgba(87, 87, 87, 0.4);
}
.terminal-app .terminal,
.terminal-app .terminal dummy-screen {
  line-height: 1em;
  font-size: 14px;
}
.terminal-app .terminal .xterm-rows {
  padding: 10px;
}
.terminal-app .terminal-cursor {
  color: black;
  background: white;
}
.terminal-app #terminado-container {
  margin-top: 20px;
}
/*# sourceMappingURL=style.min.css.map */
    </style>
<style type="text/css">
    .highlight .hll { background-color: #ffffcc }
.highlight  { background: #f8f8f8; }
.highlight .c { color: #408080; font-style: italic } /* Comment */
.highlight .err { border: 1px solid #FF0000 } /* Error */
.highlight .k { color: #008000; font-weight: bold } /* Keyword */
.highlight .o { color: #666666 } /* Operator */
.highlight .ch { color: #408080; font-style: italic } /* Comment.Hashbang */
.highlight .cm { color: #408080; font-style: italic } /* Comment.Multiline */
.highlight .cp { color: #BC7A00 } /* Comment.Preproc */
.highlight .cpf { color: #408080; font-style: italic } /* Comment.PreprocFile */
.highlight .c1 { color: #408080; font-style: italic } /* Comment.Single */
.highlight .cs { color: #408080; font-style: italic } /* Comment.Special */
.highlight .gd { color: #A00000 } /* Generic.Deleted */
.highlight .ge { font-style: italic } /* Generic.Emph */
.highlight .gr { color: #FF0000 } /* Generic.Error */
.highlight .gh { color: #000080; font-weight: bold } /* Generic.Heading */
.highlight .gi { color: #00A000 } /* Generic.Inserted */
.highlight .go { color: #888888 } /* Generic.Output */
.highlight .gp { color: #000080; font-weight: bold } /* Generic.Prompt */
.highlight .gs { font-weight: bold } /* Generic.Strong */
.highlight .gu { color: #800080; font-weight: bold } /* Generic.Subheading */
.highlight .gt { color: #0044DD } /* Generic.Traceback */
.highlight .kc { color: #008000; font-weight: bold } /* Keyword.Constant */
.highlight .kd { color: #008000; font-weight: bold } /* Keyword.Declaration */
.highlight .kn { color: #008000; font-weight: bold } /* Keyword.Namespace */
.highlight .kp { color: #008000 } /* Keyword.Pseudo */
.highlight .kr { color: #008000; font-weight: bold } /* Keyword.Reserved */
.highlight .kt { color: #B00040 } /* Keyword.Type */
.highlight .m { color: #666666 } /* Literal.Number */
.highlight .s { color: #BA2121 } /* Literal.String */
.highlight .na { color: #7D9029 } /* Name.Attribute */
.highlight .nb { color: #008000 } /* Name.Builtin */
.highlight .nc { color: #0000FF; font-weight: bold } /* Name.Class */
.highlight .no { color: #880000 } /* Name.Constant */
.highlight .nd { color: #AA22FF } /* Name.Decorator */
.highlight .ni { color: #999999; font-weight: bold } /* Name.Entity */
.highlight .ne { color: #D2413A; font-weight: bold } /* Name.Exception */
.highlight .nf { color: #0000FF } /* Name.Function */
.highlight .nl { color: #A0A000 } /* Name.Label */
.highlight .nn { color: #0000FF; font-weight: bold } /* Name.Namespace */
.highlight .nt { color: #008000; font-weight: bold } /* Name.Tag */
.highlight .nv { color: #19177C } /* Name.Variable */
.highlight .ow { color: #AA22FF; font-weight: bold } /* Operator.Word */
.highlight .w { color: #bbbbbb } /* Text.Whitespace */
.highlight .mb { color: #666666 } /* Literal.Number.Bin */
.highlight .mf { color: #666666 } /* Literal.Number.Float */
.highlight .mh { color: #666666 } /* Literal.Number.Hex */
.highlight .mi { color: #666666 } /* Literal.Number.Integer */
.highlight .mo { color: #666666 } /* Literal.Number.Oct */
.highlight .sa { color: #BA2121 } /* Literal.String.Affix */
.highlight .sb { color: #BA2121 } /* Literal.String.Backtick */
.highlight .sc { color: #BA2121 } /* Literal.String.Char */
.highlight .dl { color: #BA2121 } /* Literal.String.Delimiter */
.highlight .sd { color: #BA2121; font-style: italic } /* Literal.String.Doc */
.highlight .s2 { color: #BA2121 } /* Literal.String.Double */
.highlight .se { color: #BB6622; font-weight: bold } /* Literal.String.Escape */
.highlight .sh { color: #BA2121 } /* Literal.String.Heredoc */
.highlight .si { color: #BB6688; font-weight: bold } /* Literal.String.Interpol */
.highlight .sx { color: #008000 } /* Literal.String.Other */
.highlight .sr { color: #BB6688 } /* Literal.String.Regex */
.highlight .s1 { color: #BA2121 } /* Literal.String.Single */
.highlight .ss { color: #19177C } /* Literal.String.Symbol */
.highlight .bp { color: #008000 } /* Name.Builtin.Pseudo */
.highlight .fm { color: #0000FF } /* Name.Function.Magic */
.highlight .vc { color: #19177C } /* Name.Variable.Class */
.highlight .vg { color: #19177C } /* Name.Variable.Global */
.highlight .vi { color: #19177C } /* Name.Variable.Instance */
.highlight .vm { color: #19177C } /* Name.Variable.Magic */
.highlight .il { color: #666666 } /* Literal.Number.Integer.Long */
    </style>


<style type="text/css">
/* Overrides of notebook CSS for static HTML export */
body {
  overflow: visible;
  padding: 8px;
}

div#notebook {
  overflow: visible;
  border-top: none;
}@media print {
  div.cell {
    display: block;
    page-break-inside: avoid;
  } 
  div.output_wrapper { 
    display: block;
    page-break-inside: avoid; 
  }
  div.output { 
    display: block;
    page-break-inside: avoid; 
  }
}
</style>

<!-- Custom stylesheet, it must be in the same directory as the html file -->
<link rel="stylesheet" href="custom.css">

<!-- Loading mathjax macro -->
<!-- Load mathjax -->
    <script src="https://cdnjs.cloudflare.com/ajax/libs/mathjax/2.7.5/latest.js?config=TeX-AMS_HTML"></script>
    <!-- MathJax configuration -->
    <script type="text/x-mathjax-config">
    MathJax.Hub.Config({
        tex2jax: {
            inlineMath: [ ['$','$'], ["\\(","\\)"] ],
            displayMath: [ ['$$','$$'], ["\\[","\\]"] ],
            processEscapes: true,
            processEnvironments: true
        },
        // Center justify equations in code and markdown cells. Elsewhere
        // we use CSS to left justify single line equations in code cells.
        displayAlign: 'center',
        "HTML-CSS": {
            styles: {'.MathJax_Display': {"margin": 0}},
            linebreaks: { automatic: true }
        }
    });
    </script>
    <!-- End of mathjax configuration --></head>
<body>
  <div tabindex="-1" id="notebook" class="border-box-sizing">
    <div class="container" id="notebook-container">

<div class="cell border-box-sizing code_cell rendered">
<div class="input">
<div class="prompt input_prompt">In&nbsp;[1]:</div>
<div class="inner_cell">
    <div class="input_area">
<div class=" highlight hl-ipython3"><pre><span></span><span class="kn">import</span> <span class="nn">numpy</span> <span class="k">as</span> <span class="nn">np</span>
<span class="kn">import</span> <span class="nn">pandas</span> <span class="k">as</span> <span class="nn">pd</span>
<span class="kn">import</span> <span class="nn">matplotlib.pyplot</span> <span class="k">as</span> <span class="nn">plt</span>
<span class="kn">import</span> <span class="nn">math</span>
<span class="kn">import</span> <span class="nn">time</span>
<span class="kn">import</span> <span class="nn">datetime</span>
<span class="kn">from</span> <span class="nn">dateutil</span> <span class="kn">import</span> <span class="n">parser</span>
<span class="kn">import</span> <span class="nn">matplotlib.dates</span> <span class="k">as</span> <span class="nn">mdates</span>
<span class="kn">import</span> <span class="nn">matplotlib.ticker</span> <span class="k">as</span> <span class="nn">plticker</span>

<span class="kn">from</span> <span class="nn">sklearn.preprocessing</span> <span class="kn">import</span> <span class="n">MinMaxScaler</span>
<span class="kn">from</span> <span class="nn">sklearn.metrics</span> <span class="kn">import</span> <span class="n">mean_squared_error</span>

<span class="kn">from</span> <span class="nn">keras.models</span> <span class="kn">import</span> <span class="n">Sequential</span>
<span class="kn">from</span> <span class="nn">keras.layers</span> <span class="kn">import</span> <span class="n">Dense</span>
<span class="kn">from</span> <span class="nn">keras.layers</span> <span class="kn">import</span> <span class="n">LSTM</span><span class="p">,</span> <span class="n">GRU</span>

<span class="c1">#np.set_printoptions(threshold=np.inf)</span>
</pre></div>

    </div>
</div>
</div>

<div class="output_wrapper">
<div class="output">


<div class="output_area">

    <div class="prompt"></div>


<div class="output_subarea output_stream output_stderr output_text">
<pre>Using TensorFlow backend.
/home/pratik/anaconda3/envs/anaconds_python3.6_tf2.0/lib/python3.6/site-packages/requests/__init__.py:80: RequestsDependencyWarning: urllib3 (1.25.7) or chardet (3.0.4) doesn&#39;t match a supported version!
  RequestsDependencyWarning)
</pre>
</div>
</div>

</div>
</div>

</div>
<div class="cell border-box-sizing text_cell rendered"><div class="prompt input_prompt">
</div><div class="inner_cell">
<div class="text_cell_render border-box-sizing rendered_html">
<h1 id="Load-the-dataset">Load the dataset<a class="anchor-link" href="#Load-the-dataset">&#182;</a></h1>
</div>
</div>
</div>
<div class="cell border-box-sizing code_cell rendered">
<div class="input">
<div class="prompt input_prompt">In&nbsp;[2]:</div>
<div class="inner_cell">
    <div class="input_area">
<div class=" highlight hl-ipython3"><pre><span></span><span class="n">org_df</span> <span class="o">=</span> <span class="n">pd</span><span class="o">.</span><span class="n">read_csv</span><span class="p">(</span><span class="s1">&#39;crypto_data_news_reddit_final.csv&#39;</span><span class="p">,</span><span class="n">index_col</span><span class="o">=</span><span class="mi">0</span><span class="p">)</span>
</pre></div>

    </div>
</div>
</div>

</div>
<div class="cell border-box-sizing code_cell rendered">
<div class="input">
<div class="prompt input_prompt">In&nbsp;[3]:</div>
<div class="inner_cell">
    <div class="input_area">
<div class=" highlight hl-ipython3"><pre><span></span><span class="n">org_df</span>
</pre></div>

    </div>
</div>
</div>

<div class="output_wrapper">
<div class="output">


<div class="output_area">

    <div class="prompt output_prompt">Out[3]:</div>



<div class="output_html rendered_html output_subarea output_execute_result">
<div>
<style scoped>
    .dataframe tbody tr th:only-of-type {
        vertical-align: middle;
    }

    .dataframe tbody tr th {
        vertical-align: top;
    }

    .dataframe thead th {
        text-align: right;
    }
</style>
<table border="1" class="dataframe">
  <thead>
    <tr style="text-align: right;">
      <th></th>
      <th>open_BTCUSDT</th>
      <th>high_BTCUSDT</th>
      <th>low_BTCUSDT</th>
      <th>close_BTCUSDT</th>
      <th>volume_BTCUSDT</th>
      <th>close_LTCUSD</th>
      <th>volume_LTCUSD</th>
      <th>close_ETHUSD</th>
      <th>volume_ETHUSD</th>
      <th>gnews_flair</th>
      <th>...</th>
      <th>gnews_sid_neg</th>
      <th>gnews_sid_neu</th>
      <th>gnews_sid_com</th>
      <th>reddit_flair</th>
      <th>reddit_tb_polarity</th>
      <th>reddit_tb_subjectivity</th>
      <th>reddit_sid_pos</th>
      <th>reddit_sid_neg</th>
      <th>reddit_sid_neu</th>
      <th>reddit_sid_com</th>
    </tr>
    <tr>
      <th>timestamp</th>
      <th></th>
      <th></th>
      <th></th>
      <th></th>
      <th></th>
      <th></th>
      <th></th>
      <th></th>
      <th></th>
      <th></th>
      <th></th>
      <th></th>
      <th></th>
      <th></th>
      <th></th>
      <th></th>
      <th></th>
      <th></th>
      <th></th>
      <th></th>
      <th></th>
    </tr>
  </thead>
  <tbody>
    <tr>
      <th>2018-01-01 00:00:00</th>
      <td>13820.26</td>
      <td>13820.26</td>
      <td>13498.05</td>
      <td>13557.88</td>
      <td>210.213142</td>
      <td>222.24</td>
      <td>590.23000</td>
      <td>728.77</td>
      <td>625.293831</td>
      <td>0.04257</td>
      <td>...</td>
      <td>0.025222</td>
      <td>0.909556</td>
      <td>0.624667</td>
      <td>0.000000</td>
      <td>0.000000</td>
      <td>0.000000</td>
      <td>0.000000</td>
      <td>0.000000</td>
      <td>0.000000</td>
      <td>0.000000</td>
    </tr>
    <tr>
      <th>2018-01-01 01:00:00</th>
      <td>13557.88</td>
      <td>13585.66</td>
      <td>13250.50</td>
      <td>13262.85</td>
      <td>191.931776</td>
      <td>215.20</td>
      <td>698.36000</td>
      <td>724.27</td>
      <td>710.891607</td>
      <td>0.04257</td>
      <td>...</td>
      <td>0.025222</td>
      <td>0.909556</td>
      <td>0.624667</td>
      <td>-0.267228</td>
      <td>0.046199</td>
      <td>0.257910</td>
      <td>0.105625</td>
      <td>0.091875</td>
      <td>0.802500</td>
      <td>0.181325</td>
    </tr>
    <tr>
      <th>2018-01-01 02:00:00</th>
      <td>13262.85</td>
      <td>13400.00</td>
      <td>13186.02</td>
      <td>13320.00</td>
      <td>169.456410</td>
      <td>215.36</td>
      <td>464.55000</td>
      <td>722.11</td>
      <td>849.257651</td>
      <td>0.04257</td>
      <td>...</td>
      <td>0.025222</td>
      <td>0.909556</td>
      <td>0.624667</td>
      <td>-0.300781</td>
      <td>-0.077217</td>
      <td>0.273153</td>
      <td>0.032000</td>
      <td>0.019333</td>
      <td>0.948667</td>
      <td>0.330133</td>
    </tr>
    <tr>
      <th>2018-01-01 03:00:00</th>
      <td>13320.00</td>
      <td>13515.44</td>
      <td>13308.54</td>
      <td>13372.00</td>
      <td>80.455327</td>
      <td>219.30</td>
      <td>407.81000</td>
      <td>733.19</td>
      <td>556.397003</td>
      <td>0.04257</td>
      <td>...</td>
      <td>0.025222</td>
      <td>0.909556</td>
      <td>0.624667</td>
      <td>0.082537</td>
      <td>0.242468</td>
      <td>0.404416</td>
      <td>0.156286</td>
      <td>0.025000</td>
      <td>0.818714</td>
      <td>0.280143</td>
    </tr>
    <tr>
      <th>2018-01-01 04:00:00</th>
      <td>13372.00</td>
      <td>13499.83</td>
      <td>13279.50</td>
      <td>13483.06</td>
      <td>127.212610</td>
      <td>223.72</td>
      <td>965.39000</td>
      <td>738.59</td>
      <td>1247.722800</td>
      <td>0.04257</td>
      <td>...</td>
      <td>0.025222</td>
      <td>0.909556</td>
      <td>0.624667</td>
      <td>0.443654</td>
      <td>0.235317</td>
      <td>0.321429</td>
      <td>0.153143</td>
      <td>0.005143</td>
      <td>0.841714</td>
      <td>0.341757</td>
    </tr>
    <tr>
      <th>...</th>
      <td>...</td>
      <td>...</td>
      <td>...</td>
      <td>...</td>
      <td>...</td>
      <td>...</td>
      <td>...</td>
      <td>...</td>
      <td>...</td>
      <td>...</td>
      <td>...</td>
      <td>...</td>
      <td>...</td>
      <td>...</td>
      <td>...</td>
      <td>...</td>
      <td>...</td>
      <td>...</td>
      <td>...</td>
      <td>...</td>
      <td>...</td>
    </tr>
    <tr>
      <th>2019-11-20 19:00:00</th>
      <td>8099.26</td>
      <td>8109.92</td>
      <td>8077.82</td>
      <td>8086.65</td>
      <td>1.910237</td>
      <td>54.68</td>
      <td>26.89869</td>
      <td>174.40</td>
      <td>22.319940</td>
      <td>-0.07582</td>
      <td>...</td>
      <td>0.045111</td>
      <td>0.864333</td>
      <td>0.457411</td>
      <td>0.328284</td>
      <td>0.142630</td>
      <td>0.506278</td>
      <td>0.110429</td>
      <td>0.049857</td>
      <td>0.839857</td>
      <td>0.092543</td>
    </tr>
    <tr>
      <th>2019-11-20 20:00:00</th>
      <td>8083.19</td>
      <td>8111.17</td>
      <td>8081.72</td>
      <td>8102.66</td>
      <td>9.783435</td>
      <td>55.06</td>
      <td>21.18500</td>
      <td>174.45</td>
      <td>25.050680</td>
      <td>-0.07582</td>
      <td>...</td>
      <td>0.045111</td>
      <td>0.864333</td>
      <td>0.457411</td>
      <td>0.000208</td>
      <td>0.375000</td>
      <td>0.500000</td>
      <td>0.314500</td>
      <td>0.000000</td>
      <td>0.685500</td>
      <td>0.511350</td>
    </tr>
    <tr>
      <th>2019-11-20 21:00:00</th>
      <td>8096.06</td>
      <td>8111.25</td>
      <td>8078.80</td>
      <td>8098.29</td>
      <td>1.726209</td>
      <td>55.10</td>
      <td>16.47622</td>
      <td>175.48</td>
      <td>32.281160</td>
      <td>-0.07582</td>
      <td>...</td>
      <td>0.045111</td>
      <td>0.864333</td>
      <td>0.457411</td>
      <td>0.187590</td>
      <td>-0.077778</td>
      <td>0.144444</td>
      <td>0.000000</td>
      <td>0.157500</td>
      <td>0.842500</td>
      <td>-0.248400</td>
    </tr>
    <tr>
      <th>2019-11-20 22:00:00</th>
      <td>8097.40</td>
      <td>8113.96</td>
      <td>8084.94</td>
      <td>8091.13</td>
      <td>1.683230</td>
      <td>54.90</td>
      <td>35.17709</td>
      <td>174.72</td>
      <td>5.926510</td>
      <td>-0.07582</td>
      <td>...</td>
      <td>0.045111</td>
      <td>0.864333</td>
      <td>0.457411</td>
      <td>0.996935</td>
      <td>0.050000</td>
      <td>0.191667</td>
      <td>0.252000</td>
      <td>0.000000</td>
      <td>0.748000</td>
      <td>0.401900</td>
    </tr>
    <tr>
      <th>2019-11-20 23:00:00</th>
      <td>8091.13</td>
      <td>8102.08</td>
      <td>8077.09</td>
      <td>8094.38</td>
      <td>4.582621</td>
      <td>54.92</td>
      <td>12.87105</td>
      <td>174.33</td>
      <td>16.345070</td>
      <td>-0.07582</td>
      <td>...</td>
      <td>0.045111</td>
      <td>0.864333</td>
      <td>0.457411</td>
      <td>0.188940</td>
      <td>0.029896</td>
      <td>0.147014</td>
      <td>0.042000</td>
      <td>0.035333</td>
      <td>0.922667</td>
      <td>-0.282500</td>
    </tr>
  </tbody>
</table>
<p>16536 rows × 23 columns</p>
</div>
</div>

</div>

</div>
</div>

</div>
<div class="cell border-box-sizing code_cell rendered">
<div class="input">
<div class="prompt input_prompt">In&nbsp;[4]:</div>
<div class="inner_cell">
    <div class="input_area">
<div class=" highlight hl-ipython3"><pre><span></span><span class="n">org_df</span><span class="o">.</span><span class="n">columns</span>
</pre></div>

    </div>
</div>
</div>

<div class="output_wrapper">
<div class="output">


<div class="output_area">

    <div class="prompt output_prompt">Out[4]:</div>




<div class="output_text output_subarea output_execute_result">
<pre>Index([&#39;open_BTCUSDT&#39;, &#39;high_BTCUSDT&#39;, &#39;low_BTCUSDT&#39;, &#39;close_BTCUSDT&#39;,
       &#39;volume_BTCUSDT&#39;, &#39;close_LTCUSD&#39;, &#39;volume_LTCUSD&#39;, &#39;close_ETHUSD&#39;,
       &#39;volume_ETHUSD&#39;, &#39;gnews_flair&#39;, &#39;gnews_tb_polarity&#39;,
       &#39;gnews_tb_subjectivity&#39;, &#39;gnews_sid_pos&#39;, &#39;gnews_sid_neg&#39;,
       &#39;gnews_sid_neu&#39;, &#39;gnews_sid_com&#39;, &#39;reddit_flair&#39;, &#39;reddit_tb_polarity&#39;,
       &#39;reddit_tb_subjectivity&#39;, &#39;reddit_sid_pos&#39;, &#39;reddit_sid_neg&#39;,
       &#39;reddit_sid_neu&#39;, &#39;reddit_sid_com&#39;],
      dtype=&#39;object&#39;)</pre>
</div>

</div>

</div>
</div>

</div>
<div class="cell border-box-sizing text_cell rendered"><div class="prompt input_prompt">
</div><div class="inner_cell">
<div class="text_cell_render border-box-sizing rendered_html">
<h1 id="Features-engineering">Features engineering<a class="anchor-link" href="#Features-engineering">&#182;</a></h1>
</div>
</div>
</div>
<div class="cell border-box-sizing code_cell rendered">
<div class="input">
<div class="prompt input_prompt">In&nbsp;[5]:</div>
<div class="inner_cell">
    <div class="input_area">
<div class=" highlight hl-ipython3"><pre><span></span><span class="n">org_df</span><span class="p">[</span><span class="s1">&#39;flair&#39;</span><span class="p">]</span> <span class="o">=</span> <span class="n">org_df</span><span class="p">[</span><span class="s1">&#39;gnews_flair&#39;</span><span class="p">]</span> <span class="o">+</span> <span class="n">org_df</span><span class="p">[</span><span class="s1">&#39;reddit_flair&#39;</span><span class="p">]</span>
<span class="n">org_df</span><span class="p">[</span><span class="s1">&#39;tb_polarity&#39;</span><span class="p">]</span> <span class="o">=</span> <span class="n">org_df</span><span class="p">[</span><span class="s1">&#39;gnews_tb_polarity&#39;</span><span class="p">]</span> <span class="o">+</span> <span class="n">org_df</span><span class="p">[</span><span class="s1">&#39;reddit_tb_polarity&#39;</span><span class="p">]</span>
<span class="n">org_df</span><span class="p">[</span><span class="s1">&#39;tb_subjectivity&#39;</span><span class="p">]</span> <span class="o">=</span> <span class="n">org_df</span><span class="p">[</span><span class="s1">&#39;gnews_tb_subjectivity&#39;</span><span class="p">]</span> <span class="o">+</span> <span class="n">org_df</span><span class="p">[</span><span class="s1">&#39;reddit_tb_subjectivity&#39;</span><span class="p">]</span>
<span class="n">org_df</span><span class="p">[</span><span class="s1">&#39;sid_pos&#39;</span><span class="p">]</span> <span class="o">=</span> <span class="n">org_df</span><span class="p">[</span><span class="s1">&#39;gnews_sid_pos&#39;</span><span class="p">]</span> <span class="o">+</span> <span class="n">org_df</span><span class="p">[</span><span class="s1">&#39;reddit_sid_pos&#39;</span><span class="p">]</span>
<span class="n">org_df</span><span class="p">[</span><span class="s1">&#39;sid_neg&#39;</span><span class="p">]</span> <span class="o">=</span> <span class="n">org_df</span><span class="p">[</span><span class="s1">&#39;gnews_sid_neg&#39;</span><span class="p">]</span> <span class="o">+</span> <span class="n">org_df</span><span class="p">[</span><span class="s1">&#39;reddit_sid_neg&#39;</span><span class="p">]</span>
<span class="n">org_df</span> <span class="o">=</span> <span class="n">org_df</span><span class="p">[[</span><span class="s1">&#39;open_BTCUSDT&#39;</span><span class="p">,</span><span class="s1">&#39;high_BTCUSDT&#39;</span><span class="p">,</span><span class="s1">&#39;low_BTCUSDT&#39;</span><span class="p">,</span> <span class="s1">&#39;close_BTCUSDT&#39;</span><span class="p">,</span> <span class="s1">&#39;volume_BTCUSDT&#39;</span><span class="p">,</span> <span class="s1">&#39;close_LTCUSD&#39;</span><span class="p">,</span> <span class="s1">&#39;volume_LTCUSD&#39;</span><span class="p">,</span> <span class="s1">&#39;close_ETHUSD&#39;</span><span class="p">,</span> <span class="s1">&#39;volume_ETHUSD&#39;</span><span class="p">,</span> <span class="s1">&#39;flair&#39;</span><span class="p">,</span> <span class="s1">&#39;tb_polarity&#39;</span><span class="p">,</span> <span class="s1">&#39;tb_subjectivity&#39;</span><span class="p">,</span> <span class="s1">&#39;sid_pos&#39;</span><span class="p">,</span> <span class="s1">&#39;sid_neg&#39;</span><span class="p">]]</span>
</pre></div>

    </div>
</div>
</div>

</div>
<div class="cell border-box-sizing code_cell rendered">
<div class="input">
<div class="prompt input_prompt">In&nbsp;[6]:</div>
<div class="inner_cell">
    <div class="input_area">
<div class=" highlight hl-ipython3"><pre><span></span><span class="n">org_df</span>
</pre></div>

    </div>
</div>
</div>

<div class="output_wrapper">
<div class="output">


<div class="output_area">

    <div class="prompt output_prompt">Out[6]:</div>



<div class="output_html rendered_html output_subarea output_execute_result">
<div>
<style scoped>
    .dataframe tbody tr th:only-of-type {
        vertical-align: middle;
    }

    .dataframe tbody tr th {
        vertical-align: top;
    }

    .dataframe thead th {
        text-align: right;
    }
</style>
<table border="1" class="dataframe">
  <thead>
    <tr style="text-align: right;">
      <th></th>
      <th>open_BTCUSDT</th>
      <th>high_BTCUSDT</th>
      <th>low_BTCUSDT</th>
      <th>close_BTCUSDT</th>
      <th>volume_BTCUSDT</th>
      <th>close_LTCUSD</th>
      <th>volume_LTCUSD</th>
      <th>close_ETHUSD</th>
      <th>volume_ETHUSD</th>
      <th>flair</th>
      <th>tb_polarity</th>
      <th>tb_subjectivity</th>
      <th>sid_pos</th>
      <th>sid_neg</th>
    </tr>
    <tr>
      <th>timestamp</th>
      <th></th>
      <th></th>
      <th></th>
      <th></th>
      <th></th>
      <th></th>
      <th></th>
      <th></th>
      <th></th>
      <th></th>
      <th></th>
      <th></th>
      <th></th>
      <th></th>
    </tr>
  </thead>
  <tbody>
    <tr>
      <th>2018-01-01 00:00:00</th>
      <td>13820.26</td>
      <td>13820.26</td>
      <td>13498.05</td>
      <td>13557.88</td>
      <td>210.213142</td>
      <td>222.24</td>
      <td>590.23000</td>
      <td>728.77</td>
      <td>625.293831</td>
      <td>0.042570</td>
      <td>0.067753</td>
      <td>0.323211</td>
      <td>0.065111</td>
      <td>0.025222</td>
    </tr>
    <tr>
      <th>2018-01-01 01:00:00</th>
      <td>13557.88</td>
      <td>13585.66</td>
      <td>13250.50</td>
      <td>13262.85</td>
      <td>191.931776</td>
      <td>215.20</td>
      <td>698.36000</td>
      <td>724.27</td>
      <td>710.891607</td>
      <td>-0.224657</td>
      <td>0.113953</td>
      <td>0.581122</td>
      <td>0.170736</td>
      <td>0.117097</td>
    </tr>
    <tr>
      <th>2018-01-01 02:00:00</th>
      <td>13262.85</td>
      <td>13400.00</td>
      <td>13186.02</td>
      <td>13320.00</td>
      <td>169.456410</td>
      <td>215.36</td>
      <td>464.55000</td>
      <td>722.11</td>
      <td>849.257651</td>
      <td>-0.258211</td>
      <td>-0.009463</td>
      <td>0.596365</td>
      <td>0.097111</td>
      <td>0.044556</td>
    </tr>
    <tr>
      <th>2018-01-01 03:00:00</th>
      <td>13320.00</td>
      <td>13515.44</td>
      <td>13308.54</td>
      <td>13372.00</td>
      <td>80.455327</td>
      <td>219.30</td>
      <td>407.81000</td>
      <td>733.19</td>
      <td>556.397003</td>
      <td>0.125107</td>
      <td>0.310221</td>
      <td>0.727627</td>
      <td>0.221397</td>
      <td>0.050222</td>
    </tr>
    <tr>
      <th>2018-01-01 04:00:00</th>
      <td>13372.00</td>
      <td>13499.83</td>
      <td>13279.50</td>
      <td>13483.06</td>
      <td>127.212610</td>
      <td>223.72</td>
      <td>965.39000</td>
      <td>738.59</td>
      <td>1247.722800</td>
      <td>0.486225</td>
      <td>0.303071</td>
      <td>0.644640</td>
      <td>0.218254</td>
      <td>0.030365</td>
    </tr>
    <tr>
      <th>...</th>
      <td>...</td>
      <td>...</td>
      <td>...</td>
      <td>...</td>
      <td>...</td>
      <td>...</td>
      <td>...</td>
      <td>...</td>
      <td>...</td>
      <td>...</td>
      <td>...</td>
      <td>...</td>
      <td>...</td>
      <td>...</td>
    </tr>
    <tr>
      <th>2019-11-20 19:00:00</th>
      <td>8099.26</td>
      <td>8109.92</td>
      <td>8077.82</td>
      <td>8086.65</td>
      <td>1.910237</td>
      <td>54.68</td>
      <td>26.89869</td>
      <td>174.40</td>
      <td>22.319940</td>
      <td>0.252464</td>
      <td>0.230229</td>
      <td>0.928645</td>
      <td>0.200984</td>
      <td>0.094968</td>
    </tr>
    <tr>
      <th>2019-11-20 20:00:00</th>
      <td>8083.19</td>
      <td>8111.17</td>
      <td>8081.72</td>
      <td>8102.66</td>
      <td>9.783435</td>
      <td>55.06</td>
      <td>21.18500</td>
      <td>174.45</td>
      <td>25.050680</td>
      <td>-0.075611</td>
      <td>0.462598</td>
      <td>0.922367</td>
      <td>0.405056</td>
      <td>0.045111</td>
    </tr>
    <tr>
      <th>2019-11-20 21:00:00</th>
      <td>8096.06</td>
      <td>8111.25</td>
      <td>8078.80</td>
      <td>8098.29</td>
      <td>1.726209</td>
      <td>55.10</td>
      <td>16.47622</td>
      <td>175.48</td>
      <td>32.281160</td>
      <td>0.111770</td>
      <td>0.009821</td>
      <td>0.566811</td>
      <td>0.090556</td>
      <td>0.202611</td>
    </tr>
    <tr>
      <th>2019-11-20 22:00:00</th>
      <td>8097.40</td>
      <td>8113.96</td>
      <td>8084.94</td>
      <td>8091.13</td>
      <td>1.683230</td>
      <td>54.90</td>
      <td>35.17709</td>
      <td>174.72</td>
      <td>5.926510</td>
      <td>0.921115</td>
      <td>0.137598</td>
      <td>0.614033</td>
      <td>0.342556</td>
      <td>0.045111</td>
    </tr>
    <tr>
      <th>2019-11-20 23:00:00</th>
      <td>8091.13</td>
      <td>8102.08</td>
      <td>8077.09</td>
      <td>8094.38</td>
      <td>4.582621</td>
      <td>54.92</td>
      <td>12.87105</td>
      <td>174.33</td>
      <td>16.345070</td>
      <td>0.113121</td>
      <td>0.117494</td>
      <td>0.569380</td>
      <td>0.132556</td>
      <td>0.080444</td>
    </tr>
  </tbody>
</table>
<p>16536 rows × 14 columns</p>
</div>
</div>

</div>

</div>
</div>

</div>
<div class="cell border-box-sizing text_cell rendered"><div class="prompt input_prompt">
</div><div class="inner_cell">
<div class="text_cell_render border-box-sizing rendered_html">
<h1 id="Dataset-scalling">Dataset scalling<a class="anchor-link" href="#Dataset-scalling">&#182;</a></h1>
</div>
</div>
</div>
<div class="cell border-box-sizing code_cell rendered">
<div class="input">
<div class="prompt input_prompt">In&nbsp;[7]:</div>
<div class="inner_cell">
    <div class="input_area">
<div class=" highlight hl-ipython3"><pre><span></span><span class="n">dataset</span> <span class="o">=</span> <span class="n">org_df</span><span class="o">.</span><span class="n">values</span>
<span class="n">dataset</span> <span class="o">=</span> <span class="n">dataset</span><span class="o">.</span><span class="n">astype</span><span class="p">(</span><span class="s1">&#39;float32&#39;</span><span class="p">)</span>
<span class="n">scaler</span> <span class="o">=</span> <span class="n">MinMaxScaler</span><span class="p">(</span><span class="n">feature_range</span><span class="o">=</span><span class="p">(</span><span class="mi">0</span><span class="p">,</span> <span class="mi">1</span><span class="p">))</span>
<span class="n">dataset</span> <span class="o">=</span> <span class="n">scaler</span><span class="o">.</span><span class="n">fit_transform</span><span class="p">(</span><span class="n">dataset</span><span class="p">)</span>
<span class="c1">#print(&#39;dataset.shape&#39;, dataset.shape)</span>
<span class="n">num_of_features</span> <span class="o">=</span> <span class="nb">len</span><span class="p">(</span><span class="n">org_df</span><span class="o">.</span><span class="n">columns</span><span class="p">)</span>
<span class="nb">print</span><span class="p">(</span><span class="s1">&#39;Number of features&#39;</span><span class="p">,</span> <span class="n">num_of_features</span><span class="p">)</span>
</pre></div>

    </div>
</div>
</div>

<div class="output_wrapper">
<div class="output">


<div class="output_area">

    <div class="prompt"></div>


<div class="output_subarea output_stream output_stdout output_text">
<pre>Number of features 14
</pre>
</div>
</div>

</div>
</div>

</div>
<div class="cell border-box-sizing text_cell rendered"><div class="prompt input_prompt">
</div><div class="inner_cell">
<div class="text_cell_render border-box-sizing rendered_html">
<h1 id="Configuration">Configuration<a class="anchor-link" href="#Configuration">&#182;</a></h1>
</div>
</div>
</div>
<div class="cell border-box-sizing code_cell rendered">
<div class="input">
<div class="prompt input_prompt">In&nbsp;[8]:</div>
<div class="inner_cell">
    <div class="input_area">
<div class=" highlight hl-ipython3"><pre><span></span><span class="n">expr_name</span> <span class="o">=</span> <span class="s1">&#39;expr_15&#39;</span>
<span class="n">look_back</span> <span class="o">=</span> <span class="mi">24</span><span class="o">*</span><span class="mi">120</span> <span class="c1"># 60 days, as each entry is for 1 hour</span>
<span class="n">lstm_layers</span> <span class="o">=</span> <span class="mi">64</span>
<span class="n">epochs</span><span class="o">=</span><span class="mi">5</span>
<span class="n">batch_size</span><span class="o">=</span><span class="mi">64</span>
</pre></div>

    </div>
</div>
</div>

</div>
<div class="cell border-box-sizing text_cell rendered"><div class="prompt input_prompt">
</div><div class="inner_cell">
<div class="text_cell_render border-box-sizing rendered_html">
<h1 id="spliting-datasets-into-train-and-test">spliting datasets into train and test<a class="anchor-link" href="#spliting-datasets-into-train-and-test">&#182;</a></h1>
</div>
</div>
</div>
<div class="cell border-box-sizing code_cell rendered">
<div class="input">
<div class="prompt input_prompt">In&nbsp;[9]:</div>
<div class="inner_cell">
    <div class="input_area">
<div class=" highlight hl-ipython3"><pre><span></span><span class="n">train_size_percent</span> <span class="o">=</span> <span class="mf">0.80</span>
<span class="n">pred_col</span> <span class="o">=</span> <span class="n">org_df</span><span class="o">.</span><span class="n">columns</span><span class="o">.</span><span class="n">get_loc</span><span class="p">(</span><span class="s1">&#39;close_BTCUSDT&#39;</span><span class="p">)</span>

<span class="c1"># function to split the data</span>
<span class="k">def</span> <span class="nf">create_dataset</span><span class="p">(</span><span class="n">dataset</span><span class="p">,</span> <span class="n">pred_col</span><span class="p">,</span> <span class="n">look_back</span><span class="o">=</span><span class="mi">1</span><span class="p">):</span>
  <span class="n">dataX</span><span class="p">,</span> <span class="n">dataY</span> <span class="o">=</span> <span class="p">[],</span> <span class="p">[]</span>
  <span class="k">for</span> <span class="n">i</span> <span class="ow">in</span> <span class="nb">range</span><span class="p">(</span><span class="nb">len</span><span class="p">(</span><span class="n">dataset</span><span class="p">)</span><span class="o">-</span><span class="n">look_back</span><span class="o">-</span><span class="mi">1</span><span class="p">):</span>
    <span class="n">a</span> <span class="o">=</span> <span class="n">dataset</span><span class="p">[</span><span class="n">i</span><span class="p">:(</span><span class="n">i</span><span class="o">+</span><span class="n">look_back</span><span class="p">),</span> <span class="p">:]</span>
    <span class="n">dataX</span><span class="o">.</span><span class="n">append</span><span class="p">(</span><span class="n">a</span><span class="p">)</span>
    <span class="n">dataY</span><span class="o">.</span><span class="n">append</span><span class="p">(</span><span class="n">dataset</span><span class="p">[</span><span class="n">i</span> <span class="o">+</span> <span class="n">look_back</span><span class="p">,</span> <span class="n">pred_col</span><span class="p">])</span>
  <span class="k">return</span> <span class="n">np</span><span class="o">.</span><span class="n">array</span><span class="p">(</span><span class="n">dataX</span><span class="p">),</span> <span class="n">np</span><span class="o">.</span><span class="n">array</span><span class="p">(</span><span class="n">dataY</span><span class="p">)</span>


<span class="n">train_size</span> <span class="o">=</span> <span class="nb">int</span><span class="p">(</span><span class="nb">len</span><span class="p">(</span><span class="n">dataset</span><span class="p">)</span> <span class="o">*</span> <span class="n">train_size_percent</span><span class="p">)</span>
<span class="n">test_size</span> <span class="o">=</span> <span class="nb">len</span><span class="p">(</span><span class="n">dataset</span><span class="p">)</span> <span class="o">-</span> <span class="n">train_size</span>
<span class="n">train</span><span class="p">,</span> <span class="n">test</span> <span class="o">=</span> <span class="n">dataset</span><span class="p">[</span><span class="mi">0</span><span class="p">:</span><span class="n">train_size</span><span class="p">,</span> <span class="p">:],</span> <span class="n">dataset</span><span class="p">[</span><span class="n">train_size</span><span class="p">:</span><span class="nb">len</span><span class="p">(</span><span class="n">dataset</span><span class="p">),</span> <span class="p">:]</span>

<span class="n">trainX</span><span class="p">,</span> <span class="n">trainY</span> <span class="o">=</span> <span class="n">create_dataset</span><span class="p">(</span><span class="n">train</span><span class="p">,</span> <span class="n">pred_col</span><span class="p">,</span> <span class="n">look_back</span><span class="o">=</span><span class="n">look_back</span><span class="p">)</span>
<span class="n">testX</span><span class="p">,</span> <span class="n">testY</span> <span class="o">=</span> <span class="n">create_dataset</span><span class="p">(</span><span class="n">test</span><span class="p">,</span> <span class="n">pred_col</span><span class="p">,</span> <span class="n">look_back</span><span class="o">=</span><span class="n">look_back</span><span class="p">)</span>
<span class="c1"># reshape input to be  [samples, time steps, features]</span>
<span class="n">trainX</span> <span class="o">=</span> <span class="n">np</span><span class="o">.</span><span class="n">reshape</span><span class="p">(</span><span class="n">trainX</span><span class="p">,</span> <span class="p">(</span><span class="n">trainX</span><span class="o">.</span><span class="n">shape</span><span class="p">[</span><span class="mi">0</span><span class="p">],</span> <span class="n">look_back</span><span class="p">,</span> <span class="n">num_of_features</span><span class="p">))</span>
<span class="n">testX</span> <span class="o">=</span> <span class="n">np</span><span class="o">.</span><span class="n">reshape</span><span class="p">(</span><span class="n">testX</span><span class="p">,</span> <span class="p">(</span><span class="n">testX</span><span class="o">.</span><span class="n">shape</span><span class="p">[</span><span class="mi">0</span><span class="p">],</span><span class="n">look_back</span><span class="p">,</span> <span class="n">num_of_features</span><span class="p">))</span>

<span class="nb">print</span><span class="p">(</span><span class="s1">&#39;Training dataset length &#39;</span><span class="p">,</span> <span class="nb">len</span><span class="p">(</span><span class="n">train</span><span class="p">))</span>
<span class="nb">print</span><span class="p">(</span><span class="s1">&#39;Testing dataset length &#39;</span><span class="p">,</span> <span class="nb">len</span><span class="p">(</span><span class="n">test</span><span class="p">))</span>
<span class="nb">print</span><span class="p">(</span><span class="s1">&#39;look_back &#39;</span><span class="p">,</span> <span class="n">look_back</span><span class="p">)</span>
</pre></div>

    </div>
</div>
</div>

<div class="output_wrapper">
<div class="output">


<div class="output_area">

    <div class="prompt"></div>


<div class="output_subarea output_stream output_stdout output_text">
<pre>Training dataset length  13228
Testing dataset length  3308
look_back  2880
</pre>
</div>
</div>

</div>
</div>

</div>
<div class="cell border-box-sizing text_cell rendered"><div class="prompt input_prompt">
</div><div class="inner_cell">
<div class="text_cell_render border-box-sizing rendered_html">
<h1 id="Build-the-model-and-train">Build the model and train<a class="anchor-link" href="#Build-the-model-and-train">&#182;</a></h1>
</div>
</div>
</div>
<div class="cell border-box-sizing code_cell rendered">
<div class="input">
<div class="prompt input_prompt">In&nbsp;[10]:</div>
<div class="inner_cell">
    <div class="input_area">
<div class=" highlight hl-ipython3"><pre><span></span><span class="c1"># create and fit the LSTM network</span>

<span class="n">model</span> <span class="o">=</span> <span class="n">Sequential</span><span class="p">()</span>
<span class="n">model</span><span class="o">.</span><span class="n">add</span><span class="p">(</span><span class="n">GRU</span><span class="p">(</span><span class="n">lstm_layers</span><span class="p">,</span> <span class="n">return_sequences</span><span class="o">=</span><span class="kc">True</span><span class="p">,</span> <span class="n">input_shape</span><span class="o">=</span><span class="p">(</span><span class="n">look_back</span><span class="p">,</span><span class="n">num_of_features</span><span class="p">)))</span>
<span class="n">model</span><span class="o">.</span><span class="n">add</span><span class="p">(</span><span class="n">GRU</span><span class="p">(</span><span class="n">lstm_layers</span><span class="p">))</span>
<span class="n">model</span><span class="o">.</span><span class="n">add</span><span class="p">(</span><span class="n">Dense</span><span class="p">(</span><span class="mi">1</span><span class="p">))</span>
<span class="n">model</span><span class="o">.</span><span class="n">compile</span><span class="p">(</span><span class="n">loss</span><span class="o">=</span><span class="s1">&#39;mean_squared_error&#39;</span><span class="p">,</span> <span class="n">optimizer</span><span class="o">=</span><span class="s1">&#39;adam&#39;</span><span class="p">)</span>
<span class="n">history</span><span class="o">=</span> <span class="n">model</span><span class="o">.</span><span class="n">fit</span><span class="p">(</span><span class="n">trainX</span><span class="p">,</span> <span class="n">trainY</span><span class="p">,</span><span class="n">validation_split</span><span class="o">=</span><span class="mf">0.30</span><span class="p">,</span> <span class="n">epochs</span><span class="o">=</span><span class="n">epochs</span><span class="p">,</span> <span class="n">batch_size</span><span class="o">=</span><span class="n">batch_size</span><span class="p">,</span><span class="n">shuffle</span><span class="o">=</span><span class="kc">False</span><span class="p">)</span>
</pre></div>

    </div>
</div>
</div>

<div class="output_wrapper">
<div class="output">


<div class="output_area">

    <div class="prompt"></div>


<div class="output_subarea output_stream output_stdout output_text">
<pre>Train on 7242 samples, validate on 3105 samples
Epoch 1/5
7242/7242 [==============================] - 716s 99ms/step - loss: 0.0132 - val_loss: 0.0484
Epoch 2/5
7242/7242 [==============================] - 717s 99ms/step - loss: 0.0053 - val_loss: 0.0252
Epoch 3/5
7242/7242 [==============================] - 716s 99ms/step - loss: 0.0023 - val_loss: 0.0115
Epoch 4/5
7242/7242 [==============================] - 716s 99ms/step - loss: 6.2722e-04 - val_loss: 0.0047
Epoch 5/5
7242/7242 [==============================] - 716s 99ms/step - loss: 1.4348e-04 - val_loss: 0.0018
</pre>
</div>
</div>

</div>
</div>

</div>
<div class="cell border-box-sizing code_cell rendered">
<div class="input">
<div class="prompt input_prompt">In&nbsp;[11]:</div>
<div class="inner_cell">
    <div class="input_area">
<div class=" highlight hl-ipython3"><pre><span></span><span class="c1"># Plot training</span>
<span class="n">plt</span><span class="o">.</span><span class="n">plot</span><span class="p">(</span><span class="n">history</span><span class="o">.</span><span class="n">history</span><span class="p">[</span><span class="s1">&#39;loss&#39;</span><span class="p">])</span>
<span class="n">plt</span><span class="o">.</span><span class="n">plot</span><span class="p">(</span><span class="n">history</span><span class="o">.</span><span class="n">history</span><span class="p">[</span><span class="s1">&#39;val_loss&#39;</span><span class="p">])</span>
<span class="n">plt</span><span class="o">.</span><span class="n">title</span><span class="p">(</span><span class="s1">&#39;Model loss&#39;</span><span class="p">)</span>
<span class="n">plt</span><span class="o">.</span><span class="n">ylabel</span><span class="p">(</span><span class="s1">&#39;Loss&#39;</span><span class="p">)</span>
<span class="n">plt</span><span class="o">.</span><span class="n">xlabel</span><span class="p">(</span><span class="s1">&#39;Epoch&#39;</span><span class="p">)</span>
<span class="n">plt</span><span class="o">.</span><span class="n">legend</span><span class="p">([</span><span class="s1">&#39;training&#39;</span><span class="p">,</span> <span class="s1">&#39;validation&#39;</span><span class="p">],</span> <span class="n">loc</span><span class="o">=</span><span class="s1">&#39;upper right&#39;</span><span class="p">)</span>
<span class="n">plt</span><span class="o">.</span><span class="n">show</span><span class="p">()</span>
</pre></div>

    </div>
</div>
</div>

<div class="output_wrapper">
<div class="output">


<div class="output_area">

    <div class="prompt"></div>




<div class="output_png output_subarea ">
<img src="data:image/png;base64,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
"
>
</div>

</div>

</div>
</div>

</div>
<div class="cell border-box-sizing code_cell rendered">
<div class="input">
<div class="prompt input_prompt">In&nbsp;[12]:</div>
<div class="inner_cell">
    <div class="input_area">
<div class=" highlight hl-ipython3"><pre><span></span><span class="n">trainPredict</span> <span class="o">=</span> <span class="n">model</span><span class="o">.</span><span class="n">predict</span><span class="p">(</span><span class="n">trainX</span><span class="p">)</span>
<span class="n">testPredict</span> <span class="o">=</span> <span class="n">model</span><span class="o">.</span><span class="n">predict</span><span class="p">(</span><span class="n">testX</span><span class="p">)</span>

<span class="c1"># Get something which has as many features as dataset</span>
<span class="n">trainPredict_extended</span> <span class="o">=</span> <span class="n">np</span><span class="o">.</span><span class="n">zeros</span><span class="p">((</span><span class="nb">len</span><span class="p">(</span><span class="n">trainPredict</span><span class="p">),</span><span class="n">num_of_features</span><span class="p">))</span>
<span class="c1"># Put the predictions there</span>
<span class="n">trainPredict_extended</span><span class="p">[:,</span><span class="n">pred_col</span><span class="p">]</span> <span class="o">=</span> <span class="n">trainPredict</span><span class="p">[:,</span><span class="mi">0</span><span class="p">]</span>
<span class="c1"># Inverse transform it and select the 3rd column.</span>
<span class="n">trainPredict</span> <span class="o">=</span> <span class="n">scaler</span><span class="o">.</span><span class="n">inverse_transform</span><span class="p">(</span><span class="n">trainPredict_extended</span><span class="p">)</span> <span class="p">[:,</span><span class="n">pred_col</span><span class="p">]</span>

<span class="c1"># Get something which has as many features as dataset</span>
<span class="n">testPredict_extended</span> <span class="o">=</span> <span class="n">np</span><span class="o">.</span><span class="n">zeros</span><span class="p">((</span><span class="nb">len</span><span class="p">(</span><span class="n">testPredict</span><span class="p">),</span><span class="n">num_of_features</span><span class="p">))</span>
<span class="c1"># Put the predictions there</span>
<span class="n">testPredict_extended</span><span class="p">[:,</span><span class="n">pred_col</span><span class="p">]</span> <span class="o">=</span> <span class="n">testPredict</span><span class="p">[:,</span><span class="mi">0</span><span class="p">]</span>
<span class="c1"># Inverse transform it and select the pred_col column.</span>
<span class="n">testPredict</span> <span class="o">=</span> <span class="n">scaler</span><span class="o">.</span><span class="n">inverse_transform</span><span class="p">(</span><span class="n">testPredict_extended</span><span class="p">)[:,</span><span class="n">pred_col</span><span class="p">]</span> 

<span class="n">trainY_extended</span> <span class="o">=</span> <span class="n">np</span><span class="o">.</span><span class="n">zeros</span><span class="p">((</span><span class="nb">len</span><span class="p">(</span><span class="n">trainY</span><span class="p">),</span><span class="n">num_of_features</span><span class="p">))</span>
<span class="n">trainY_extended</span><span class="p">[:,</span><span class="n">pred_col</span><span class="p">]</span><span class="o">=</span><span class="n">trainY</span>
<span class="n">trainY</span> <span class="o">=</span> <span class="n">scaler</span><span class="o">.</span><span class="n">inverse_transform</span><span class="p">(</span><span class="n">trainY_extended</span><span class="p">)[:,</span><span class="n">pred_col</span><span class="p">]</span>

<span class="n">testY_extended</span> <span class="o">=</span> <span class="n">np</span><span class="o">.</span><span class="n">zeros</span><span class="p">((</span><span class="nb">len</span><span class="p">(</span><span class="n">testY</span><span class="p">),</span><span class="n">num_of_features</span><span class="p">))</span>
<span class="n">testY_extended</span><span class="p">[:,</span><span class="n">pred_col</span><span class="p">]</span><span class="o">=</span><span class="n">testY</span>
<span class="n">testY</span> <span class="o">=</span> <span class="n">scaler</span><span class="o">.</span><span class="n">inverse_transform</span><span class="p">(</span><span class="n">testY_extended</span><span class="p">)[:,</span><span class="n">pred_col</span><span class="p">]</span>

<span class="c1"># calculate root mean squared error</span>
<span class="n">trainScore_RMSE</span> <span class="o">=</span> <span class="n">math</span><span class="o">.</span><span class="n">sqrt</span><span class="p">(</span><span class="n">mean_squared_error</span><span class="p">(</span><span class="n">trainY</span><span class="p">,</span> <span class="n">trainPredict</span><span class="p">))</span>
<span class="n">testScore_RMSE</span> <span class="o">=</span> <span class="n">math</span><span class="o">.</span><span class="n">sqrt</span><span class="p">(</span><span class="n">mean_squared_error</span><span class="p">(</span><span class="n">testY</span><span class="p">,</span> <span class="n">testPredict</span><span class="p">))</span>

<span class="c1"># calculate absolute mean error</span>
<span class="n">trainScore_MAE</span> <span class="o">=</span> <span class="n">np</span><span class="o">.</span><span class="n">sum</span><span class="p">(</span><span class="n">np</span><span class="o">.</span><span class="n">absolute</span><span class="p">(</span><span class="n">trainY</span> <span class="o">-</span> <span class="n">trainPredict</span><span class="p">))</span><span class="o">/</span><span class="nb">len</span><span class="p">(</span><span class="n">trainY</span><span class="p">)</span>
<span class="n">testScore_MAE</span> <span class="o">=</span> <span class="n">np</span><span class="o">.</span><span class="n">sum</span><span class="p">(</span><span class="n">np</span><span class="o">.</span><span class="n">absolute</span><span class="p">(</span><span class="n">testY</span> <span class="o">-</span> <span class="n">testPredict</span><span class="p">))</span><span class="o">/</span><span class="nb">len</span><span class="p">(</span><span class="n">testY</span><span class="p">)</span>
</pre></div>

    </div>
</div>
</div>

</div>
<div class="cell border-box-sizing code_cell rendered">
<div class="input">
<div class="prompt input_prompt">In&nbsp;[13]:</div>
<div class="inner_cell">
    <div class="input_area">
<div class=" highlight hl-ipython3"><pre><span></span><span class="c1"># shift train predictions for plotting</span>
<span class="n">trainPredictPlot</span> <span class="o">=</span> <span class="n">np</span><span class="o">.</span><span class="n">empty_like</span><span class="p">(</span><span class="n">dataset</span><span class="p">)</span>
<span class="n">trainPredictPlot</span><span class="p">[:,</span> <span class="p">:]</span> <span class="o">=</span> <span class="n">np</span><span class="o">.</span><span class="n">nan</span>
<span class="n">trainPredictPlot</span><span class="p">[</span><span class="n">look_back</span><span class="p">:</span><span class="nb">len</span><span class="p">(</span><span class="n">trainPredict</span><span class="p">)</span><span class="o">+</span><span class="n">look_back</span><span class="p">,</span> <span class="n">pred_col</span><span class="p">]</span> <span class="o">=</span> <span class="n">trainPredict</span>

<span class="c1"># shift test predictions for plotting</span>
<span class="n">testPredictPlot</span> <span class="o">=</span> <span class="n">np</span><span class="o">.</span><span class="n">empty_like</span><span class="p">(</span><span class="n">dataset</span><span class="p">)</span>
<span class="n">testPredictPlot</span><span class="p">[:,</span> <span class="p">:]</span> <span class="o">=</span> <span class="n">np</span><span class="o">.</span><span class="n">nan</span>
<span class="n">testPredictPlot</span><span class="p">[</span><span class="nb">len</span><span class="p">(</span><span class="n">trainPredict</span><span class="p">)</span><span class="o">+</span><span class="p">(</span><span class="n">look_back</span><span class="o">*</span><span class="mi">2</span><span class="p">)</span><span class="o">+</span><span class="mi">1</span><span class="p">:</span><span class="nb">len</span><span class="p">(</span><span class="n">dataset</span><span class="p">)</span><span class="o">-</span><span class="mi">1</span><span class="p">,</span> <span class="n">pred_col</span><span class="p">]</span> <span class="o">=</span> <span class="n">testPredict</span>

<span class="c1"># contruct pandas dataframe for plotting</span>
<span class="n">time_df</span> <span class="o">=</span> <span class="n">pd</span><span class="o">.</span><span class="n">DataFrame</span><span class="p">(</span><span class="n">org_df</span><span class="o">.</span><span class="n">index</span><span class="p">)</span>
<span class="n">time_df</span><span class="p">[</span><span class="s1">&#39;Actual&#39;</span><span class="p">]</span> <span class="o">=</span> <span class="n">scaler</span><span class="o">.</span><span class="n">inverse_transform</span><span class="p">(</span><span class="n">dataset</span><span class="p">)[:,</span><span class="n">pred_col</span><span class="p">]</span>
<span class="n">df1</span> <span class="o">=</span> <span class="n">pd</span><span class="o">.</span><span class="n">DataFrame</span><span class="p">(</span><span class="n">trainPredictPlot</span><span class="p">[:,</span><span class="n">pred_col</span><span class="p">],</span><span class="n">columns</span><span class="o">=</span><span class="p">[</span><span class="s1">&#39;Train&#39;</span><span class="p">])</span>
<span class="n">df2</span> <span class="o">=</span> <span class="n">pd</span><span class="o">.</span><span class="n">DataFrame</span><span class="p">(</span><span class="n">testPredictPlot</span><span class="p">[:,</span><span class="n">pred_col</span><span class="p">],</span><span class="n">columns</span><span class="o">=</span><span class="p">[</span><span class="s1">&#39;Test&#39;</span><span class="p">])</span>
<span class="n">time_df2</span> <span class="o">=</span> <span class="n">pd</span><span class="o">.</span><span class="n">concat</span><span class="p">([</span><span class="n">time_df</span><span class="p">,</span> <span class="n">df1</span><span class="p">,</span> <span class="n">df2</span><span class="p">],</span> <span class="n">axis</span><span class="o">=</span><span class="mi">1</span><span class="p">,</span> <span class="n">sort</span><span class="o">=</span><span class="kc">False</span><span class="p">)</span>
<span class="n">time_df2</span><span class="o">.</span><span class="n">set_index</span><span class="p">(</span><span class="s1">&#39;timestamp&#39;</span><span class="p">,</span><span class="n">inplace</span><span class="o">=</span><span class="kc">True</span><span class="p">)</span>

<span class="c1"># plot the output</span>
<span class="n">fig</span><span class="p">,</span> <span class="n">ax</span> <span class="o">=</span> <span class="n">plt</span><span class="o">.</span><span class="n">subplots</span><span class="p">(</span><span class="n">figsize</span><span class="o">=</span><span class="p">(</span><span class="mi">15</span><span class="p">,</span><span class="mi">7</span><span class="p">))</span>
<span class="n">time_df2</span><span class="o">.</span><span class="n">plot</span><span class="p">(</span><span class="n">ax</span><span class="o">=</span><span class="n">ax</span><span class="p">,</span><span class="n">rot</span><span class="o">=</span><span class="mi">90</span><span class="p">,</span><span class="n">alpha</span><span class="o">=</span><span class="mf">0.7</span><span class="p">)</span>
<span class="n">plt</span><span class="o">.</span><span class="n">xlabel</span><span class="p">(</span><span class="s1">&#39;Timestamp&#39;</span><span class="p">)</span>
<span class="n">plt</span><span class="o">.</span><span class="n">ylabel</span><span class="p">(</span><span class="s1">&#39;Bitcoin Value&#39;</span><span class="p">)</span>
<span class="n">plt</span><span class="o">.</span><span class="n">title</span><span class="p">(</span><span class="s1">&#39;Bitcoin Price Prediction&#39;</span><span class="p">)</span>
<span class="n">plt</span><span class="o">.</span><span class="n">savefig</span><span class="p">(</span><span class="n">expr_name</span> <span class="o">+</span> <span class="s1">&#39;.png&#39;</span><span class="p">,</span><span class="n">bbox_inches</span> <span class="o">=</span> <span class="s2">&quot;tight&quot;</span><span class="p">)</span>
</pre></div>

    </div>
</div>
</div>

<div class="output_wrapper">
<div class="output">


<div class="output_area">

    <div class="prompt"></div>




<div class="output_png output_subarea ">
<img src="data:image/png;base64,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
"
>
</div>

</div>

</div>
</div>

</div>
<div class="cell border-box-sizing code_cell rendered">
<div class="input">
<div class="prompt input_prompt">In&nbsp;[14]:</div>
<div class="inner_cell">
    <div class="input_area">
<div class=" highlight hl-ipython3"><pre><span></span><span class="nb">print</span><span class="p">(</span><span class="s1">&#39;-&#39;</span> <span class="o">*</span> <span class="mi">50</span><span class="p">)</span>
<span class="nb">print</span><span class="p">(</span><span class="s1">&#39;Experiment name:&#39;</span><span class="p">,</span> <span class="n">expr_name</span><span class="p">)</span>

<span class="nb">print</span><span class="p">(</span><span class="s1">&#39;-&#39;</span> <span class="o">*</span> <span class="mi">50</span><span class="p">)</span>
<span class="nb">print</span><span class="p">(</span><span class="s1">&#39;look_back days:&#39;</span><span class="p">,</span> <span class="n">look_back</span><span class="o">/</span><span class="mi">24</span><span class="p">)</span>
<span class="nb">print</span><span class="p">(</span><span class="s1">&#39;lstm_layers:&#39;</span><span class="p">,</span> <span class="n">lstm_layers</span><span class="p">)</span>
<span class="nb">print</span><span class="p">(</span><span class="s1">&#39;epochs:&#39;</span><span class="p">,</span> <span class="n">epochs</span><span class="p">)</span>
<span class="nb">print</span><span class="p">(</span><span class="s1">&#39;batch_size:&#39;</span><span class="p">,</span> <span class="n">batch_size</span><span class="p">)</span>
<span class="nb">print</span><span class="p">(</span><span class="s1">&#39;dataset features&#39;</span><span class="p">,</span> <span class="nb">list</span><span class="p">(</span><span class="n">org_df</span><span class="o">.</span><span class="n">columns</span><span class="p">))</span>


<span class="nb">print</span><span class="p">(</span><span class="s1">&#39;-&#39;</span> <span class="o">*</span> <span class="mi">50</span><span class="p">)</span>
<span class="nb">print</span><span class="p">(</span><span class="s1">&#39;Train Score: </span><span class="si">%.2f</span><span class="s1"> RMSE&#39;</span> <span class="o">%</span> <span class="p">(</span><span class="n">trainScore_RMSE</span><span class="p">))</span>
<span class="nb">print</span><span class="p">(</span><span class="s1">&#39;Test Score: </span><span class="si">%.2f</span><span class="s1"> RMSE&#39;</span> <span class="o">%</span> <span class="p">(</span><span class="n">testScore_RMSE</span><span class="p">))</span>

<span class="nb">print</span><span class="p">(</span><span class="s1">&#39;-&#39;</span> <span class="o">*</span> <span class="mi">50</span><span class="p">)</span>
<span class="nb">print</span><span class="p">(</span><span class="s1">&#39;Train Score: </span><span class="si">%.2f</span><span class="s1"> MAE&#39;</span> <span class="o">%</span> <span class="p">(</span><span class="n">trainScore_MAE</span><span class="p">))</span>
<span class="nb">print</span><span class="p">(</span><span class="s1">&#39;Test Score: </span><span class="si">%.2f</span><span class="s1"> MAE&#39;</span> <span class="o">%</span> <span class="p">(</span><span class="n">testScore_MAE</span><span class="p">))</span>

<span class="nb">print</span><span class="p">(</span><span class="s1">&#39;-&#39;</span> <span class="o">*</span> <span class="mi">50</span><span class="p">)</span>
<span class="nb">print</span><span class="p">(</span><span class="s1">&#39;Model summary:&#39;</span><span class="p">)</span>
<span class="n">model</span><span class="o">.</span><span class="n">summary</span><span class="p">()</span>
</pre></div>

    </div>
</div>
</div>

<div class="output_wrapper">
<div class="output">


<div class="output_area">

    <div class="prompt"></div>


<div class="output_subarea output_stream output_stdout output_text">
<pre>--------------------------------------------------
Experiment name: expr_15
--------------------------------------------------
look_back days: 120.0
lstm_layers: 64
epochs: 5
batch_size: 64
dataset features [&#39;open_BTCUSDT&#39;, &#39;high_BTCUSDT&#39;, &#39;low_BTCUSDT&#39;, &#39;close_BTCUSDT&#39;, &#39;volume_BTCUSDT&#39;, &#39;close_LTCUSD&#39;, &#39;volume_LTCUSD&#39;, &#39;close_ETHUSD&#39;, &#39;volume_ETHUSD&#39;, &#39;flair&#39;, &#39;tb_polarity&#39;, &#39;tb_subjectivity&#39;, &#39;sid_pos&#39;, &#39;sid_neg&#39;]
--------------------------------------------------
Train Score: 433.69 RMSE
Test Score: 1176.97 RMSE
--------------------------------------------------
Train Score: 329.24 MAE
Test Score: 1170.99 MAE
--------------------------------------------------
Model summary:
Model: &#34;sequential_1&#34;
_________________________________________________________________
Layer (type)                 Output Shape              Param #   
=================================================================
gru_1 (GRU)                  (None, 2880, 64)          15168     
_________________________________________________________________
gru_2 (GRU)                  (None, 64)                24768     
_________________________________________________________________
dense_1 (Dense)              (None, 1)                 65        
=================================================================
Total params: 40,001
Trainable params: 40,001
Non-trainable params: 0
_________________________________________________________________
</pre>
</div>
</div>

</div>
</div>

</div>
<div class="cell border-box-sizing code_cell rendered">
<div class="input">
<div class="prompt input_prompt">In&nbsp;[&nbsp;]:</div>
<div class="inner_cell">
    <div class="input_area">
<div class=" highlight hl-ipython3"><pre><span></span> 
</pre></div>

    </div>
</div>
</div>

</div>
    </div>
  </div>
</body>

 


</html>
